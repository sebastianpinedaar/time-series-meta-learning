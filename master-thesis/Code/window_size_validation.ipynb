{
 "cells": [
  {
   "cell_type": "code",
   "execution_count": 58,
   "metadata": {},
   "outputs": [],
   "source": [
    "import numpy as np\n",
    "import pandas as pd\n",
    "import matplotlib.pyplot as plt\n",
    "import load_data as ld\n",
    "from pytorchtools import EarlyStopping\n",
    "from torch.optim.lr_scheduler import ReduceLROnPlateau\n",
    "import torch.nn as nn\n",
    "import torch.optim as optim\n",
    "from metrics import mae\n",
    "from torch.utils.data import Dataset, DataLoader, ConcatDataset\n",
    "import torch"
   ]
  },
  {
   "cell_type": "code",
   "execution_count": 91,
   "metadata": {},
   "outputs": [],
   "source": [
    "window_size = 50\n",
    "task_size = None\n",
    "stride = 1\n",
    "#window_size = 20\n",
    "batch_size = 1024\n",
    "output_dim = 1\n",
    "input_dim = 14\n",
    "learning_rate = 0.0001\n",
    "max_epochs = 500\n"
   ]
  },
  {
   "cell_type": "code",
   "execution_count": 78,
   "metadata": {},
   "outputs": [
    {
     "name": "stderr",
     "output_type": "stream",
     "text": [
      "C:\\Users\\Sebastian\\Anaconda3\\envs\\pytorch12\\lib\\site-packages\\pandas\\core\\indexing.py:671: SettingWithCopyWarning: \n",
      "A value is trying to be set on a copy of a slice from a DataFrame\n",
      "\n",
      "See the caveats in the documentation: https://pandas.pydata.org/pandas-docs/stable/user_guide/indexing.html#returning-a-view-versus-a-copy\n",
      "  self._setitem_with_indexer(indexer, value)\n"
     ]
    },
    {
     "name": "stdout",
     "output_type": "stream",
     "text": [
      "x shape: (52534, 50, 14)\n",
      "y shape: (52534, 1)\n",
      "x shape: (52534, 50, 14)\n",
      "y shape: (52534, 1)\n",
      "x shape: (52534, 50, 14)\n",
      "y shape: (52534, 1)\n",
      "x shape: (52534, 50, 14)\n",
      "y shape: (52534, 1)\n",
      "x shape: (52534, 50, 14)\n",
      "y shape: (52534, 1)\n"
     ]
    }
   ],
   "source": [
    "\n",
    "train_dataset, validation_dataset, test_dataset = ld.load_data_pollution(window_size, task_size, stride=1, mode=\"no-meta-learning\")\n",
    "\n",
    "train_dataset.x = train_dataset.x.reshape(-1, train_dataset.dim*window_size)\n",
    "validation_dataset.x = validation_dataset.x.reshape(-1, validation_dataset.dim*window_size)"
   ]
  },
  {
   "cell_type": "code",
   "execution_count": 92,
   "metadata": {},
   "outputs": [],
   "source": [
    "model_file = \"../Models/linear_model.pt\"\n",
    "patience = 10\n",
    "early_stopping = EarlyStopping(patience=patience, model_file=model_file, verbose=False)"
   ]
  },
  {
   "cell_type": "code",
   "execution_count": 93,
   "metadata": {},
   "outputs": [],
   "source": [
    "class LinearModel(nn.Module):\n",
    "    \n",
    "    def __init__(self, input_dim, output_dim, seq_len):\n",
    "        \n",
    "        super(LinearModel, self).__init__()\n",
    "        self.n_features = input_dim*seq_len\n",
    "        self.linear = nn.Linear(self.n_features, output_dim)\n",
    "        \n",
    "    def forward(self, x):\n",
    "        \n",
    "        out = self.linear(x.view(-1,self.n_features))\n",
    "        return out"
   ]
  },
  {
   "cell_type": "code",
   "execution_count": 94,
   "metadata": {},
   "outputs": [],
   "source": [
    "model = LinearModel(input_dim, output_dim, window_size )\n",
    "optimizer = optim.Adam(model.parameters(), lr=learning_rate)\n",
    "scheduler = ReduceLROnPlateau(optimizer, 'min', patience = 5)\n",
    "\n",
    "params = {'batch_size': batch_size,\n",
    "          'shuffle': True,\n",
    "          'num_workers': 0}\n",
    "train_loader = DataLoader(train_dataset, **params)\n",
    "val_loader = DataLoader(validation_dataset, **params)\n"
   ]
  },
  {
   "cell_type": "code",
   "execution_count": 95,
   "metadata": {},
   "outputs": [
    {
     "name": "stderr",
     "output_type": "stream",
     "text": [
      "C:\\Users\\Sebastian\\Anaconda3\\envs\\pytorch12\\lib\\site-packages\\ipykernel_launcher.py:9: UserWarning: To copy construct from a tensor, it is recommended to use sourceTensor.clone().detach() or sourceTensor.clone().detach().requires_grad_(True), rather than torch.tensor(sourceTensor).\n",
      "  if __name__ == '__main__':\n"
     ]
    },
    {
     "name": "stdout",
     "output_type": "stream",
     "text": [
      "Train loss: 0.18704155853774299\n"
     ]
    },
    {
     "name": "stderr",
     "output_type": "stream",
     "text": [
      "C:\\Users\\Sebastian\\Anaconda3\\envs\\pytorch12\\lib\\site-packages\\ipykernel_launcher.py:23: UserWarning: To copy construct from a tensor, it is recommended to use sourceTensor.clone().detach() or sourceTensor.clone().detach().requires_grad_(True), rather than torch.tensor(sourceTensor).\n"
     ]
    },
    {
     "name": "stdout",
     "output_type": "stream",
     "text": [
      "0.1149168621955607\n",
      "Train loss: 0.11015040830661375\n",
      "0.07566579304674952\n",
      "Train loss: 0.07681438394759861\n",
      "0.0576220886179698\n",
      "Train loss: 0.0630681213908179\n",
      "0.0485698562489137\n",
      "Train loss: 0.057620661728868566\n",
      "0.044463968871049794\n",
      "Train loss: 0.05503770291692375\n",
      "0.042972651135857035\n",
      "Train loss: 0.05340026704093216\n",
      "0.040453702087567676\n",
      "Train loss: 0.052112684906940834\n",
      "0.03877282658538044\n",
      "Train loss: 0.05105176829909277\n",
      "0.039005717300279956\n",
      "EarlyStopping counter: 1 out of 10\n",
      "Train loss: 0.05114051879111877\n",
      "0.03783508968546379\n",
      "Train loss: 0.0502357460749215\n",
      "0.037324091349161995\n",
      "Train loss: 0.04944461902169266\n",
      "0.036814146525580634\n",
      "Train loss: 0.04883152438693978\n",
      "0.035824179168427936\n",
      "Train loss: 0.048340661275382425\n",
      "0.03545933120653573\n",
      "Train loss: 0.04795435502935336\n",
      "0.03674184178555044\n",
      "EarlyStopping counter: 1 out of 10\n",
      "Train loss: 0.04788645282019936\n",
      "0.03579885051889414\n",
      "EarlyStopping counter: 2 out of 10\n",
      "Train loss: 0.04790829389787612\n",
      "0.03606833542810272\n",
      "EarlyStopping counter: 3 out of 10\n",
      "Train loss: 0.047879261084284704\n",
      "0.03608802890189983\n",
      "EarlyStopping counter: 4 out of 10\n",
      "Train loss: 0.047870829449213344\n",
      "0.03506250277691453\n",
      "Train loss: 0.04756562173776134\n",
      "0.035450456287919915\n",
      "EarlyStopping counter: 1 out of 10\n",
      "Train loss: 0.047591524644144054\n",
      "0.036823163943251545\n",
      "EarlyStopping counter: 2 out of 10\n",
      "Train loss: 0.04763095087749881\n",
      "0.03509423298815922\n",
      "EarlyStopping counter: 3 out of 10\n",
      "Train loss: 0.04760426295566481\n",
      "0.035538201705832495\n",
      "EarlyStopping counter: 4 out of 10\n",
      "Train loss: 0.04753970949231729\n",
      "0.035477175170919986\n",
      "EarlyStopping counter: 5 out of 10\n",
      "Train loss: 0.047535118673523544\n",
      "0.03548595617582825\n",
      "EarlyStopping counter: 6 out of 10\n",
      "Train loss: 0.04738441912830084\n",
      "0.03587914153490467\n",
      "EarlyStopping counter: 7 out of 10\n",
      "Train loss: 0.04737392931565234\n",
      "0.03553514027454717\n",
      "EarlyStopping counter: 8 out of 10\n",
      "Train loss: 0.04736971820780716\n",
      "0.03561807502996174\n",
      "EarlyStopping counter: 9 out of 10\n",
      "Train loss: 0.047373680719217645\n",
      "0.03566230017035631\n",
      "EarlyStopping counter: 10 out of 10\n",
      "Early stopping\n"
     ]
    }
   ],
   "source": [
    "val_loss_list = []\n",
    "for i in range(max_epochs):\n",
    "    \n",
    "    #train_iter = iter(train_loader)\n",
    "    train_loss = 0.0\n",
    "    for x_train, y_train in train_loader:\n",
    "    \n",
    "        model.zero_grad()\n",
    "        x_train, y_train = torch.tensor(x_train).float(), torch.tensor(y_train).float()\n",
    "\n",
    "        #model.batch_size = x_train.shape[0]\n",
    "        #hidden_init = model.init_hidden()\n",
    "        y_pred = model(x_train)\n",
    "        loss = mae(y_pred, y_train)\n",
    "        loss.backward()\n",
    "        optimizer.step()\n",
    "        train_loss += loss.data.numpy()*x_train.shape[0]\n",
    "    print(\"Train loss:\", train_loss/len(train_dataset))\n",
    "        \n",
    "        \n",
    "    val_loss = 0.0\n",
    "    for x_val, y_val in val_loader:\n",
    "        x_val, y_val = torch.tensor(x_val).float(), torch.tensor(y_val).float()\n",
    "        #if(x_val.shape[0]==batch_size):\n",
    "        model.batch_size = x_val.shape[0]\n",
    "        y_pred = model(x_val)\n",
    "        val_loss += mae(y_pred, y_val).data.numpy()*x_val.shape[0]\n",
    "    val_loss /= (len(validation_dataset))\n",
    "    \n",
    "    #if(val_loss>prev_loss):\n",
    "    #    break\n",
    "        \n",
    "    prev_loss = val_loss\n",
    "    val_loss_list.append(val_loss)\n",
    "    print(val_loss)\n",
    "    \n",
    "    scheduler.step(val_loss)\n",
    "    early_stopping(val_loss, model)\n",
    "\n",
    "    if early_stopping.early_stop:\n",
    "            print(\"Early stopping\")\n",
    "            break\n",
    "\n",
    "    # load the last checkpoint with the best model\n",
    "    model.load_state_dict(torch.load(model_file))\n"
   ]
  },
  {
   "cell_type": "code",
   "execution_count": 96,
   "metadata": {},
   "outputs": [
    {
     "data": {
      "text/plain": [
       "[<matplotlib.lines.Line2D at 0x209013c1488>]"
      ]
     },
     "execution_count": 96,
     "metadata": {},
     "output_type": "execute_result"
    },
    {
     "data": {
      "image/png": "[encoded data removed]",
      "text/plain": [
       "<Figure size 432x288 with 1 Axes>"
      ]
     },
     "metadata": {
      "needs_background": "light"
     },
     "output_type": "display_data"
    }
   ],
   "source": [
    "plt.plot(val_loss_list)"
   ]
  },
  {
   "cell_type": "code",
   "execution_count": 97,
   "metadata": {},
   "outputs": [
    {
     "data": {
      "text/plain": [
       "<All keys matched successfully>"
      ]
     },
     "execution_count": 97,
     "metadata": {},
     "output_type": "execute_result"
    }
   ],
   "source": [
    "model.load_state_dict(torch.load(model_file))"
   ]
  },
  {
   "cell_type": "code",
   "execution_count": 98,
   "metadata": {
    "scrolled": true
   },
   "outputs": [
    {
     "name": "stderr",
     "output_type": "stream",
     "text": [
      "C:\\Users\\Sebastian\\Anaconda3\\envs\\pytorch12\\lib\\site-packages\\ipykernel_launcher.py:3: UserWarning: To copy construct from a tensor, it is recommended to use sourceTensor.clone().detach() or sourceTensor.clone().detach().requires_grad_(True), rather than torch.tensor(sourceTensor).\n",
      "  This is separate from the ipykernel package so we can avoid doing imports until\n"
     ]
    }
   ],
   "source": [
    "val_loss = 0.0\n",
    "for x_val, y_val in val_loader:\n",
    "    x_val, y_val = torch.tensor(x_val).float(), torch.tensor(y_val).float()\n",
    "    #if(x_val.shape[0]==batch_size):\n",
    "    model.batch_size = x_val.shape[0]\n",
    "    y_pred = model(x_val)\n",
    "    val_loss += mae(y_pred, y_val).data.numpy()*x_val.shape[0]\n",
    "val_loss /= (len(validation_dataset))"
   ]
  },
  {
   "cell_type": "code",
   "execution_count": 99,
   "metadata": {},
   "outputs": [
    {
     "data": {
      "text/plain": [
       "0.0350625025631858"
      ]
     },
     "execution_count": 99,
     "metadata": {},
     "output_type": "execute_result"
    }
   ],
   "source": [
    "val_loss"
   ]
  },
  {
   "cell_type": "code",
   "execution_count": null,
   "metadata": {},
   "outputs": [],
   "source": []
  }
 ],
 "metadata": {
  "kernelspec": {
   "display_name": "Python 3",
   "language": "python",
   "name": "python3"
  },
  "language_info": {
   "codemirror_mode": {
    "name": "ipython",
    "version": 3
   },
   "file_extension": ".py",
   "mimetype": "text/x-python",
   "name": "python",
   "nbconvert_exporter": "python",
   "pygments_lexer": "ipython3",
   "version": "3.7.7"
  }
 },
 "nbformat": 4,
 "nbformat_minor": 4
}
