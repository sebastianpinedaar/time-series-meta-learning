{
 "cells": [
  {
   "cell_type": "code",
   "execution_count": 12,
   "metadata": {},
   "outputs": [],
   "source": [
    "import numpy as np\n",
    "import pandas as pd\n",
    "import matplotlib.pyplot as plt\n",
    "import seaborn as sns\n",
    "import os\n",
    "import pickle\n",
    "\n",
    "%matplotlib inline"
   ]
  },
  {
   "cell_type": "code",
   "execution_count": 13,
   "metadata": {},
   "outputs": [],
   "source": [
    "dataset_names = [(\"POLLUTION\", 5, 25)]\n",
    "dataset_name, window_size, task_size = dataset_names[0]\n",
    "\n",
    "train_data = pickle.load(  open( \"../Data/TRAIN-\"+dataset_name+\"-W\"+str(window_size)+\"-T\"+str(task_size)+\"-NOML.pickle\", \"rb\" ) )"
   ]
  },
  {
   "cell_type": "code",
   "execution_count": 14,
   "metadata": {},
   "outputs": [
    {
     "data": {
      "text/plain": [
       "(array([-100,  -99,  -98,  -97,  -96,  -95,  -94,  -93,  -92,  -91,  -90,\n",
       "         -89,  -88,  -87,  -86,  -85,  -84,  -83,  -82,  -81,  -80,  -79,\n",
       "         -78,  -77,  -76,  -75,  -74,  -73,  -72,  -71,  -70,  -69,  -68,\n",
       "         -67,  -66,  -65,  -64,  -63,  -62,  -61,  -60,  -59,  -58,  -57,\n",
       "         -56,  -55,  -54,  -53,  -52,  -51,  -50,  -49,  -48,  -47,  -46,\n",
       "         -45,  -44,  -43,  -42,  -41,  -40,  -39,  -38,  -37,  -36,  -35,\n",
       "         -34,  -33,  -32,  -31,  -30,  -29,  -28,  -27,  -26,  -25,  -24,\n",
       "         -23,  -22,  -21,  -20,  -19,  -18,  -17,  -16,  -15,  -14,  -13,\n",
       "         -12,  -11,  -10,   -9,   -8,   -7,   -6,   -5,   -4,   -3,   -2,\n",
       "          -1,    0,    1,    2,    3,    4,    5,    6,    7,    8,    9,\n",
       "          10,   11,   12,   13,   14,   15,   16,   17,   18,   19,   20,\n",
       "          21,   22,   23,   24,   25,   26,   27,   28,   29,   30,   31,\n",
       "          32,   33,   34,   35,   36,   37,   38,   39,   40,   41,   42,\n",
       "          43,   44,   45,   46,   47,   48,   49,   50,   51,   52,   53,\n",
       "          54,   55,   56,   57,   58,   59,   60,   61,   62,   63,   64,\n",
       "          65,   66,   67,   68,   69,   70,   71,   72,   73,   74,   75,\n",
       "          76,   77,   78,   79,   80,   81,   82,   83,   84,   85,   86,\n",
       "          87,   88,   89,   90,   91,   92,   93,   94,   95,   96,   97,\n",
       "          98,   99,  100]),\n",
       " array([0.17736416, 0.18122685, 0.18407609, 0.18671359, 0.18865451,\n",
       "        0.18897286, 0.18812086, 0.18607989, 0.18347934, 0.18067305,\n",
       "        0.17819955, 0.17654243, 0.17530246, 0.17516203, 0.17608122,\n",
       "        0.17763812, 0.17948566, 0.18217667, 0.1851906 , 0.18825788,\n",
       "        0.19249923, 0.19709893, 0.20255358, 0.20807493, 0.21368134,\n",
       "        0.2193102 , 0.22431946, 0.2280407 , 0.22990486, 0.23031559,\n",
       "        0.23002882, 0.22890439, 0.22734595, 0.225937  , 0.22487769,\n",
       "        0.22411735, 0.22359035, 0.22351487, 0.22409145, 0.22556256,\n",
       "        0.22808795, 0.23150658, 0.23546349, 0.24044831, 0.24617184,\n",
       "        0.25300666, 0.25959212, 0.26648502, 0.27470342, 0.28288775,\n",
       "        0.29015207, 0.29682887, 0.30203767, 0.30558205, 0.30787391,\n",
       "        0.30961147, 0.3106287 , 0.31128104, 0.31262716, 0.31473727,\n",
       "        0.31733214, 0.32092949, 0.32557035, 0.33099927, 0.33789306,\n",
       "        0.34618774, 0.35569174, 0.36617751, 0.37767421, 0.39067783,\n",
       "        0.40449335, 0.41943266, 0.43453346, 0.4504138 , 0.46563998,\n",
       "        0.48051258, 0.49332751, 0.50435359, 0.51355008, 0.52273794,\n",
       "        0.5305141 , 0.53817928, 0.546365  , 0.55550281, 0.56618551,\n",
       "        0.57854652, 0.5924962 , 0.60822411, 0.62527373, 0.64427763,\n",
       "        0.6652256 , 0.68834581, 0.71387024, 0.74173674, 0.77207081,\n",
       "        0.80523898, 0.840607  , 0.87789958, 0.91707242, 0.95747215,\n",
       "        1.        , 0.95747215, 0.91707242, 0.87789958, 0.840607  ,\n",
       "        0.80523898, 0.77207081, 0.74173674, 0.71387024, 0.68834581,\n",
       "        0.6652256 , 0.64427763, 0.62527373, 0.60822411, 0.5924962 ,\n",
       "        0.57854652, 0.56618551, 0.55550281, 0.546365  , 0.53817928,\n",
       "        0.5305141 , 0.52273794, 0.51355008, 0.50435359, 0.49332751,\n",
       "        0.48051258, 0.46563998, 0.4504138 , 0.43453346, 0.41943266,\n",
       "        0.40449335, 0.39067783, 0.37767421, 0.36617751, 0.35569174,\n",
       "        0.34618774, 0.33789306, 0.33099927, 0.32557035, 0.32092949,\n",
       "        0.31733214, 0.31473727, 0.31262716, 0.31128104, 0.3106287 ,\n",
       "        0.30961147, 0.30787391, 0.30558205, 0.30203767, 0.29682887,\n",
       "        0.29015207, 0.28288775, 0.27470342, 0.26648502, 0.25959212,\n",
       "        0.25300666, 0.24617184, 0.24044831, 0.23546349, 0.23150658,\n",
       "        0.22808795, 0.22556256, 0.22409145, 0.22351487, 0.22359035,\n",
       "        0.22411735, 0.22487769, 0.225937  , 0.22734595, 0.22890439,\n",
       "        0.23002882, 0.23031559, 0.22990486, 0.2280407 , 0.22431946,\n",
       "        0.2193102 , 0.21368134, 0.20807493, 0.20255358, 0.19709893,\n",
       "        0.19249923, 0.18825788, 0.1851906 , 0.18217667, 0.17948566,\n",
       "        0.17763812, 0.17608122, 0.17516203, 0.17530246, 0.17654243,\n",
       "        0.17819955, 0.18067305, 0.18347934, 0.18607989, 0.18812086,\n",
       "        0.18897286, 0.18865451, 0.18671359, 0.18407609, 0.18122685,\n",
       "        0.17736416]),\n",
       " <matplotlib.collections.LineCollection at 0x16201e725c8>,\n",
       " <matplotlib.lines.Line2D at 0x16202e2e288>)"
      ]
     },
     "execution_count": 14,
     "metadata": {},
     "output_type": "execute_result"
    },
    {
     "data": {
      "image/png": "[encoded data removed]",
      "text/plain": [
       "<Figure size 432x288 with 1 Axes>"
      ]
     },
     "metadata": {
      "needs_background": "light"
     },
     "output_type": "display_data"
    }
   ],
   "source": [
    "y = train_data.y.reshape(-1)\n",
    "y = y-np.mean(y)\n",
    "plt.acorr(y, maxlags=100)"
   ]
  },
  {
   "cell_type": "code",
   "execution_count": 15,
   "metadata": {},
   "outputs": [
    {
     "data": {
      "text/plain": [
       "(119483, 1)"
      ]
     },
     "execution_count": 15,
     "metadata": {},
     "output_type": "execute_result"
    }
   ],
   "source": [
    "train_data.y.shape"
   ]
  },
  {
   "cell_type": "code",
   "execution_count": 16,
   "metadata": {},
   "outputs": [],
   "source": [
    "dataset_names = [(\"HR\", 32, 25)]\n",
    "dataset_name, window_size, task_size = dataset_names[0]\n",
    "\n",
    "train_data = pickle.load(  open( \"../Data/TRAIN-\"+dataset_name+\"-W\"+str(window_size)+\"-T\"+str(task_size)+\"-NOML.pickle\", \"rb\" ) )"
   ]
  },
  {
   "cell_type": "code",
   "execution_count": 17,
   "metadata": {},
   "outputs": [
    {
     "data": {
      "text/plain": [
       "(array([-2000, -1999, -1998, ...,  1998,  1999,  2000]),\n",
       " array([0.58887079, 0.58898939, 0.5891077 , ..., 0.5891077 , 0.58898939,\n",
       "        0.58887079]),\n",
       " <matplotlib.collections.LineCollection at 0x16201287e08>,\n",
       " <matplotlib.lines.Line2D at 0x16203301288>)"
      ]
     },
     "execution_count": 17,
     "metadata": {},
     "output_type": "execute_result"
    },
    {
     "data": {
      "image/png": "[encoded data removed]",
      "text/plain": [
       "<Figure size 432x288 with 1 Axes>"
      ]
     },
     "metadata": {
      "needs_background": "light"
     },
     "output_type": "display_data"
    }
   ],
   "source": [
    "y = train_data.y.reshape(-1)\n",
    "y = y-np.mean(y)\n",
    "plt.acorr(y, maxlags=2000)"
   ]
  },
  {
   "cell_type": "code",
   "execution_count": 18,
   "metadata": {},
   "outputs": [],
   "source": [
    "dataset_names = [(\"BATTERY\", 20, 25)]\n",
    "dataset_name, window_size, task_size = dataset_names[0]\n",
    "\n",
    "train_data = pickle.load(  open( \"../Data/TRAIN-\"+dataset_name+\"-W\"+str(window_size)+\"-T\"+str(task_size)+\"-NOML.pickle\", \"rb\" ) )"
   ]
  },
  {
   "cell_type": "code",
   "execution_count": null,
   "metadata": {},
   "outputs": [],
   "source": [
    "y = train_data.y.reshape(-1)\n",
    "y = y-np.mean(y)\n",
    "plt.acorr(y, maxlags=2000)"
   ]
  },
  {
   "cell_type": "code",
   "execution_count": null,
   "metadata": {},
   "outputs": [],
   "source": []
  },
  {
   "cell_type": "code",
   "execution_count": null,
   "metadata": {},
   "outputs": [],
   "source": []
  }
 ],
 "metadata": {
  "kernelspec": {
   "display_name": "Python 3",
   "language": "python",
   "name": "python3"
  },
  "language_info": {
   "codemirror_mode": {
    "name": "ipython",
    "version": 3
   },
   "file_extension": ".py",
   "mimetype": "text/x-python",
   "name": "python",
   "nbconvert_exporter": "python",
   "pygments_lexer": "ipython3",
   "version": "3.7.7"
  }
 },
 "nbformat": 4,
 "nbformat_minor": 4
}
