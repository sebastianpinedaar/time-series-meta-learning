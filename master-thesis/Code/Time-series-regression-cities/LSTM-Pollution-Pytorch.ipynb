{
 "cells": [
  {
   "cell_type": "code",
   "execution_count": 35,
   "metadata": {},
   "outputs": [],
   "source": [
    "import numpy as np\n",
    "import pandas as pd\n",
    "import matplotlib.pyplot as plt\n",
    "import torch\n",
    "import torch.nn as nn\n",
    "import torch.nn.functional as F\n",
    "import torch.optim as optim\n",
    "import os\n",
    "from torch.utils.data import Dataset, DataLoader, ConcatDataset\n",
    "import time\n",
    "import winsound\n",
    "import copy\n",
    "from torch.optim.lr_scheduler import ReduceLROnPlateau"
   ]
  },
  {
   "cell_type": "code",
   "execution_count": 36,
   "metadata": {},
   "outputs": [
    {
     "name": "stdout",
     "output_type": "stream",
     "text": [
      "['.ipynb_checkpoints', '2016JD024877.pdf', 'BeijingPM20100101_20151231.csv', 'ChengduPM20100101_20151231.csv', 'Data-exploration-five-cities.ipynb', 'GuangzhouPM20100101_20151231.csv', 'ShanghaiPM20100101_20151231.csv', 'ShenyangPM20100101_20151231.csv']\n"
     ]
    }
   ],
   "source": [
    "\n",
    "path = \"C:/Users/Sebastian/Documents/Data Analytics Master/Semester4-Thesis/Datasets/FiveCitiePMData/\"\n",
    "files = os.listdir(path)\n",
    "print(files)"
   ]
  },
  {
   "cell_type": "code",
   "execution_count": 37,
   "metadata": {},
   "outputs": [
    {
     "name": "stdout",
     "output_type": "stream",
     "text": [
      "['BeijingPM20100101_20151231.csv', 'ChengduPM20100101_20151231.csv', 'GuangzhouPM20100101_20151231.csv', 'ShanghaiPM20100101_20151231.csv', 'ShenyangPM20100101_20151231.csv']\n"
     ]
    }
   ],
   "source": [
    "files = [file for file in filter(lambda x: x[-4:] ==\".csv\", files)]\n",
    "print(files)"
   ]
  },
  {
   "cell_type": "code",
   "execution_count": 38,
   "metadata": {},
   "outputs": [],
   "source": [
    "city1 = 'BeijingPM20100101_20151231.csv'\n",
    "city2 = 'ChengduPM20100101_20151231.csv'\n",
    "city3 = 'GuangzhouPM20100101_20151231.csv'\n",
    "city4 = 'ShanghaiPM20100101_20151231.csv'\n",
    "city5 = 'ShenyangPM20100101_20151231.csv'"
   ]
  },
  {
   "cell_type": "code",
   "execution_count": 118,
   "metadata": {},
   "outputs": [],
   "source": [
    "\n",
    "\n",
    "def windows (data, window_size, stride):\n",
    "    \n",
    "    x = np.array(data)\n",
    "    length = data.shape[0]\n",
    "    windows_list = []\n",
    "    \n",
    "    for i in range(0, length-window_size, stride):\n",
    "        windows_list.append(x[i:i+window_size][np.newaxis,:])\n",
    "        \n",
    "    return tuple(windows_list)\n",
    "\n",
    "\n",
    "class TSDataset(object):\n",
    "    \"\"\"An abstract class representing a Dataset.\n",
    "    All other datasets should subclass it. All subclasses should override\n",
    "    ``__len__``, that provides the size of the dataset, and ``__getitem__``,\n",
    "    supporting integer indexing in range from 0 to len(self) exclusive.\n",
    "    \"\"\"\n",
    "    \n",
    "    def __init__(self, data, window_size, stride, scale = 0, max_list=[], min_list = []):\n",
    "        \n",
    "        x_list = []\n",
    "        y_list = []\n",
    "        \n",
    "        for i in range(0, len(data)-window_size, stride):             \n",
    "            x_list.append(data[i:i+window_size, :-1][np.newaxis,:])\n",
    "            y_list.append(data[i+window_size,-1])\n",
    "        \n",
    "        self.x = np.vstack(x_list)\n",
    "        self.y = np.vstack(y_list)\n",
    "        \n",
    "        if scale:         \n",
    "            self.max_list = max_list\n",
    "            self.min_list = min_list\n",
    "            \n",
    "        else:\n",
    "            self.max_y = np.max(self.y)\n",
    "            self.max_list = [np.max(np.max(self.x, axis=1), axis=0), self.max_y]\n",
    "            #self.max_list[0] = [i if i!=0 else 0.00001 for i in self.max_list[0]  ]\n",
    "            \n",
    "            self.min_y = np.min(self.y)\n",
    "            self.min_list = [np.min(np.min(self.x, axis=1), axis=0), self.min_y]\n",
    "            #self.min_list[0] = [i if i!=0 else 0.00001 for i in self.min_list[0]  ]\n",
    "            \n",
    "        \n",
    "        \n",
    "        #self.x = np.divide(self.x, self.max_list[0])\n",
    "        #self.y = self.y/self.max_list[-1]\n",
    "        #self.y = (self.y-np.mean(self.y))/np.std(self.y)\n",
    "        \n",
    "        print(\"x shape:\", self.x.shape)\n",
    "        print(\"y shape:\", self.y.shape)\n",
    " \n",
    "\n",
    "    def __getitem__(self, index):\n",
    "        return self.x[index], self.y[index]\n",
    "\n",
    "    def __len__(self):\n",
    "        return self.y.shape[0]\n",
    "\n",
    "    def __add__(self, other):\n",
    "        object_copy = copy.deepcopy(self)\n",
    "        object_copy.x = np.concatenate([object_copy.x, other.x], axis=0)\n",
    "        object_copy.y = np.concatenate([object_copy.y, other.y], axis=0)\n",
    "        \n",
    "        object_copy.max_list[0] = np.max((object_copy.max_list[0], other.max_list[0]), axis=0)\n",
    "        object_copy.max_list[1] = np.max((object_copy.max_list[1], other.max_list[1]), axis=0)\n",
    "        object_copy.min_list[0] = np.min((object_copy.min_list[0], other.min_list[0]), axis=0)\n",
    "        object_copy.min_list[1] = np.min((object_copy.min_list[1], other.min_list[1]), axis=0)\n",
    "          \n",
    "        \n",
    "        return object_copy\n",
    "    \n",
    "    def normalize(self):\n",
    "        \n",
    "        self.x = np.divide(self.x - self.min_list[0], np.array(self.max_list[0])-np.array(self.min_list[0])+0.00001)\n",
    "        self.y = (self.y - self.min_list[-1])/(self.max_list[-1] - self.min_list[-1]+0.00001)        \n",
    "        \n",
    "\n",
    "\n",
    "def mae(y_pred, y_true):\n",
    "    loss = (torch.abs(y_pred - y_true)).mean()\n",
    "    return loss    \n",
    "\n",
    "class LSTMModel(nn.Module):\n",
    "    \n",
    "    def __init__(self, batch_size, seq_len, input_dim, n_layers, hidden_dim, output_dim, lin_hidden_dim = 100):\n",
    "        super(LSTMModel, self).__init__()\n",
    "\n",
    "        self.lstm = nn.LSTM(input_dim, hidden_dim, n_layers, batch_first=True)\n",
    "        self.linear = nn.Linear(hidden_dim, output_dim)#\n",
    "        self.hidden_dim = hidden_dim\n",
    "        self.batch_size = batch_size\n",
    "        self.n_layers = n_layers\n",
    "        self.hidden = self.init_hidden()\n",
    "        self.input_dim = input_dim\n",
    "        \n",
    "    def init_hidden(self):\n",
    "        # This is what we'll initialise our hidden state as\n",
    "        return (torch.zeros(self.n_layers, self.batch_size, self.hidden_dim),\n",
    "                torch.zeros(self.n_layers, self.batch_size, self.hidden_dim))\n",
    "        \n",
    "    def forward(self, x):\n",
    "        \n",
    "        #self.batch_size = len(x)\n",
    "        self.batch_size = len(x)\n",
    "        hidden = self.init_hidden()\n",
    "        output, (hn, cn) = self.lstm(x)\n",
    "        #out1 = self.linear(output\n",
    "        out1 = self.linear(hn[-1].view(len(x),-1))\n",
    "        #out2 = self.linear2(F.relu(out1))\n",
    "        \n",
    "        #print(output.shape)\n",
    "        #out = self.linear(output.view(len(x),-1))\n",
    "        return out1\n",
    "    \n",
    "class LinearModel(nn.Module):\n",
    "    \n",
    "    def __init__(self, input_dim, output_dim, seq_len):\n",
    "        \n",
    "        super(LinearModel, self).__init__()\n",
    "        self.n_features = input_dim*seq_len\n",
    "        self.linear = nn.Linear(self.n_features, output_dim)\n",
    "        \n",
    "    def forward(self, x):\n",
    "        \n",
    "        out = self.linear(x.view(-1,self.n_features))\n",
    "        return out\n",
    "       \n",
    "def count_parameters(model):\n",
    "    return sum(p.numel() for p in model.parameters() if p.requires_grad)\n",
    "\n",
    "def count_na(x):\n",
    "    \n",
    "    return np.sum(np.isnan(x))"
   ]
  },
  {
   "cell_type": "code",
   "execution_count": 119,
   "metadata": {},
   "outputs": [],
   "source": [
    "stride = 2\n",
    "window_size = 24\n",
    "backcast = window_size\n",
    "forecast = 1\n",
    "\n",
    "batch_size = 1024\n",
    "seq_len = backcast\n",
    "output_dim = forecast\n",
    "input_dim = 16\n",
    "n_layers = 2\n",
    "hidden_dim = 30\n",
    "\n",
    "var = ['month', 'day', 'hour', 'season', 'DEWP', 'HUMI',\n",
    "       'PRES', 'TEMP', 'cbwd', 'Iws', 'precipitation', 'Iprec', 'PM_US Post'] #PM_US Post is the targe\n",
    "\n",
    "cbwd_dict = {\"NE\":1, \"SE\":2, \"SW\":3, \"NW\":4, \"cv\":0}\n"
   ]
  },
  {
   "cell_type": "code",
   "execution_count": 120,
   "metadata": {},
   "outputs": [],
   "source": [
    "data = pd.read_csv(path+files[0])\n",
    "\n",
    "\n",
    "def pre_process(data, var):\n",
    "\n",
    "    #imputing target\n",
    "    data[(\"PM_US Post\")].loc[np.isnan(data[\"PM_US Post\"])] = 0\n",
    "\n",
    "    #imputing numerical vars\n",
    "    for i, v in enumerate(var):    \n",
    "        try:\n",
    "            data[v] = data[v].interpolate()\n",
    "        except:\n",
    "            pass\n",
    "\n",
    "    #new varibale for calm and variable wind\n",
    "    data[\"cv_wd\"] = (data[\"cbwd\"]==\"cv\").astype(int)\n",
    "\n",
    "    #inputting wind directioin\n",
    "    data[\"cbwd\"] = data[\"cbwd\"].replace(cbwd_dict)\n",
    "    \n",
    "    data[\"na_cbwd\"] = np.isnan(data[\"cbwd\"]).astype(int)\n",
    "    data[(\"cbwd\")].loc[np.isnan(data[\"cbwd\"])] = -1\n",
    "    \n",
    "    data[\"na_precipitation\"] = np.isnan(data[\"precipitation\"]).astype(int)\n",
    "    data[(\"precipitation\")].loc[np.isnan(data[\"precipitation\"])] = -1\n",
    "    \n",
    "    data[\"na_Iprec\"] = np.isnan(data[\"Iprec\"]).astype(int)\n",
    "    data[(\"Iprec\")].loc[np.isnan(data[\"Iprec\"])] = -1\n",
    "   \n",
    "    var = var[:-1] + [\"na_cbwd\", \"na_precipitation\", \"na_Iprec\", \"cv_wd\"] +[var[-1]]\n",
    "    #padding wind direction column\n",
    "    #print(\"NAs before padding:\", data.cbwd.isna().sum())\n",
    "    #data[\"cbwd\"] = data[\"cbwd\"].fillna(method=\"pad\", limit=100)\n",
    "    #print(\"NAs after padding:\", data.cbwd.isna().sum())\n",
    "\n",
    "    return data[var]"
   ]
  },
  {
   "cell_type": "code",
   "execution_count": 121,
   "metadata": {},
   "outputs": [
    {
     "name": "stdout",
     "output_type": "stream",
     "text": [
      "x shape: (15763, 24, 16)\n",
      "y shape: (15763, 1)\n",
      "x shape: (5247, 24, 16)\n",
      "y shape: (5247, 1)\n",
      "x shape: (5247, 24, 16)\n",
      "y shape: (5247, 1)\n",
      "Training size: (15763, 24, 16)\n"
     ]
    }
   ],
   "source": [
    "\n",
    "data = pd.read_csv(path+files[0])\n",
    "data = np.array(pre_process(data, var))\n",
    "idx = np.arange(len(data))\n",
    "train_split = int(len(data)*0.6)\n",
    "val_split = int(len(data)*0.8)\n",
    "\n",
    "train_idx = idx[:train_split]\n",
    "val_idx = idx[train_split:val_split]\n",
    "test_idx = idx[val_split:]\n",
    "\n",
    "train_dataset = TSDataset(data[train_idx], window_size, stride)\n",
    "test_dataset = TSDataset(data[test_idx], window_size, stride, scale = 1, max_list = train_dataset.max_list, min_list = train_dataset.min_list)\n",
    "val_dataset = TSDataset(data[val_idx], window_size, stride, scale = 1, max_list = train_dataset.max_list, min_list = train_dataset.min_list)\n",
    "\n",
    "#test_dataset = TSDataset(data[test_idx], window_size, stride, standarize = 1, mean_list = train_dataset.mean_list, std_list = train_dataset.std_list)\n",
    "#val_dataset = TSDataset(data[val_idx], window_size, stride, standarize = 1, mean_list = train_dataset.mean_list, std_list = train_dataset.std_list)\n",
    "\n",
    "\n",
    "\n",
    "for file in files[1:1]:\n",
    "    data = pd.read_csv(path+file)\n",
    "    data = np.array(pre_process(data, var))\n",
    "    idx = np.arange(len(data))\n",
    "    train_split = int(len(data)*0.6)\n",
    "    val_split = int(len(data)*0.8)\n",
    "    #dont apply it for time series\n",
    "    #np.random.shuffle(idx)\n",
    "\n",
    "    train_idx = idx[:train_split]\n",
    "    val_idx = idx[train_split:val_split]\n",
    "    test_idx = idx[val_split:]\n",
    "\n",
    "    train_dataset = TSDataset(data[train_idx], window_size, stride) + train_dataset\n",
    "    test_dataset = TSDataset(data[test_idx], window_size, stride, scale = 1, max_list = train_dataset.max_list, min_list = train_dataset.min_list) + test_dataset\n",
    "    val_dataset = TSDataset(data[val_idx], window_size, stride, scale = 1, max_list = train_dataset.max_list, min_list = train_dataset.min_list) + test_dataset\n",
    "    #test_dataset = TSDataset(data[test_idx], window_size, stride, standarize = 1, mean_list = train_dataset.mean_list, std_list = train_dataset.std_list)\n",
    "    #val_dataset = TSDataset(data[val_idx], window_size, stride, standarize = 1, mean_list = train_dataset.mean_list, std_list = train_dataset.std_list)\n",
    "\n",
    "    \n",
    "#train_dataset.normalize()\n",
    "#test_dataset.normalize()\n",
    "#val_dataset.normalize()\n",
    "\n",
    "train_dataset.normalize()\n",
    "test_dataset.normalize()\n",
    "val_dataset.normalize()\n",
    "\n",
    "\n",
    "print(\"Training size:\", train_dataset.x.shape)"
   ]
  },
  {
   "cell_type": "code",
   "execution_count": 128,
   "metadata": {},
   "outputs": [],
   "source": [
    "params = {'batch_size': batch_size,\n",
    "          'shuffle': True,\n",
    "          'num_workers': 0}\n",
    "\n",
    "\n",
    "\n",
    "train_loader = DataLoader(train_dataset, **params)\n",
    "train_iter = iter(train_loader)\n",
    "\n",
    "test_loader = DataLoader(test_dataset, **params)\n",
    "test_iter = iter(test_loader)\n",
    "\n",
    "val_loader = DataLoader(val_dataset, **params)\n",
    "val_iter = iter(val_loader)\n"
   ]
  },
  {
   "cell_type": "code",
   "execution_count": 129,
   "metadata": {},
   "outputs": [
    {
     "name": "stdout",
     "output_type": "stream",
     "text": [
      "Model size: 13231\n"
     ]
    }
   ],
   "source": [
    "model = LSTMModel (batch_size, seq_len, input_dim, n_layers, hidden_dim, output_dim)\n",
    "\n",
    "print(\"Model size:\", count_parameters(model))\n",
    "\n",
    "optimizer = optim.Adam(model.parameters(), lr=0.0001)\n",
    "max_epochs = 100\n",
    "val_loss_list = []\n",
    "prev_loss = np.inf"
   ]
  },
  {
   "cell_type": "code",
   "execution_count": 137,
   "metadata": {},
   "outputs": [
    {
     "name": "stderr",
     "output_type": "stream",
     "text": [
      "C:\\Users\\Sebastian\\Anaconda3\\envs\\pytorch12\\lib\\site-packages\\ipykernel_launcher.py:15: UserWarning: To copy construct from a tensor, it is recommended to use sourceTensor.clone().detach() or sourceTensor.clone().detach().requires_grad_(True), rather than torch.tensor(sourceTensor).\n",
      "  from ipykernel import kernelapp as app\n"
     ]
    },
    {
     "name": "stdout",
     "output_type": "stream",
     "text": [
      "Train loss: 0.04652414912637861\n"
     ]
    },
    {
     "name": "stderr",
     "output_type": "stream",
     "text": [
      "C:\\Users\\Sebastian\\Anaconda3\\envs\\pytorch12\\lib\\site-packages\\ipykernel_launcher.py:29: UserWarning: To copy construct from a tensor, it is recommended to use sourceTensor.clone().detach() or sourceTensor.clone().detach().requires_grad_(True), rather than torch.tensor(sourceTensor).\n"
     ]
    },
    {
     "name": "stdout",
     "output_type": "stream",
     "text": [
      "0.04457782396213518\n",
      "Train loss: 0.046453610178874186\n",
      "0.044818696683251065\n",
      "Train loss: 0.04637803774924249\n",
      "0.0453131398445587\n",
      "Train loss: 0.04628751874357615\n",
      "0.04450951292131068\n",
      "Train loss: 0.04624058955182946\n",
      "0.04507569024704605\n",
      "Train loss: 0.04620456205381889\n",
      "0.04477709755500271\n",
      "Train loss: 0.04617111827304451\n",
      "0.04446451058595299\n",
      "Train loss: 0.04619247773272854\n",
      "0.044824556464072705\n",
      "Train loss: 0.04613777161214563\n",
      "0.04466528036602002\n",
      "Train loss: 0.046082202630148374\n",
      "0.04516109799828124\n",
      "Train loss: 0.04605150750411583\n",
      "0.04455086884923224\n",
      "Train loss: 0.04599626000996835\n",
      "0.044286935448743105\n",
      "Train loss: 0.046031854005473404\n",
      "0.044634584294163844\n",
      "Train loss: 0.04589515573147256\n",
      "0.04474935261310794\n",
      "Train loss: 0.045930838620869524\n",
      "0.0448558685279799\n",
      "Train loss: 0.0458624979427572\n",
      "0.04445792984040619\n",
      "Train loss: 0.04579093757302395\n",
      "0.04471784888170141\n",
      "Train loss: 0.04580024810199363\n",
      "0.04433180834677007\n",
      "Train loss: 0.045726292553046236\n",
      "0.04483365004536809\n",
      "Train loss: 0.04574487867412936\n",
      "0.04428789851331861\n",
      "Train loss: 0.04584788918482889\n",
      "0.044414780059893605\n",
      "Train loss: 0.045723156494346134\n",
      "0.04471011831149479\n",
      "Train loss: 0.045758001708391845\n",
      "0.04441371548807982\n",
      "Train loss: 0.045567548709654425\n",
      "0.044342818313384935\n",
      "Train loss: 0.04551598586320257\n",
      "0.04442053067345085\n",
      "Train loss: 0.04551106120313151\n",
      "0.044373475431924506\n",
      "Train loss: 0.04551419360578639\n",
      "0.044360733542563646\n",
      "Train loss: 0.04550288831136262\n",
      "0.0443842143533183\n",
      "Train loss: 0.04549778187683502\n",
      "0.0444133366387652\n",
      "Train loss: 0.045494743759734356\n",
      "0.044379369328226254\n",
      "Train loss: 0.045493286388262055\n",
      "0.04436472555072575\n",
      "Train loss: 0.04549030541323401\n",
      "0.044437045422092446\n",
      "Train loss: 0.045486424263860493\n",
      "0.04445762937696452\n",
      "Train loss: 0.04548500181648254\n",
      "0.04430204789644653\n",
      "Train loss: 0.04547841370664431\n",
      "0.04431239565454916\n",
      "Train loss: 0.04547798604719388\n",
      "0.04433556424167376\n",
      "Train loss: 0.0454755936425092\n",
      "0.044340299305028405\n",
      "Train loss: 0.04547554311700402\n",
      "0.04433932840506054\n",
      "Train loss: 0.04547470018068168\n",
      "0.04435012550402964\n",
      "Train loss: 0.045474438234612564\n",
      "0.04436706256867591\n",
      "Train loss: 0.04547453792246398\n",
      "0.04436158780125702\n",
      "Train loss: 0.045473863566457974\n",
      "0.04436996716410291\n",
      "Train loss: 0.045473457029590235\n",
      "0.04436269807053312\n",
      "Train loss: 0.04547379477419754\n",
      "0.04437001229925725\n",
      "Train loss: 0.04547275545365396\n",
      "0.044369809029186164\n",
      "Train loss: 0.04547215818348273\n",
      "0.04436966870423837\n",
      "Train loss: 0.045472104862650915\n",
      "0.04436984215565743\n",
      "Train loss: 0.045472079114592\n",
      "0.044370025673951104\n",
      "Train loss: 0.04547203296617885\n",
      "0.044370207031761005\n",
      "Train loss: 0.04547201933553473\n",
      "0.04437012866505764\n",
      "Train loss: 0.04547196160996012\n",
      "0.044370343048520965\n",
      "Train loss: 0.045471963425929844\n",
      "0.04437029536026124\n",
      "Train loss: 0.045471861917145744\n",
      "0.04437102546107094\n",
      "Train loss: 0.04547186007990621\n",
      "0.044371382422973844\n",
      "Train loss: 0.04547186478549874\n",
      "0.04437338585811091\n",
      "Train loss: 0.04547180454134147\n",
      "0.044372687764836424\n",
      "Train loss: 0.045471734014409286\n",
      "0.044372711086417466\n",
      "Train loss: 0.04547173328792686\n",
      "0.04437270972111667\n",
      "Train loss: 0.04547173292421299\n",
      "0.044372704565206984\n",
      "Train loss: 0.04547173528232672\n",
      "0.04437272113696243\n",
      "Train loss: 0.04547172733639571\n",
      "0.044372707576252564\n",
      "Train loss: 0.045471725281022383\n",
      "0.04437270686484778\n",
      "Train loss: 0.045471722990026754\n",
      "0.0443727011338504\n",
      "Train loss: 0.0454717218917952\n",
      "0.04437270439197069\n",
      "Train loss: 0.04547172209740343\n",
      "0.044372706531864904\n",
      "Train loss: 0.045471722020832085\n",
      "0.04437275421018484\n",
      "Train loss: 0.04547171845412009\n",
      "0.04437279573222649\n",
      "Train loss: 0.04547171823740429\n",
      "0.04437279385999655\n",
      "Train loss: 0.04547171578192207\n",
      "0.04437277909941234\n",
      "Train loss: 0.04547171538039519\n",
      "0.044372776973717824\n",
      "Train loss: 0.04547171280816531\n",
      "0.04437277627580275\n",
      "Train loss: 0.04547171061241119\n",
      "0.044372726723832905\n",
      "Train loss: 0.04547171073506714\n",
      "0.04437269367191004\n",
      "Train loss: 0.04547170870379961\n",
      "0.0443726636991913\n",
      "Train loss: 0.04547170629912862\n",
      "0.044372644719877355\n",
      "Train loss: 0.045471705568864894\n",
      "0.04437266866340509\n",
      "Train loss: 0.04547170471901754\n",
      "0.04437268852168023\n",
      "Train loss: 0.04547170988569244\n",
      "0.0443726412544415\n",
      "Train loss: 0.04547169998861022\n",
      "0.044372650416085485\n",
      "Train loss: 0.045471705288339645\n",
      "0.044372573887532796\n",
      "Train loss: 0.045471703354440604\n",
      "0.04437260509349515\n",
      "Train loss: 0.04547169752272942\n",
      "0.04437260385528164\n",
      "Train loss: 0.045471695947344966\n",
      "0.04437264502375086\n",
      "Train loss: 0.04547169243168053\n",
      "0.04437265878609641\n",
      "Train loss: 0.045471690444134294\n",
      "0.044372630606089314\n",
      "Train loss: 0.045471688753892826\n",
      "0.04437263470270167\n",
      "Train loss: 0.045471690198822405\n",
      "0.04437259795459789\n",
      "Train loss: 0.04547168652883363\n",
      "0.044372609603318666\n",
      "Train loss: 0.04547168531101843\n",
      "0.04437262548070897\n",
      "Train loss: 0.04547168389373962\n",
      "0.04437262726632077\n",
      "Train loss: 0.045471681385555525\n",
      "0.04437262064997233\n",
      "Train loss: 0.045471682752259435\n",
      "0.04437259842957773\n",
      "Train loss: 0.045471681718309995\n",
      "0.044372618072727465\n",
      "Train loss: 0.04547168002830486\n",
      "0.04437260149316218\n",
      "Train loss: 0.04547168826705035\n",
      "0.04437262946301377\n",
      "Train loss: 0.045471677993019696\n",
      "0.044372678401556745\n",
      "Train loss: 0.04547168340098886\n",
      "0.04437262295955291\n",
      "Train loss: 0.0454716732016389\n",
      "0.04437262127972885\n",
      "Train loss: 0.0454716699225421\n",
      "0.04437261819697481\n",
      "Train loss: 0.04547166946145973\n",
      "0.04437264076739192\n",
      "542.5215520858765\n"
     ]
    }
   ],
   "source": [
    "#optimizer = optim.Adam(model.parameters(), lr=0.00001)\n",
    "\n",
    "scheduler = ReduceLROnPlateau(optimizer, 'min')\n",
    "\n",
    "start = time.time()\n",
    "\n",
    "\n",
    "for i in range(max_epochs):\n",
    "    \n",
    "    train_iter = iter(train_loader)\n",
    "    train_loss = 0.0\n",
    "    for x_train, y_train in train_iter:\n",
    "    \n",
    "        model.zero_grad()\n",
    "        x_train, y_train = torch.tensor(x_train).float(), torch.tensor(y_train).float()\n",
    "\n",
    "        #model.batch_size = x_train.shape[0]\n",
    "        #hidden_init = model.init_hidden()\n",
    "        y_pred = model(x_train)\n",
    "        loss = mae(y_pred, y_train)\n",
    "        loss.backward()\n",
    "        optimizer.step()\n",
    "        train_loss += loss.data.numpy()*x_train.shape[0]\n",
    "    print(\"Train loss:\", train_loss/len(train_dataset))\n",
    "        \n",
    "        \n",
    "    val_loss = 0.0\n",
    "    for x_val, y_val in val_loader:\n",
    "        x_val, y_val = torch.tensor(x_val).float(), torch.tensor(y_val).float()\n",
    "        #if(x_val.shape[0]==batch_size):\n",
    "        model.batch_size = x_val.shape[0]\n",
    "        hidden_init = model.init_hidden()\n",
    "        y_pred = model(x_val)\n",
    "        val_loss += mae(y_pred, y_val).data.numpy()*x_val.shape[0]\n",
    "    val_loss /= (len(val_dataset)*forecast)\n",
    "    \n",
    "    #if(val_loss>prev_loss):\n",
    "    #    break\n",
    "        \n",
    "    prev_loss = val_loss\n",
    "    val_loss_list.append(val_loss)\n",
    "    print(val_loss)\n",
    "    \n",
    "    scheduler.step(val_loss)\n",
    "    \n",
    "end = time.time()\n",
    "print(end - start)\n",
    "\n",
    "frequency = 2500  # Set Frequency To 2500 Hertz\n",
    "duration = 100  # Set Duration To 1000 ms == 1 second\n",
    "winsound.Beep(frequency, duration)"
   ]
  },
  {
   "cell_type": "code",
   "execution_count": 138,
   "metadata": {},
   "outputs": [
    {
     "data": {
      "text/plain": [
       "[<matplotlib.lines.Line2D at 0x23f2dc2c7c8>]"
      ]
     },
     "execution_count": 138,
     "metadata": {},
     "output_type": "execute_result"
    },
    {
     "data": {
      "image/png": "[encoded data removed]",
      "text/plain": [
       "<Figure size 432x288 with 1 Axes>"
      ]
     },
     "metadata": {
      "needs_background": "light"
     },
     "output_type": "display_data"
    }
   ],
   "source": [
    "plt.plot(val_loss_list)"
   ]
  },
  {
   "cell_type": "code",
   "execution_count": 139,
   "metadata": {},
   "outputs": [],
   "source": [
    "samples = 400\n",
    "model.batch_size = samples\n",
    "y_pred = model(torch.tensor(test_dataset.x[samples:samples+samples]).float())"
   ]
  },
  {
   "cell_type": "code",
   "execution_count": 140,
   "metadata": {},
   "outputs": [
    {
     "data": {
      "text/plain": [
       "<matplotlib.collections.PathCollection at 0x23f2db8c9c8>"
      ]
     },
     "execution_count": 140,
     "metadata": {},
     "output_type": "execute_result"
    },
    {
     "data": {
      "image/png": "[encoded data removed]",
      "text/plain": [
       "<Figure size 432x288 with 1 Axes>"
      ]
     },
     "metadata": {
      "needs_background": "light"
     },
     "output_type": "display_data"
    }
   ],
   "source": [
    "plt.scatter(y_pred.detach().numpy(), test_dataset.y[samples:(2*samples)])"
   ]
  },
  {
   "cell_type": "code",
   "execution_count": 141,
   "metadata": {},
   "outputs": [
    {
     "data": {
      "text/plain": [
       "[<matplotlib.lines.Line2D at 0x23f2dc49ac8>]"
      ]
     },
     "execution_count": 141,
     "metadata": {},
     "output_type": "execute_result"
    },
    {
     "data": {
      "image/png": "[encoded data removed]",
      "text/plain": [
       "<Figure size 432x288 with 1 Axes>"
      ]
     },
     "metadata": {
      "needs_background": "light"
     },
     "output_type": "display_data"
    }
   ],
   "source": [
    "plt.plot(y_pred.detach().numpy())\n",
    "plt.plot( test_dataset.y[samples:(2*samples)])"
   ]
  },
  {
   "cell_type": "code",
   "execution_count": 135,
   "metadata": {},
   "outputs": [
    {
     "data": {
      "text/plain": [
       "(24, 16)"
      ]
     },
     "execution_count": 135,
     "metadata": {},
     "output_type": "execute_result"
    }
   ],
   "source": [
    "np.mean(train_dataset.x, axis=0).shape"
   ]
  },
  {
   "cell_type": "code",
   "execution_count": null,
   "metadata": {},
   "outputs": [],
   "source": []
  }
 ],
 "metadata": {
  "kernelspec": {
   "display_name": "Python 3",
   "language": "python",
   "name": "python3"
  },
  "language_info": {
   "codemirror_mode": {
    "name": "ipython",
    "version": 3
   },
   "file_extension": ".py",
   "mimetype": "text/x-python",
   "name": "python",
   "nbconvert_exporter": "python",
   "pygments_lexer": "ipython3",
   "version": "3.7.7"
  }
 },
 "nbformat": 4,
 "nbformat_minor": 4
}
