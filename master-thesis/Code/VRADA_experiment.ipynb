{
 "cells": [
  {
   "cell_type": "code",
   "execution_count": null,
   "metadata": {},
   "outputs": [],
   "source": [
    "import random\n",
    "import os\n",
    "import torch.backends.cudnn as cudnn\n",
    "import torch.optim as optim\n",
    "import torch.utils.data\n",
    "from data_loader import GetLoader\n",
    "from torchvision import datasets\n",
    "from torchvision import transforms\n",
    "from model import CNNModel\n",
    "import numpy as np\n",
    "from test import test\n",
    "\n",
    "source_dataset_name = 'MNIST'\n",
    "target_dataset_name = 'mnist_m'\n",
    "source_image_root = os.path.join('dataset', source_dataset_name)\n",
    "target_image_root = os.path.join('dataset', target_dataset_name)\n",
    "model_root = 'models'\n",
    "cuda = True\n",
    "cudnn.benchmark = True\n",
    "lr = 1e-3\n",
    "batch_size = 128\n",
    "image_size = 28\n",
    "n_epoch = 100\n",
    "\n",
    "manual_seed = random.randint(1, 10000)\n",
    "random.seed(manual_seed)\n",
    "torch.manual_seed(manual_seed)\n",
    "\n",
    "# load data\n",
    "\n",
    "img_transform_source = transforms.Compose([\n",
    "    transforms.Resize(image_size),\n",
    "    transforms.ToTensor(),\n",
    "    transforms.Normalize(mean=(0.1307,), std=(0.3081,))\n",
    "])\n",
    "\n",
    "img_transform_target = transforms.Compose([\n",
    "    transforms.Resize(image_size),\n",
    "    transforms.ToTensor(),\n",
    "    transforms.Normalize(mean=(0.5, 0.5, 0.5), std=(0.5, 0.5, 0.5))\n",
    "])\n",
    "\n",
    "dataset_source = datasets.MNIST(\n",
    "    root='dataset',\n",
    "    train=True,\n",
    "    transform=img_transform_source,\n",
    "    download=True\n",
    ")\n",
    "\n",
    "dataloader_source = torch.utils.data.DataLoader(\n",
    "    dataset=dataset_source,\n",
    "    batch_size=batch_size,\n",
    "    shuffle=True,\n",
    "    num_workers=8)\n",
    "\n",
    "train_list = os.path.join(target_image_root, 'mnist_m_train_labels.txt')\n",
    "\n",
    "dataset_target = GetLoader(\n",
    "    data_root=os.path.join(target_image_root, 'mnist_m_train'),\n",
    "    data_list=train_list,\n",
    "    transform=img_transform_target\n",
    ")\n",
    "\n",
    "dataloader_target = torch.utils.data.DataLoader(\n",
    "    dataset=dataset_target,\n",
    "    batch_size=batch_size,\n",
    "    shuffle=True,\n",
    "    num_workers=8)\n",
    "\n",
    "# load model\n",
    "\n",
    "my_net = CNNModel()\n",
    "\n",
    "# setup optimizer\n",
    "\n",
    "optimizer = optim.Adam(my_net.parameters(), lr=lr)\n",
    "\n",
    "loss_class = torch.nn.NLLLoss()\n",
    "loss_domain = torch.nn.NLLLoss()\n",
    "\n",
    "if cuda:\n",
    "    my_net = my_net.cuda()\n",
    "    loss_class = loss_class.cuda()\n",
    "    loss_domain = loss_domain.cuda()\n",
    "\n",
    "for p in my_net.parameters():\n",
    "    p.requires_grad = True\n",
    "\n",
    "# training\n",
    "\n",
    "for epoch in range(n_epoch):\n",
    "\n",
    "    len_dataloader = min(len(dataloader_source), len(dataloader_target))\n",
    "    data_source_iter = iter(dataloader_source)\n",
    "    data_target_iter = iter(dataloader_target)\n",
    "\n",
    "    i = 0\n",
    "    while i < len_dataloader:\n",
    "\n",
    "        p = float(i + epoch * len_dataloader) / n_epoch / len_dataloader\n",
    "        alpha = 2. / (1. + np.exp(-10 * p)) - 1\n",
    "\n",
    "        # training model using source data\n",
    "        data_source = data_source_iter.next()\n",
    "        s_img, s_label = data_source\n",
    "\n",
    "        my_net.zero_grad()\n",
    "        batch_size = len(s_label)\n",
    "\n",
    "        input_img = torch.FloatTensor(batch_size, 3, image_size, image_size)\n",
    "        class_label = torch.LongTensor(batch_size)\n",
    "        domain_label = torch.zeros(batch_size)\n",
    "        domain_label = domain_label.long()\n",
    "\n",
    "        if cuda:\n",
    "            s_img = s_img.cuda()\n",
    "            s_label = s_label.cuda()\n",
    "            input_img = input_img.cuda()\n",
    "            class_label = class_label.cuda()\n",
    "            domain_label = domain_label.cuda()\n",
    "\n",
    "        input_img.resize_as_(s_img).copy_(s_img)\n",
    "        class_label.resize_as_(s_label).copy_(s_label)\n",
    "\n",
    "        class_output, domain_output = my_net(input_data=input_img, alpha=alpha)\n",
    "        err_s_label = loss_class(class_output, class_label)\n",
    "        err_s_domain = loss_domain(domain_output, domain_label)\n",
    "\n",
    "        # training model using target data\n",
    "        data_target = data_target_iter.next()\n",
    "        t_img, _ = data_target\n",
    "\n",
    "        batch_size = len(t_img)\n",
    "\n",
    "        input_img = torch.FloatTensor(batch_size, 3, image_size, image_size)\n",
    "        domain_label = torch.ones(batch_size)\n",
    "        domain_label = domain_label.long()\n",
    "\n",
    "        if cuda:\n",
    "            t_img = t_img.cuda()\n",
    "            input_img = input_img.cuda()\n",
    "            domain_label = domain_label.cuda()\n",
    "\n",
    "        input_img.resize_as_(t_img).copy_(t_img)\n",
    "\n",
    "        _, domain_output = my_net(input_data=input_img, alpha=alpha)\n",
    "        err_t_domain = loss_domain(domain_output, domain_label)\n",
    "        err = err_t_domain + err_s_domain + err_s_label\n",
    "        err.backward()\n",
    "        optimizer.step()\n",
    "\n",
    "        i += 1\n",
    "\n",
    "        print ('epoch: %d, [iter: %d / all %d], err_s_label: %f, err_s_domain: %f, err_t_domain: %f' \\\n",
    "              % (epoch, i, len_dataloader, err_s_label.data.cpu().numpy(),\n",
    "                 err_s_domain.data.cpu().numpy(), err_t_domain.data.cpu().item()))\n",
    "\n",
    "    torch.save(my_net, '{0}/mnist_mnistm_model_epoch_{1}.pth'.format(model_root, epoch))\n",
    "    test(source_dataset_name, epoch)\n",
    "    test(target_dataset_name, epoch)\n",
    "\n",
    "print('done')\n"
   ]
  },
  {
   "cell_type": "code",
   "execution_count": 1,
   "metadata": {},
   "outputs": [],
   "source": [
    "import sys\n",
    "sys.path.insert(1, \"DANN_py3\")"
   ]
  },
  {
   "cell_type": "code",
   "execution_count": 2,
   "metadata": {},
   "outputs": [],
   "source": [
    "import random\n",
    "import os\n",
    "import torch.backends.cudnn as cudnn\n",
    "import torch.optim as optim\n",
    "import torch.utils.data\n",
    "from data_loader import GetLoader\n",
    "from torchvision import datasets\n",
    "from torchvision import transforms\n",
    "from model import CNNModel\n",
    "import numpy as np\n",
    "from test import test\n",
    "from pytorchtools import count_parameters\n",
    "import torch.nn as nn\n",
    "device = torch.device(\"cuda:0\" if torch.cuda.is_available() else \"cpu\")"
   ]
  },
  {
   "cell_type": "code",
   "execution_count": 3,
   "metadata": {},
   "outputs": [],
   "source": [
    "import pickle\n",
    "\n",
    "dataset_name = \"POLLUTION\"\n",
    "task_size = 50\n",
    "window_size = 5\n",
    "\n",
    "train_data = pickle.load(  open( \"../Data/TRAIN-\"+dataset_name+\"-W\"+str(window_size)+\"-T\"+str(task_size)+\"-NOML.pickle\", \"rb\" ) )\n",
    "validation_data = pickle.load( open( \"../Data/VAL-\"+dataset_name+\"-W\"+str(window_size)+\"-T\"+str(task_size)+\"-NOML.pickle\", \"rb\" ) )\n"
   ]
  },
  {
   "cell_type": "code",
   "execution_count": 4,
   "metadata": {},
   "outputs": [
    {
     "data": {
      "text/plain": [
       "(119483, 5, 14)"
      ]
     },
     "execution_count": 4,
     "metadata": {},
     "output_type": "execute_result"
    }
   ],
   "source": [
    "train_data.x.shape"
   ]
  },
  {
   "cell_type": "code",
   "execution_count": 5,
   "metadata": {},
   "outputs": [],
   "source": [
    "from VariationalRecurrentNeuralNetwork.model import VRNN"
   ]
  },
  {
   "cell_type": "code",
   "execution_count": 6,
   "metadata": {},
   "outputs": [],
   "source": [
    "x_dim = 14\n",
    "h_dim = 50\n",
    "z_dim = 16\n",
    "n_layers =  1\n",
    "n_epochs = 100\n",
    "clip = 10\n",
    "learning_rate = 1e-3\n",
    "batch_size = 128\n",
    "seed = 128\n",
    "print_every = 100\n",
    "save_every = 10"
   ]
  },
  {
   "cell_type": "code",
   "execution_count": 7,
   "metadata": {},
   "outputs": [
    {
     "data": {
      "text/plain": [
       "device(type='cuda', index=0)"
      ]
     },
     "execution_count": 7,
     "metadata": {},
     "output_type": "execute_result"
    }
   ],
   "source": [
    "device"
   ]
  },
  {
   "cell_type": "code",
   "execution_count": 8,
   "metadata": {},
   "outputs": [
    {
     "data": {
      "text/plain": [
       "torch.Size([5, 5, 14])"
      ]
     },
     "execution_count": 8,
     "metadata": {},
     "output_type": "execute_result"
    }
   ],
   "source": [
    "sample = torch.tensor(train_data.x[0:5]).float()\n",
    "\n",
    "sample = sample.squeeze().transpose(0, 1)\n",
    "sample.shape"
   ]
  },
  {
   "cell_type": "code",
   "execution_count": 9,
   "metadata": {},
   "outputs": [
    {
     "data": {
      "text/plain": [
       "49092"
      ]
     },
     "execution_count": 9,
     "metadata": {},
     "output_type": "execute_result"
    }
   ],
   "source": [
    "model = VRNN(x_dim, h_dim, z_dim, n_layers, device)\n",
    "model.cuda()\n",
    "count_parameters(model)"
   ]
  },
  {
   "cell_type": "code",
   "execution_count": 11,
   "metadata": {},
   "outputs": [
    {
     "data": {
      "text/plain": [
       "device(type='cuda', index=0)"
      ]
     },
     "execution_count": 11,
     "metadata": {},
     "output_type": "execute_result"
    }
   ],
   "source": [
    "model.device"
   ]
  },
  {
   "cell_type": "code",
   "execution_count": 12,
   "metadata": {},
   "outputs": [],
   "source": [
    "kld_loss, nll_loss, (all_enc_mean, all_enc_std), (all_dec_mean, all_dec_std), x1, h = model(sample)"
   ]
  },
  {
   "cell_type": "code",
   "execution_count": 52,
   "metadata": {},
   "outputs": [],
   "source": [
    "class VRADA(nn.Module):\n",
    "    \n",
    "    def __init__(self, x_dim, h_dim, z_dim, out_dim, n_layers, device, bias=False):\n",
    "        super().__init__()\n",
    "        \n",
    "        self.device = device\n",
    "        self.vrnn = VRNN(x_dim, h_dim, z_dim, n_layers, device)\n",
    "        self.linear = nn.Linear (h_dim, out_dim)\n",
    "        \n",
    "    def forward(self, x):\n",
    "        \n",
    "        x = x.to(self.device)\n",
    "        kld_loss, nll_loss, (all_enc_mean, all_enc_std), (all_dec_mean, all_dec_std), x1, h = self.vrnn(x)\n",
    "        out = self.linear(h.squeeze())\n",
    "        \n",
    "        return out, kld_loss, nll_loss\n",
    "        \n",
    "    def cuda(self):\n",
    "        \n",
    "        self.vrnn.cuda()\n",
    "        \n",
    "        super().cuda()\n",
    "        "
   ]
  },
  {
   "cell_type": "code",
   "execution_count": 53,
   "metadata": {},
   "outputs": [],
   "source": [
    "out_dim = 1\n"
   ]
  },
  {
   "cell_type": "code",
   "execution_count": 54,
   "metadata": {},
   "outputs": [
    {
     "data": {
      "text/plain": [
       "VRADA(\n",
       "  (vrnn): VRNN(\n",
       "    (phi_x): Sequential(\n",
       "      (0): Linear(in_features=14, out_features=50, bias=True)\n",
       "      (1): ReLU()\n",
       "      (2): Linear(in_features=50, out_features=50, bias=True)\n",
       "      (3): ReLU()\n",
       "    )\n",
       "    (phi_z): Sequential(\n",
       "      (0): Linear(in_features=16, out_features=50, bias=True)\n",
       "      (1): ReLU()\n",
       "    )\n",
       "    (enc): Sequential(\n",
       "      (0): Linear(in_features=100, out_features=50, bias=True)\n",
       "      (1): ReLU()\n",
       "      (2): Linear(in_features=50, out_features=50, bias=True)\n",
       "      (3): ReLU()\n",
       "    )\n",
       "    (enc_mean): Linear(in_features=50, out_features=16, bias=True)\n",
       "    (enc_std): Sequential(\n",
       "      (0): Linear(in_features=50, out_features=16, bias=True)\n",
       "      (1): Softplus(beta=1, threshold=20)\n",
       "    )\n",
       "    (prior): Sequential(\n",
       "      (0): Linear(in_features=50, out_features=50, bias=True)\n",
       "      (1): ReLU()\n",
       "    )\n",
       "    (prior_mean): Linear(in_features=50, out_features=16, bias=True)\n",
       "    (prior_std): Sequential(\n",
       "      (0): Linear(in_features=50, out_features=16, bias=True)\n",
       "      (1): Softplus(beta=1, threshold=20)\n",
       "    )\n",
       "    (dec): Sequential(\n",
       "      (0): Linear(in_features=100, out_features=50, bias=True)\n",
       "      (1): ReLU()\n",
       "      (2): Linear(in_features=50, out_features=50, bias=True)\n",
       "      (3): ReLU()\n",
       "    )\n",
       "    (dec_std): Sequential(\n",
       "      (0): Linear(in_features=50, out_features=14, bias=True)\n",
       "      (1): Softplus(beta=1, threshold=20)\n",
       "    )\n",
       "    (dec_mean): Sequential(\n",
       "      (0): Linear(in_features=50, out_features=14, bias=True)\n",
       "      (1): Sigmoid()\n",
       "    )\n",
       "    (rnn): GRU(100, 50, bias=False)\n",
       "  )\n",
       "  (linear): Linear(in_features=50, out_features=1, bias=True)\n",
       ")"
      ]
     },
     "execution_count": 54,
     "metadata": {},
     "output_type": "execute_result"
    }
   ],
   "source": [
    "model"
   ]
  },
  {
   "cell_type": "code",
   "execution_count": 55,
   "metadata": {},
   "outputs": [
    {
     "data": {
      "text/plain": [
       "49143"
      ]
     },
     "execution_count": 55,
     "metadata": {},
     "output_type": "execute_result"
    }
   ],
   "source": [
    "count_parameters(model)"
   ]
  },
  {
   "cell_type": "code",
   "execution_count": 56,
   "metadata": {},
   "outputs": [
    {
     "data": {
      "text/plain": [
       "device(type='cuda', index=0)"
      ]
     },
     "execution_count": 56,
     "metadata": {},
     "output_type": "execute_result"
    }
   ],
   "source": [
    "device"
   ]
  },
  {
   "cell_type": "code",
   "execution_count": 10,
   "metadata": {},
   "outputs": [],
   "source": [
    "from torch.utils.data import Dataset, DataLoader\n",
    "from metrics import torch_mae as mae\n",
    "\n",
    "batch_size = 64\n",
    "params = {'batch_size': batch_size,\n",
    "          'shuffle': True,\n",
    "          'num_workers': 0}\n",
    "\n",
    "n_epochs = 100\n",
    "\n",
    "train_loader = DataLoader(train_data, **params)\n",
    "train_iter = iter(train_loader)\n",
    "\n",
    "val_loader = DataLoader(validation_data, **params)\n",
    "val_iter = iter(val_loader)\n",
    "\n",
    "\n"
   ]
  },
  {
   "cell_type": "code",
   "execution_count": 64,
   "metadata": {},
   "outputs": [
    {
     "ename": "TypeError",
     "evalue": "__init__() missing 2 required positional arguments: 'n_layers' and 'device'",
     "output_type": "error",
     "traceback": [
      "\u001b[1;31m---------------------------------------------------------------------------\u001b[0m",
      "\u001b[1;31mTypeError\u001b[0m                                 Traceback (most recent call last)",
      "\u001b[1;32m<ipython-input-64-4d0a467a7c08>\u001b[0m in \u001b[0;36m<module>\u001b[1;34m\u001b[0m\n\u001b[0;32m      1\u001b[0m \u001b[0moptimizer\u001b[0m \u001b[1;33m=\u001b[0m \u001b[0moptim\u001b[0m\u001b[1;33m.\u001b[0m\u001b[0mAdam\u001b[0m\u001b[1;33m(\u001b[0m\u001b[0mmodel\u001b[0m\u001b[1;33m.\u001b[0m\u001b[0mparameters\u001b[0m\u001b[1;33m(\u001b[0m\u001b[1;33m)\u001b[0m\u001b[1;33m,\u001b[0m \u001b[0mlr\u001b[0m\u001b[1;33m=\u001b[0m\u001b[1;36m0.000001\u001b[0m\u001b[1;33m)\u001b[0m\u001b[1;33m\u001b[0m\u001b[1;33m\u001b[0m\u001b[0m\n\u001b[1;32m----> 2\u001b[1;33m \u001b[0mmodel\u001b[0m \u001b[1;33m=\u001b[0m \u001b[0mVRADA\u001b[0m\u001b[1;33m(\u001b[0m\u001b[0mx_dim\u001b[0m\u001b[1;33m,\u001b[0m \u001b[0mh_dim\u001b[0m\u001b[1;33m,\u001b[0m \u001b[0mz_dim\u001b[0m\u001b[1;33m,\u001b[0m \u001b[0mout_dim\u001b[0m\u001b[1;33m,\u001b[0m \u001b[0mn_layers\u001b[0m\u001b[1;33m,\u001b[0m \u001b[0mdevice\u001b[0m\u001b[1;33m)\u001b[0m\u001b[1;33m\u001b[0m\u001b[1;33m\u001b[0m\u001b[0m\n\u001b[0m\u001b[0;32m      3\u001b[0m \u001b[0mmodel\u001b[0m\u001b[1;33m.\u001b[0m\u001b[0mcuda\u001b[0m\u001b[1;33m(\u001b[0m\u001b[1;33m)\u001b[0m\u001b[1;33m\u001b[0m\u001b[1;33m\u001b[0m\u001b[0m\n",
      "\u001b[1;31mTypeError\u001b[0m: __init__() missing 2 required positional arguments: 'n_layers' and 'device'"
     ]
    }
   ],
   "source": [
    "optimizer = optim.Adam(model.parameters(), lr=0.000001)\n",
    "model = VRADA(x_dim, h_dim, z_dim, out_dim, n_layers, device)\n",
    "model.cuda()"
   ]
  },
  {
   "cell_type": "code",
   "execution_count": 71,
   "metadata": {},
   "outputs": [],
   "source": [
    "from torch.autograd import Variable\n",
    "def step (model, data_loader, loss_function, train =False, optimizer=None):\n",
    "\n",
    "    data_iter = iter(data_loader)\n",
    "    total_loss = 0.0\n",
    "    for x, y in data_iter:\n",
    "\n",
    "        model.zero_grad()\n",
    "        x, y = torch.tensor(x).float().to(device), torch.tensor(y).float().to(device)\n",
    "        x = Variable(x.squeeze().transpose(0, 1))\n",
    "        y_pred, kld_loss, nll_loss = model(x)\n",
    "        loss = loss_function(y_pred, y)\n",
    "        #print(kld_loss)\n",
    "        #print(nll_loss)\n",
    "        loss += 0.00001*kld_loss+ 0.00001*nll_loss\n",
    "        if train:\n",
    "            loss.backward()\n",
    "            optimizer.step()\n",
    "        \n",
    "        current_loss = loss.cpu().data.numpy()*x.shape[0]\n",
    "        total_loss += current_loss\n",
    "        #print(len(data_loader))\n",
    "    return total_loss/data_loader.dataset.x.shape[0]\n",
    "    "
   ]
  },
  {
   "cell_type": "code",
   "execution_count": 72,
   "metadata": {},
   "outputs": [
    {
     "name": "stderr",
     "output_type": "stream",
     "text": [
      "C:\\Users\\Sebastian\\Anaconda3\\envs\\pytorch12\\lib\\site-packages\\ipykernel_launcher.py:9: UserWarning: To copy construct from a tensor, it is recommended to use sourceTensor.clone().detach() or sourceTensor.clone().detach().requires_grad_(True), rather than torch.tensor(sourceTensor).\n",
      "  if __name__ == '__main__':\n"
     ]
    },
    {
     "ename": "KeyboardInterrupt",
     "evalue": "",
     "output_type": "error",
     "traceback": [
      "\u001b[1;31m---------------------------------------------------------------------------\u001b[0m",
      "\u001b[1;31mKeyboardInterrupt\u001b[0m                         Traceback (most recent call last)",
      "\u001b[1;32m<ipython-input-72-ae8f00a54106>\u001b[0m in \u001b[0;36m<module>\u001b[1;34m\u001b[0m\n\u001b[0;32m      1\u001b[0m \u001b[1;32mfor\u001b[0m \u001b[0mi\u001b[0m \u001b[1;32min\u001b[0m \u001b[0mrange\u001b[0m\u001b[1;33m(\u001b[0m\u001b[0mn_epochs\u001b[0m\u001b[1;33m)\u001b[0m\u001b[1;33m:\u001b[0m\u001b[1;33m\u001b[0m\u001b[1;33m\u001b[0m\u001b[0m\n\u001b[0;32m      2\u001b[0m \u001b[1;33m\u001b[0m\u001b[0m\n\u001b[1;32m----> 3\u001b[1;33m     \u001b[0mtrain_loss\u001b[0m \u001b[1;33m=\u001b[0m \u001b[0mstep\u001b[0m\u001b[1;33m(\u001b[0m\u001b[0mmodel\u001b[0m\u001b[1;33m,\u001b[0m \u001b[0mtrain_loader\u001b[0m\u001b[1;33m,\u001b[0m \u001b[0mmae\u001b[0m\u001b[1;33m,\u001b[0m \u001b[0mtrain\u001b[0m \u001b[1;33m=\u001b[0m \u001b[1;32mTrue\u001b[0m\u001b[1;33m,\u001b[0m \u001b[0moptimizer\u001b[0m \u001b[1;33m=\u001b[0m \u001b[0moptimizer\u001b[0m\u001b[1;33m)\u001b[0m\u001b[1;33m\u001b[0m\u001b[1;33m\u001b[0m\u001b[0m\n\u001b[0m\u001b[0;32m      4\u001b[0m     \u001b[0mval_loss\u001b[0m \u001b[1;33m=\u001b[0m \u001b[0mstep\u001b[0m\u001b[1;33m(\u001b[0m\u001b[0mmodel\u001b[0m\u001b[1;33m,\u001b[0m \u001b[0mval_loader\u001b[0m\u001b[1;33m,\u001b[0m \u001b[0mmae\u001b[0m\u001b[1;33m)\u001b[0m\u001b[1;33m\u001b[0m\u001b[1;33m\u001b[0m\u001b[0m\n\u001b[0;32m      5\u001b[0m \u001b[1;33m\u001b[0m\u001b[0m\n",
      "\u001b[1;32m<ipython-input-71-43191c7471e5>\u001b[0m in \u001b[0;36mstep\u001b[1;34m(model, data_loader, loss_function, train, optimizer)\u001b[0m\n\u001b[0;32m     15\u001b[0m         \u001b[0mloss\u001b[0m \u001b[1;33m+=\u001b[0m \u001b[1;36m0.00001\u001b[0m\u001b[1;33m*\u001b[0m\u001b[0mkld_loss\u001b[0m\u001b[1;33m+\u001b[0m \u001b[1;36m0.00001\u001b[0m\u001b[1;33m*\u001b[0m\u001b[0mnll_loss\u001b[0m\u001b[1;33m\u001b[0m\u001b[1;33m\u001b[0m\u001b[0m\n\u001b[0;32m     16\u001b[0m         \u001b[1;32mif\u001b[0m \u001b[0mtrain\u001b[0m\u001b[1;33m:\u001b[0m\u001b[1;33m\u001b[0m\u001b[1;33m\u001b[0m\u001b[0m\n\u001b[1;32m---> 17\u001b[1;33m             \u001b[0mloss\u001b[0m\u001b[1;33m.\u001b[0m\u001b[0mbackward\u001b[0m\u001b[1;33m(\u001b[0m\u001b[1;33m)\u001b[0m\u001b[1;33m\u001b[0m\u001b[1;33m\u001b[0m\u001b[0m\n\u001b[0m\u001b[0;32m     18\u001b[0m             \u001b[0moptimizer\u001b[0m\u001b[1;33m.\u001b[0m\u001b[0mstep\u001b[0m\u001b[1;33m(\u001b[0m\u001b[1;33m)\u001b[0m\u001b[1;33m\u001b[0m\u001b[1;33m\u001b[0m\u001b[0m\n\u001b[0;32m     19\u001b[0m \u001b[1;33m\u001b[0m\u001b[0m\n",
      "\u001b[1;32m~\\Anaconda3\\envs\\pytorch12\\lib\\site-packages\\torch\\tensor.py\u001b[0m in \u001b[0;36mbackward\u001b[1;34m(self, gradient, retain_graph, create_graph)\u001b[0m\n\u001b[0;32m    193\u001b[0m                 \u001b[0mproducts\u001b[0m\u001b[1;33m.\u001b[0m \u001b[0mDefaults\u001b[0m \u001b[0mto\u001b[0m\u001b[0;31m \u001b[0m\u001b[0;31m`\u001b[0m\u001b[0;31m`\u001b[0m\u001b[1;32mFalse\u001b[0m\u001b[0;31m`\u001b[0m\u001b[0;31m`\u001b[0m\u001b[1;33m.\u001b[0m\u001b[1;33m\u001b[0m\u001b[1;33m\u001b[0m\u001b[0m\n\u001b[0;32m    194\u001b[0m         \"\"\"\n\u001b[1;32m--> 195\u001b[1;33m         \u001b[0mtorch\u001b[0m\u001b[1;33m.\u001b[0m\u001b[0mautograd\u001b[0m\u001b[1;33m.\u001b[0m\u001b[0mbackward\u001b[0m\u001b[1;33m(\u001b[0m\u001b[0mself\u001b[0m\u001b[1;33m,\u001b[0m \u001b[0mgradient\u001b[0m\u001b[1;33m,\u001b[0m \u001b[0mretain_graph\u001b[0m\u001b[1;33m,\u001b[0m \u001b[0mcreate_graph\u001b[0m\u001b[1;33m)\u001b[0m\u001b[1;33m\u001b[0m\u001b[1;33m\u001b[0m\u001b[0m\n\u001b[0m\u001b[0;32m    196\u001b[0m \u001b[1;33m\u001b[0m\u001b[0m\n\u001b[0;32m    197\u001b[0m     \u001b[1;32mdef\u001b[0m \u001b[0mregister_hook\u001b[0m\u001b[1;33m(\u001b[0m\u001b[0mself\u001b[0m\u001b[1;33m,\u001b[0m \u001b[0mhook\u001b[0m\u001b[1;33m)\u001b[0m\u001b[1;33m:\u001b[0m\u001b[1;33m\u001b[0m\u001b[1;33m\u001b[0m\u001b[0m\n",
      "\u001b[1;32m~\\Anaconda3\\envs\\pytorch12\\lib\\site-packages\\torch\\autograd\\__init__.py\u001b[0m in \u001b[0;36mbackward\u001b[1;34m(tensors, grad_tensors, retain_graph, create_graph, grad_variables)\u001b[0m\n\u001b[0;32m     97\u001b[0m     Variable._execution_engine.run_backward(\n\u001b[0;32m     98\u001b[0m         \u001b[0mtensors\u001b[0m\u001b[1;33m,\u001b[0m \u001b[0mgrad_tensors\u001b[0m\u001b[1;33m,\u001b[0m \u001b[0mretain_graph\u001b[0m\u001b[1;33m,\u001b[0m \u001b[0mcreate_graph\u001b[0m\u001b[1;33m,\u001b[0m\u001b[1;33m\u001b[0m\u001b[1;33m\u001b[0m\u001b[0m\n\u001b[1;32m---> 99\u001b[1;33m         allow_unreachable=True)  # allow_unreachable flag\n\u001b[0m\u001b[0;32m    100\u001b[0m \u001b[1;33m\u001b[0m\u001b[0m\n\u001b[0;32m    101\u001b[0m \u001b[1;33m\u001b[0m\u001b[0m\n",
      "\u001b[1;31mKeyboardInterrupt\u001b[0m: "
     ]
    }
   ],
   "source": [
    "for i in range(n_epochs):\n",
    "    \n",
    "    train_loss = step(model, train_loader, mae, train = True, optimizer = optimizer)\n",
    "    val_loss = step(model, val_loader, mae)\n",
    "    \n",
    "    print(\"Train:\", train_loss)\n",
    "    print(\"Val:\", val_loss)"
   ]
  },
  {
   "cell_type": "code",
   "execution_count": null,
   "metadata": {},
   "outputs": [],
   "source": [
    "\n",
    "class CNNModel(nn.Module):\n",
    "\n",
    "    def __init__(self):\n",
    "        super(CNNModel, self).__init__()\n",
    "        self.feature = nn.Sequential()\n",
    "        self.feature.add_module('f_conv1', nn.Conv2d(3, 64, kernel_size=5))\n",
    "        self.feature.add_module('f_bn1', nn.BatchNorm2d(64))\n",
    "        self.feature.add_module('f_pool1', nn.MaxPool2d(2))\n",
    "        self.feature.add_module('f_relu1', nn.ReLU(True))\n",
    "        self.feature.add_module('f_conv2', nn.Conv2d(64, 50, kernel_size=5))\n",
    "        self.feature.add_module('f_bn2', nn.BatchNorm2d(50))\n",
    "        self.feature.add_module('f_drop1', nn.Dropout2d())\n",
    "        self.feature.add_module('f_pool2', nn.MaxPool2d(2))\n",
    "        self.feature.add_module('f_relu2', nn.ReLU(True))\n",
    "\n",
    "        self.class_classifier = nn.Sequential()\n",
    "        self.class_classifier.add_module('c_fc1', nn.Linear(50 * 4 * 4, 100))\n",
    "        self.class_classifier.add_module('c_bn1', nn.BatchNorm1d(100))\n",
    "        self.class_classifier.add_module('c_relu1', nn.ReLU(True))\n",
    "        self.class_classifier.add_module('c_drop1', nn.Dropout2d())\n",
    "        self.class_classifier.add_module('c_fc2', nn.Linear(100, 100))\n",
    "        self.class_classifier.add_module('c_bn2', nn.BatchNorm1d(100))\n",
    "        self.class_classifier.add_module('c_relu2', nn.ReLU(True))\n",
    "        self.class_classifier.add_module('c_fc3', nn.Linear(100, 10))\n",
    "        self.class_classifier.add_module('c_softmax', nn.LogSoftmax(dim=1))\n",
    "\n",
    "        self.domain_classifier = nn.Sequential()\n",
    "        self.domain_classifier.add_module('d_fc1', nn.Linear(50 * 4 * 4, 100))\n",
    "        self.domain_classifier.add_module('d_bn1', nn.BatchNorm1d(100))\n",
    "        self.domain_classifier.add_module('d_relu1', nn.ReLU(True))\n",
    "        self.domain_classifier.add_module('d_fc2', nn.Linear(100, 2))\n",
    "        self.domain_classifier.add_module('d_softmax', nn.LogSoftmax(dim=1))\n",
    "\n",
    "    def forward(self, input_data, alpha):\n",
    "        input_data = input_data.expand(input_data.data.shape[0], 3, 28, 28)\n",
    "        feature = self.feature(input_data)\n",
    "        feature = feature.view(-1, 50 * 4 * 4)\n",
    "        reverse_feature = ReverseLayerF.apply(feature, alpha)\n",
    "        class_output = self.class_classifier(feature)\n",
    "        domain_output = self.domain_classifier(reverse_feature)\n",
    "\n",
    "        return class_output, domain_output\n"
   ]
  },
  {
   "cell_type": "code",
   "execution_count": 32,
   "metadata": {},
   "outputs": [],
   "source": [
    "from functions import ReverseLayerF\n",
    "\n",
    "class VRADA(nn.Module):\n",
    "    \n",
    "    def __init__(self, x_dim, h_dim, h_dim_reg, z_dim, out_dim, n_domains, n_layers, device, bias=False):\n",
    "        super().__init__()\n",
    "        \n",
    "        self.device = device\n",
    "        self.vrnn = VRNN(x_dim, h_dim, z_dim, n_layers, device)\n",
    "        self.linear = nn.Linear (h_dim, out_dim)\n",
    "        \n",
    "        self.regressor = nn.Sequential()\n",
    "        self.regressor.add_module('c_fc1', nn.Linear(h_dim, h_dim_reg))\n",
    "        self.regressor.add_module('c_bn1', nn.BatchNorm1d(h_dim_reg))\n",
    "        self.regressor.add_module('c_relu1', nn.ReLU(True))\n",
    "        self.regressor.add_module('c_drop1', nn.Dropout2d())\n",
    "        self.regressor.add_module('c_fc2', nn.Linear(h_dim_reg, out_dim))\n",
    "        \n",
    "        \n",
    "        self.domain_classifier = nn.Sequential()\n",
    "        self.domain_classifier = nn.Sequential()\n",
    "        self.domain_classifier.add_module('c_fc1', nn.Linear(h_dim, h_dim_reg))\n",
    "        self.domain_classifier.add_module('c_bn1', nn.BatchNorm1d(h_dim_reg))\n",
    "        self.domain_classifier.add_module('c_relu1', nn.ReLU(True))\n",
    "        self.domain_classifier.add_module('c_drop1', nn.Dropout2d())\n",
    "        self.domain_classifier.add_module('c_fc2', nn.Linear(h_dim_reg, n_domains))\n",
    "        self.domain_classifier.add_module('d_softmax', nn.LogSoftmax(dim=1))\n",
    "        \n",
    "    def forward(self, x, alpha):\n",
    "        \n",
    "        x = x.to(self.device)\n",
    "        x = x.squeeze().transpose(0, 1)\n",
    "        kld_loss, nll_loss, (all_enc_mean, all_enc_std), (all_dec_mean, all_dec_std), x1, h = self.vrnn(x)\n",
    "        reverse_feature = ReverseLayerF.apply(h.squeeze(), alpha)\n",
    "        regressor_output = self.regressor(reverse_feature)\n",
    "        domain_class_output = self.domain_classifier(reverse_feature)\n",
    "        \n",
    "        return regressor_output, domain_class_output, kld_loss, nll_loss\n",
    "        \n",
    "    def cuda(self):\n",
    "        \n",
    "        self.vrnn.cuda()\n",
    "        \n",
    "        super().cuda()"
   ]
  },
  {
   "cell_type": "code",
   "execution_count": 62,
   "metadata": {},
   "outputs": [],
   "source": [
    "h_dim = 50\n",
    "z_dim = 16\n",
    "h_dim_reg = 50\n",
    "n_domains = np.max(train_data.file_idx)+1\n",
    "out_dim=1\n",
    "vrada = VRADA(x_dim, h_dim, h_dim_reg, z_dim, out_dim, n_domains, n_layers, device)"
   ]
  },
  {
   "cell_type": "code",
   "execution_count": 63,
   "metadata": {},
   "outputs": [
    {
     "data": {
      "text/plain": [
       "54647"
      ]
     },
     "execution_count": 63,
     "metadata": {},
     "output_type": "execute_result"
    }
   ],
   "source": [
    "count_parameters(vrada)"
   ]
  },
  {
   "cell_type": "code",
   "execution_count": 38,
   "metadata": {},
   "outputs": [],
   "source": [
    "vrada.cuda()\n",
    "#vrada(sample)"
   ]
  },
  {
   "cell_type": "code",
   "execution_count": 39,
   "metadata": {},
   "outputs": [],
   "source": [
    "optimizer = optim.Adam(vrada.parameters(), lr=0.0001)\n",
    "\n",
    "loss_regression = mae\n",
    "loss_domain = torch.nn.NLLLoss()"
   ]
  },
  {
   "cell_type": "code",
   "execution_count": 40,
   "metadata": {},
   "outputs": [],
   "source": [
    "x_sample = torch.tensor(train_data.x[0:5]).float()\n",
    "y_sample = torch.tensor(train_data.y[0:5]).float()\n",
    "d_sample = torch.tensor(train_data.file_idx[0:5]).float()\n",
    "\n"
   ]
  },
  {
   "cell_type": "code",
   "execution_count": 42,
   "metadata": {},
   "outputs": [],
   "source": [
    "#regressor_output, domain_class_output, kld_loss, nll_loss = vrada(x_sample)"
   ]
  },
  {
   "cell_type": "code",
   "execution_count": 43,
   "metadata": {},
   "outputs": [
    {
     "ename": "RuntimeError",
     "evalue": "The size of tensor a (63) must match the size of tensor b (5) at non-singleton dimension 0",
     "output_type": "error",
     "traceback": [
      "\u001b[1;31m---------------------------------------------------------------------------\u001b[0m",
      "\u001b[1;31mRuntimeError\u001b[0m                              Traceback (most recent call last)",
      "\u001b[1;32m<ipython-input-43-b1ffba3e33cf>\u001b[0m in \u001b[0;36m<module>\u001b[1;34m\u001b[0m\n\u001b[1;32m----> 1\u001b[1;33m \u001b[0merr_reg\u001b[0m \u001b[1;33m=\u001b[0m \u001b[0mloss_regression\u001b[0m\u001b[1;33m(\u001b[0m\u001b[0mregressor_output\u001b[0m\u001b[1;33m,\u001b[0m \u001b[0my_sample\u001b[0m\u001b[1;33m.\u001b[0m\u001b[0mto\u001b[0m\u001b[1;33m(\u001b[0m\u001b[0mdevice\u001b[0m\u001b[1;33m)\u001b[0m \u001b[1;33m)\u001b[0m\u001b[1;33m\u001b[0m\u001b[1;33m\u001b[0m\u001b[0m\n\u001b[0m\u001b[0;32m      2\u001b[0m \u001b[0merr_dom\u001b[0m \u001b[1;33m=\u001b[0m \u001b[0mloss_domain\u001b[0m\u001b[1;33m(\u001b[0m\u001b[0mdomain_class_output\u001b[0m\u001b[1;33m.\u001b[0m\u001b[0mfloat\u001b[0m\u001b[1;33m(\u001b[0m\u001b[1;33m)\u001b[0m\u001b[1;33m,\u001b[0m \u001b[0md_sample\u001b[0m\u001b[1;33m.\u001b[0m\u001b[0mlong\u001b[0m\u001b[1;33m(\u001b[0m\u001b[1;33m)\u001b[0m\u001b[1;33m.\u001b[0m\u001b[0mto\u001b[0m\u001b[1;33m(\u001b[0m\u001b[0mdevice\u001b[0m\u001b[1;33m)\u001b[0m\u001b[1;33m)\u001b[0m\u001b[1;33m\u001b[0m\u001b[1;33m\u001b[0m\u001b[0m\n",
      "\u001b[1;32m~\\Documents\\Data Analytics Master\\Semester4-Thesis\\repo\\time-series-meta-learning\\master-thesis\\Code\\metrics.py\u001b[0m in \u001b[0;36mtorch_mae\u001b[1;34m(y_pred, y_true)\u001b[0m\n\u001b[0;32m      3\u001b[0m \u001b[1;33m\u001b[0m\u001b[0m\n\u001b[0;32m      4\u001b[0m \u001b[1;32mdef\u001b[0m \u001b[0mtorch_mae\u001b[0m\u001b[1;33m(\u001b[0m\u001b[0my_pred\u001b[0m\u001b[1;33m,\u001b[0m \u001b[0my_true\u001b[0m\u001b[1;33m)\u001b[0m\u001b[1;33m:\u001b[0m\u001b[1;33m\u001b[0m\u001b[1;33m\u001b[0m\u001b[0m\n\u001b[1;32m----> 5\u001b[1;33m     \u001b[0mloss\u001b[0m \u001b[1;33m=\u001b[0m \u001b[1;33m(\u001b[0m\u001b[0mtorch\u001b[0m\u001b[1;33m.\u001b[0m\u001b[0mabs\u001b[0m\u001b[1;33m(\u001b[0m\u001b[0my_pred\u001b[0m \u001b[1;33m-\u001b[0m \u001b[0my_true\u001b[0m\u001b[1;33m)\u001b[0m\u001b[1;33m)\u001b[0m\u001b[1;33m.\u001b[0m\u001b[0mmean\u001b[0m\u001b[1;33m(\u001b[0m\u001b[1;33m)\u001b[0m\u001b[1;33m\u001b[0m\u001b[1;33m\u001b[0m\u001b[0m\n\u001b[0m\u001b[0;32m      6\u001b[0m     \u001b[1;32mreturn\u001b[0m \u001b[0mloss\u001b[0m\u001b[1;33m\u001b[0m\u001b[1;33m\u001b[0m\u001b[0m\n\u001b[0;32m      7\u001b[0m \u001b[1;33m\u001b[0m\u001b[0m\n",
      "\u001b[1;31mRuntimeError\u001b[0m: The size of tensor a (63) must match the size of tensor b (5) at non-singleton dimension 0"
     ]
    }
   ],
   "source": [
    "err_reg = loss_regression(regressor_output, y_sample.to(device) )\n",
    "err_dom = loss_domain(domain_class_output.float(), d_sample.long().to(device))"
   ]
  },
  {
   "cell_type": "code",
   "execution_count": 20,
   "metadata": {},
   "outputs": [
    {
     "data": {
      "text/plain": [
       "tensor(0.1996, device='cuda:0', grad_fn=<MeanBackward0>)"
      ]
     },
     "execution_count": 20,
     "metadata": {},
     "output_type": "execute_result"
    }
   ],
   "source": [
    "err_reg"
   ]
  },
  {
   "cell_type": "code",
   "execution_count": 21,
   "metadata": {},
   "outputs": [
    {
     "data": {
      "text/plain": [
       "tensor([0., 0., 0., 0., 0.])"
      ]
     },
     "execution_count": 21,
     "metadata": {},
     "output_type": "execute_result"
    }
   ],
   "source": [
    "d_sample"
   ]
  },
  {
   "cell_type": "code",
   "execution_count": 44,
   "metadata": {},
   "outputs": [],
   "source": [
    "class DomainTSDataset:\n",
    "    \n",
    "    def __init__(self, dataset):\n",
    "        \n",
    "        self.x = dataset.x\n",
    "        self.y = dataset.y\n",
    "        self.d = dataset.file_idx\n",
    "        \n",
    "    def __getitem__(self, index):\n",
    "        return self.x[index], self.y[index], self.d[index]\n",
    "\n",
    "    def __len__(self):\n",
    "        return self.y.shape[0]\n",
    "        "
   ]
  },
  {
   "cell_type": "code",
   "execution_count": 45,
   "metadata": {},
   "outputs": [],
   "source": [
    "domain_train_data = DomainTSDataset(train_data)\n",
    "domain_train_loader = DataLoader(domain_train_data, **params)\n",
    "\n",
    "domain_val_data = DomainTSDataset(validation_data)\n",
    "domain_val_loader = DataLoader(domain_val_data, **params)"
   ]
  },
  {
   "cell_type": "code",
   "execution_count": 47,
   "metadata": {},
   "outputs": [
    {
     "name": "stderr",
     "output_type": "stream",
     "text": [
      "C:\\Users\\Sebastian\\Anaconda3\\envs\\pytorch12\\lib\\site-packages\\ipykernel_launcher.py:21: UserWarning: To copy construct from a tensor, it is recommended to use sourceTensor.clone().detach() or sourceTensor.clone().detach().requires_grad_(True), rather than torch.tensor(sourceTensor).\n",
      "C:\\Users\\Sebastian\\Anaconda3\\envs\\pytorch12\\lib\\site-packages\\ipykernel_launcher.py:22: UserWarning: To copy construct from a tensor, it is recommended to use sourceTensor.clone().detach() or sourceTensor.clone().detach().requires_grad_(True), rather than torch.tensor(sourceTensor).\n",
      "C:\\Users\\Sebastian\\Anaconda3\\envs\\pytorch12\\lib\\site-packages\\ipykernel_launcher.py:23: UserWarning: To copy construct from a tensor, it is recommended to use sourceTensor.clone().detach() or sourceTensor.clone().detach().requires_grad_(True), rather than torch.tensor(sourceTensor).\n"
     ]
    },
    {
     "name": "stdout",
     "output_type": "stream",
     "text": [
      "tensor(0.6507, device='cuda:0') tensor(0.5446, device='cuda:0') tensor(1.0353, device='cuda:0') tensor(30.7617, device='cuda:0') tensor(2544.3591, device='cuda:0')\n",
      "tensor(0.5966, device='cuda:0') tensor(0.4843, device='cuda:0') tensor(1.0973, device='cuda:0') tensor(30.4367, device='cuda:0') tensor(2541.8091, device='cuda:0')\n",
      "tensor(0.5496, device='cuda:0') tensor(0.4347, device='cuda:0') tensor(1.1236, device='cuda:0') tensor(29.7159, device='cuda:0') tensor(2526.8228, device='cuda:0')\n",
      "tensor(0.6464, device='cuda:0') tensor(0.5346, device='cuda:0') tensor(1.0917, device='cuda:0') tensor(29.4133, device='cuda:0') tensor(2546.4604, device='cuda:0')\n",
      "tensor(0.6829, device='cuda:0') tensor(0.5689, device='cuda:0') tensor(1.1144, device='cuda:0') tensor(29.0139, device='cuda:0') tensor(2499.1270, device='cuda:0')\n",
      "tensor(0.6198, device='cuda:0') tensor(0.5074, device='cuda:0') tensor(1.0982, device='cuda:0') tensor(29.3720, device='cuda:0') tensor(2546.7896, device='cuda:0')\n",
      "tensor(0.5863, device='cuda:0') tensor(0.4695, device='cuda:0') tensor(1.1424, device='cuda:0') tensor(29.0824, device='cuda:0') tensor(2494.3220, device='cuda:0')\n",
      "tensor(0.5461, device='cuda:0') tensor(0.4409, device='cuda:0') tensor(1.0276, device='cuda:0') tensor(28.8888, device='cuda:0') tensor(2446.2671, device='cuda:0')\n",
      "tensor(0.5861, device='cuda:0') tensor(0.4764, device='cuda:0') tensor(1.0726, device='cuda:0') tensor(27.7773, device='cuda:0') tensor(2449.8521, device='cuda:0')\n",
      "tensor(0.5647, device='cuda:0') tensor(0.4578, device='cuda:0') tensor(1.0428, device='cuda:0') tensor(30.1254, device='cuda:0') tensor(2569.2705, device='cuda:0')\n",
      "tensor(0.5854, device='cuda:0') tensor(0.4763, device='cuda:0') tensor(1.0663, device='cuda:0') tensor(27.8375, device='cuda:0') tensor(2483.7981, device='cuda:0')\n",
      "tensor(0.5831, device='cuda:0') tensor(0.4719, device='cuda:0') tensor(1.0874, device='cuda:0') tensor(28.6180, device='cuda:0') tensor(2423.5493, device='cuda:0')\n",
      "tensor(0.5529, device='cuda:0') tensor(0.4354, device='cuda:0') tensor(1.1496, device='cuda:0') tensor(26.7759, device='cuda:0') tensor(2449.2881, device='cuda:0')\n",
      "tensor(0.6067, device='cuda:0') tensor(0.4935, device='cuda:0') tensor(1.1062, device='cuda:0') tensor(27.3156, device='cuda:0') tensor(2478.2144, device='cuda:0')\n",
      "tensor(0.5682, device='cuda:0') tensor(0.4559, device='cuda:0') tensor(1.0986, device='cuda:0') tensor(27.5050, device='cuda:0') tensor(2417.0796, device='cuda:0')\n",
      "tensor(0.5633, device='cuda:0') tensor(0.4510, device='cuda:0') tensor(1.0987, device='cuda:0') tensor(26.7691, device='cuda:0') tensor(2408.6672, device='cuda:0')\n",
      "tensor(0.5915, device='cuda:0') tensor(0.4779, device='cuda:0') tensor(1.1110, device='cuda:0') tensor(26.8062, device='cuda:0') tensor(2398.4128, device='cuda:0')\n",
      "tensor(0.6336, device='cuda:0') tensor(0.5271, device='cuda:0') tensor(1.0405, device='cuda:0') tensor(26.5399, device='cuda:0') tensor(2455.1968, device='cuda:0')\n",
      "tensor(0.5815, device='cuda:0') tensor(0.4712, device='cuda:0') tensor(1.0801, device='cuda:0') tensor(26.1437, device='cuda:0') tensor(2329.6345, device='cuda:0')\n",
      "tensor(0.5523, device='cuda:0') tensor(0.4406, device='cuda:0') tensor(1.0944, device='cuda:0') tensor(27.1456, device='cuda:0') tensor(2320.8628, device='cuda:0')\n",
      "tensor(0.5372, device='cuda:0') tensor(0.4177, device='cuda:0') tensor(1.1716, device='cuda:0') tensor(25.7987, device='cuda:0') tensor(2359.6970, device='cuda:0')\n",
      "tensor(0.5679, device='cuda:0') tensor(0.4590, device='cuda:0') tensor(1.0651, device='cuda:0') tensor(25.7634, device='cuda:0') tensor(2362.2686, device='cuda:0')\n",
      "tensor(0.5651, device='cuda:0') tensor(0.4584, device='cuda:0') tensor(1.0427, device='cuda:0') tensor(25.5359, device='cuda:0') tensor(2431.1978, device='cuda:0')\n",
      "tensor(0.5766, device='cuda:0') tensor(0.4648, device='cuda:0') tensor(1.0942, device='cuda:0') tensor(24.6416, device='cuda:0') tensor(2292.0669, device='cuda:0')\n",
      "tensor(0.5390, device='cuda:0') tensor(0.4252, device='cuda:0') tensor(1.1143, device='cuda:0') tensor(25.0115, device='cuda:0') tensor(2300.6174, device='cuda:0')\n",
      "tensor(0.5613, device='cuda:0') tensor(0.4524, device='cuda:0') tensor(1.0649, device='cuda:0') tensor(24.0382, device='cuda:0') tensor(2397.1382, device='cuda:0')\n",
      "tensor(0.5842, device='cuda:0') tensor(0.4681, device='cuda:0') tensor(1.1380, device='cuda:0') tensor(24.1072, device='cuda:0') tensor(2342.6863, device='cuda:0')\n",
      "tensor(0.5088, device='cuda:0') tensor(0.4034, device='cuda:0') tensor(1.0307, device='cuda:0') tensor(24.3847, device='cuda:0') tensor(2301.3464, device='cuda:0')\n",
      "tensor(0.5974, device='cuda:0') tensor(0.4827, device='cuda:0') tensor(1.1247, device='cuda:0') tensor(24.7940, device='cuda:0') tensor(2262.0496, device='cuda:0')\n",
      "tensor(0.5735, device='cuda:0') tensor(0.4626, device='cuda:0') tensor(1.0855, device='cuda:0') tensor(23.5352, device='cuda:0') tensor(2292.4541, device='cuda:0')\n",
      "tensor(0.5613, device='cuda:0') tensor(0.4619, device='cuda:0') tensor(0.9720, device='cuda:0') tensor(23.2941, device='cuda:0') tensor(2168.8921, device='cuda:0')\n",
      "tensor(0.5675, device='cuda:0') tensor(0.4495, device='cuda:0') tensor(1.1576, device='cuda:0') tensor(24.0665, device='cuda:0') tensor(2224.6216, device='cuda:0')\n",
      "tensor(0.5401, device='cuda:0') tensor(0.4308, device='cuda:0') tensor(1.0708, device='cuda:0') tensor(22.9409, device='cuda:0') tensor(2190.9153, device='cuda:0')\n",
      "tensor(0.4208, device='cuda:0') tensor(0.3084, device='cuda:0') tensor(1.1024, device='cuda:0') tensor(23.1332, device='cuda:0') tensor(2177.3748, device='cuda:0')\n",
      "tensor(0.5425, device='cuda:0') tensor(0.4315, device='cuda:0') tensor(1.0883, device='cuda:0') tensor(22.2017, device='cuda:0') tensor(2157.8164, device='cuda:0')\n",
      "tensor(0.5330, device='cuda:0') tensor(0.4218, device='cuda:0') tensor(1.0902, device='cuda:0') tensor(22.1175, device='cuda:0') tensor(2223.6709, device='cuda:0')\n",
      "tensor(0.5902, device='cuda:0') tensor(0.4892, device='cuda:0') tensor(0.9892, device='cuda:0') tensor(22.8383, device='cuda:0') tensor(2107.6924, device='cuda:0')\n",
      "tensor(0.5087, device='cuda:0') tensor(0.4054, device='cuda:0') tensor(1.0115, device='cuda:0') tensor(21.2959, device='cuda:0') tensor(2071.5659, device='cuda:0')\n",
      "tensor(0.5906, device='cuda:0') tensor(0.4713, device='cuda:0') tensor(1.1711, device='cuda:0') tensor(21.9583, device='cuda:0') tensor(2159.3530, device='cuda:0')\n",
      "tensor(0.5391, device='cuda:0') tensor(0.4338, device='cuda:0') tensor(1.0299, device='cuda:0') tensor(21.2614, device='cuda:0') tensor(2204.0234, device='cuda:0')\n",
      "tensor(0.5761, device='cuda:0') tensor(0.4632, device='cuda:0') tensor(1.1072, device='cuda:0') tensor(21.3675, device='cuda:0') tensor(2071.4478, device='cuda:0')\n",
      "tensor(0.5184, device='cuda:0') tensor(0.4057, device='cuda:0') tensor(1.1061, device='cuda:0') tensor(21.7217, device='cuda:0') tensor(2085.6997, device='cuda:0')\n",
      "tensor(0.4763, device='cuda:0') tensor(0.3675, device='cuda:0') tensor(1.0669, device='cuda:0') tensor(21.0646, device='cuda:0') tensor(2075.8291, device='cuda:0')\n",
      "tensor(0.5160, device='cuda:0') tensor(0.4114, device='cuda:0') tensor(1.0232, device='cuda:0') tensor(20.8601, device='cuda:0') tensor(2203.3984, device='cuda:0')\n",
      "tensor(0.4755, device='cuda:0') tensor(0.3685, device='cuda:0') tensor(1.0488, device='cuda:0') tensor(21.0789, device='cuda:0') tensor(2040.6818, device='cuda:0')\n",
      "tensor(0.4358, device='cuda:0') tensor(0.3324, device='cuda:0') tensor(1.0253, device='cuda:0') tensor(456.7423, device='cuda:0') tensor(336.7574, device='cuda:0')\n",
      "tensor(0.5323, device='cuda:0') tensor(0.4157, device='cuda:0') tensor(1.1448, device='cuda:0') tensor(20.6329, device='cuda:0') tensor(2097.5669, device='cuda:0')\n",
      "tensor(0.5600, device='cuda:0') tensor(0.4420, device='cuda:0') tensor(1.1594, device='cuda:0') tensor(20.9758, device='cuda:0') tensor(2037.6470, device='cuda:0')\n",
      "tensor(0.4881, device='cuda:0') tensor(0.3743, device='cuda:0') tensor(1.1177, device='cuda:0') tensor(19.4931, device='cuda:0') tensor(1969.5063, device='cuda:0')\n",
      "tensor(0.5220, device='cuda:0') tensor(0.4137, device='cuda:0') tensor(1.0643, device='cuda:0') tensor(20.6820, device='cuda:0') tensor(1908.7786, device='cuda:0')\n"
     ]
    },
    {
     "name": "stdout",
     "output_type": "stream",
     "text": [
      "tensor(0.4943, device='cuda:0') tensor(0.3902, device='cuda:0') tensor(1.0204, device='cuda:0') tensor(19.6868, device='cuda:0') tensor(2032.3333, device='cuda:0')\n",
      "tensor(0.5737, device='cuda:0') tensor(0.4578, device='cuda:0') tensor(1.1391, device='cuda:0') tensor(19.1999, device='cuda:0') tensor(1958.7539, device='cuda:0')\n",
      "tensor(0.4767, device='cuda:0') tensor(0.3745, device='cuda:0') tensor(1.0021, device='cuda:0') tensor(19.7890, device='cuda:0') tensor(1965.4971, device='cuda:0')\n",
      "tensor(0.4548, device='cuda:0') tensor(0.3396, device='cuda:0') tensor(1.1322, device='cuda:0') tensor(20.3872, device='cuda:0') tensor(1977.8501, device='cuda:0')\n",
      "tensor(0.5603, device='cuda:0') tensor(0.4447, device='cuda:0') tensor(1.1360, device='cuda:0') tensor(20.0589, device='cuda:0') tensor(1966.9868, device='cuda:0')\n",
      "tensor(0.5542, device='cuda:0') tensor(0.4414, device='cuda:0') tensor(1.1086, device='cuda:0') tensor(19.9498, device='cuda:0') tensor(1976.1074, device='cuda:0')\n",
      "tensor(0.5407, device='cuda:0') tensor(0.4296, device='cuda:0') tensor(1.0913, device='cuda:0') tensor(19.6323, device='cuda:0') tensor(1972.6943, device='cuda:0')\n",
      "tensor(0.4900, device='cuda:0') tensor(0.3698, device='cuda:0') tensor(1.1828, device='cuda:0') tensor(18.5161, device='cuda:0') tensor(1940.1279, device='cuda:0')\n",
      "tensor(0.5246, device='cuda:0') tensor(0.4011, device='cuda:0') tensor(1.2151, device='cuda:0') tensor(18.6029, device='cuda:0') tensor(1922.4277, device='cuda:0')\n",
      "tensor(0.5354, device='cuda:0') tensor(0.4241, device='cuda:0') tensor(1.0941, device='cuda:0') tensor(18.8488, device='cuda:0') tensor(1809.3981, device='cuda:0')\n",
      "tensor(0.5959, device='cuda:0') tensor(0.4856, device='cuda:0') tensor(1.0836, device='cuda:0') tensor(19.6475, device='cuda:0') tensor(1923.1833, device='cuda:0')\n",
      "tensor(0.5253, device='cuda:0') tensor(0.4160, device='cuda:0') tensor(1.0744, device='cuda:0') tensor(19.6480, device='cuda:0') tensor(1900.5770, device='cuda:0')\n",
      "tensor(0.5521, device='cuda:0') tensor(0.4411, device='cuda:0') tensor(1.0911, device='cuda:0') tensor(17.9503, device='cuda:0') tensor(1856.7965, device='cuda:0')\n",
      "tensor(0.5360, device='cuda:0') tensor(0.4320, device='cuda:0') tensor(1.0230, device='cuda:0') tensor(18.6653, device='cuda:0') tensor(1768.9351, device='cuda:0')\n",
      "tensor(0.5357, device='cuda:0') tensor(0.4230, device='cuda:0') tensor(1.1076, device='cuda:0') tensor(18.5217, device='cuda:0') tensor(1907.5236, device='cuda:0')\n",
      "tensor(0.4976, device='cuda:0') tensor(0.3833, device='cuda:0') tensor(1.1248, device='cuda:0') tensor(18.7040, device='cuda:0') tensor(1802.0839, device='cuda:0')\n",
      "tensor(0.5238, device='cuda:0') tensor(0.4100, device='cuda:0') tensor(1.1196, device='cuda:0') tensor(18.0079, device='cuda:0') tensor(1773.8149, device='cuda:0')\n",
      "tensor(0.5206, device='cuda:0') tensor(0.4169, device='cuda:0') tensor(1.0204, device='cuda:0') tensor(18.0627, device='cuda:0') tensor(1609.0089, device='cuda:0')\n",
      "tensor(0.4458, device='cuda:0') tensor(0.3299, device='cuda:0') tensor(1.1418, device='cuda:0') tensor(17.7655, device='cuda:0') tensor(1700.6514, device='cuda:0')\n",
      "tensor(0.5288, device='cuda:0') tensor(0.4221, device='cuda:0') tensor(1.0489, device='cuda:0') tensor(18.4082, device='cuda:0') tensor(1774.3030, device='cuda:0')\n",
      "tensor(0.4998, device='cuda:0') tensor(0.3873, device='cuda:0') tensor(1.1073, device='cuda:0') tensor(17.8052, device='cuda:0') tensor(1689.6746, device='cuda:0')\n",
      "tensor(0.4693, device='cuda:0') tensor(0.3647, device='cuda:0') tensor(1.0286, device='cuda:0') tensor(17.4733, device='cuda:0') tensor(1704.6211, device='cuda:0')\n",
      "tensor(0.5368, device='cuda:0') tensor(0.4188, device='cuda:0') tensor(1.1617, device='cuda:0') tensor(18.4686, device='cuda:0') tensor(1805.0006, device='cuda:0')\n",
      "tensor(0.5316, device='cuda:0') tensor(0.4308, device='cuda:0') tensor(0.9919, device='cuda:0') tensor(18.0520, device='cuda:0') tensor(1566.7999, device='cuda:0')\n",
      "tensor(0.5083, device='cuda:0') tensor(0.3956, device='cuda:0') tensor(1.1098, device='cuda:0') tensor(17.2542, device='cuda:0') tensor(1698.3485, device='cuda:0')\n",
      "tensor(0.4970, device='cuda:0') tensor(0.3825, device='cuda:0') tensor(1.1291, device='cuda:0') tensor(17.4776, device='cuda:0') tensor(1531.5272, device='cuda:0')\n",
      "tensor(0.4768, device='cuda:0') tensor(0.3683, device='cuda:0') tensor(1.0673, device='cuda:0') tensor(17.4080, device='cuda:0') tensor(1754.1047, device='cuda:0')\n",
      "tensor(0.5044, device='cuda:0') tensor(0.3877, device='cuda:0') tensor(1.1484, device='cuda:0') tensor(18.0758, device='cuda:0') tensor(1802.9648, device='cuda:0')\n",
      "tensor(0.5038, device='cuda:0') tensor(0.3876, device='cuda:0') tensor(1.1457, device='cuda:0') tensor(16.2925, device='cuda:0') tensor(1610.5989, device='cuda:0')\n",
      "tensor(0.4980, device='cuda:0') tensor(0.3790, device='cuda:0') tensor(1.1722, device='cuda:0') tensor(18.1451, device='cuda:0') tensor(1705.2340, device='cuda:0')\n",
      "tensor(0.5041, device='cuda:0') tensor(0.3771, device='cuda:0') tensor(1.2547, device='cuda:0') tensor(16.7790, device='cuda:0') tensor(1530.2710, device='cuda:0')\n",
      "tensor(0.4829, device='cuda:0') tensor(0.3718, device='cuda:0') tensor(1.0954, device='cuda:0') tensor(16.3213, device='cuda:0') tensor(1533.1572, device='cuda:0')\n",
      "tensor(0.4052, device='cuda:0') tensor(0.2885, device='cuda:0') tensor(1.1504, device='cuda:0') tensor(16.5634, device='cuda:0') tensor(1643.0293, device='cuda:0')\n",
      "tensor(0.5253, device='cuda:0') tensor(0.4143, device='cuda:0') tensor(1.0973, device='cuda:0') tensor(17.4520, device='cuda:0') tensor(1254.2283, device='cuda:0')\n",
      "tensor(0.4956, device='cuda:0') tensor(0.3880, device='cuda:0') tensor(1.0601, device='cuda:0') tensor(17.5918, device='cuda:0') tensor(1506.6555, device='cuda:0')\n",
      "tensor(0.5392, device='cuda:0') tensor(0.4220, device='cuda:0') tensor(1.1552, device='cuda:0') tensor(16.4521, device='cuda:0') tensor(1622.4600, device='cuda:0')\n",
      "tensor(0.5842, device='cuda:0') tensor(0.4609, device='cuda:0') tensor(1.2177, device='cuda:0') tensor(16.5690, device='cuda:0') tensor(1452.8059, device='cuda:0')\n",
      "tensor(0.5293, device='cuda:0') tensor(0.4225, device='cuda:0') tensor(1.0526, device='cuda:0') tensor(16.7867, device='cuda:0') tensor(1536.6028, device='cuda:0')\n",
      "tensor(0.5171, device='cuda:0') tensor(0.4197, device='cuda:0') tensor(0.9583, device='cuda:0') tensor(17.1851, device='cuda:0') tensor(1557.3751, device='cuda:0')\n",
      "tensor(0.4851, device='cuda:0') tensor(0.3670, device='cuda:0') tensor(1.1662, device='cuda:0') tensor(17.0423, device='cuda:0') tensor(1480.7991, device='cuda:0')\n",
      "tensor(0.4342, device='cuda:0') tensor(0.3210, device='cuda:0') tensor(1.1147, device='cuda:0') tensor(16.8389, device='cuda:0') tensor(1723.2220, device='cuda:0')\n",
      "tensor(0.5238, device='cuda:0') tensor(0.4211, device='cuda:0') tensor(1.0130, device='cuda:0') tensor(16.0935, device='cuda:0') tensor(1355.0371, device='cuda:0')\n",
      "tensor(0.4298, device='cuda:0') tensor(0.3259, device='cuda:0') tensor(1.0244, device='cuda:0') tensor(18.1340, device='cuda:0') tensor(1437.2169, device='cuda:0')\n",
      "tensor(0.4669, device='cuda:0') tensor(0.3560, device='cuda:0') tensor(1.0951, device='cuda:0') tensor(17.1664, device='cuda:0') tensor(1373.0630, device='cuda:0')\n",
      "tensor(0.5026, device='cuda:0') tensor(0.3930, device='cuda:0') tensor(1.0814, device='cuda:0') tensor(15.7006, device='cuda:0') tensor(1436.0687, device='cuda:0')\n",
      "tensor(0.5385, device='cuda:0') tensor(0.4314, device='cuda:0') tensor(1.0567, device='cuda:0') tensor(17.0288, device='cuda:0') tensor(1314.2598, device='cuda:0')\n",
      "tensor(0.4948, device='cuda:0') tensor(0.3888, device='cuda:0') tensor(1.0469, device='cuda:0') tensor(16.0936, device='cuda:0') tensor(1298.2957, device='cuda:0')\n",
      "tensor(0.4274, device='cuda:0') tensor(0.3246, device='cuda:0') tensor(1.0129, device='cuda:0') tensor(17.9123, device='cuda:0') tensor(1548.8696, device='cuda:0')\n",
      "tensor(0.5060, device='cuda:0') tensor(0.4032, device='cuda:0') tensor(1.0146, device='cuda:0') tensor(17.2013, device='cuda:0') tensor(1384.4879, device='cuda:0')\n",
      "tensor(0.5673, device='cuda:0') tensor(0.4619, device='cuda:0') tensor(1.0407, device='cuda:0') tensor(15.3264, device='cuda:0') tensor(1284.6250, device='cuda:0')\n"
     ]
    },
    {
     "name": "stdout",
     "output_type": "stream",
     "text": [
      "tensor(0.4077, device='cuda:0') tensor(0.2961, device='cuda:0') tensor(1.0990, device='cuda:0') tensor(19.1671, device='cuda:0') tensor(1679.6035, device='cuda:0')\n",
      "tensor(0.4171, device='cuda:0') tensor(0.3145, device='cuda:0') tensor(1.0129, device='cuda:0') tensor(16.1328, device='cuda:0') tensor(1256.7173, device='cuda:0')\n",
      "tensor(0.4764, device='cuda:0') tensor(0.3617, device='cuda:0') tensor(1.1338, device='cuda:0') tensor(17.2803, device='cuda:0') tensor(1296.9004, device='cuda:0')\n",
      "tensor(0.4971, device='cuda:0') tensor(0.3871, device='cuda:0') tensor(1.0877, device='cuda:0') tensor(17.3304, device='cuda:0') tensor(1245.4982, device='cuda:0')\n",
      "tensor(0.5024, device='cuda:0') tensor(0.3963, device='cuda:0') tensor(1.0480, device='cuda:0') tensor(17.5884, device='cuda:0') tensor(1287.6332, device='cuda:0')\n",
      "tensor(0.4563, device='cuda:0') tensor(0.3472, device='cuda:0') tensor(1.0757, device='cuda:0') tensor(16.1023, device='cuda:0') tensor(1509.2019, device='cuda:0')\n",
      "tensor(0.4897, device='cuda:0') tensor(0.3761, device='cuda:0') tensor(1.1244, device='cuda:0') tensor(15.1593, device='cuda:0') tensor(1113.5219, device='cuda:0')\n",
      "tensor(0.4545, device='cuda:0') tensor(0.3451, device='cuda:0') tensor(1.0806, device='cuda:0') tensor(16.0814, device='cuda:0') tensor(1296.1907, device='cuda:0')\n",
      "tensor(0.4061, device='cuda:0') tensor(0.3002, device='cuda:0') tensor(1.0487, device='cuda:0') tensor(16.6989, device='cuda:0') tensor(1094.8817, device='cuda:0')\n",
      "tensor(0.4388, device='cuda:0') tensor(0.3343, device='cuda:0') tensor(1.0316, device='cuda:0') tensor(18.6927, device='cuda:0') tensor(1385.4265, device='cuda:0')\n",
      "tensor(0.4433, device='cuda:0') tensor(0.3396, device='cuda:0') tensor(1.0255, device='cuda:0') tensor(16.7669, device='cuda:0') tensor(1056.3162, device='cuda:0')\n",
      "tensor(0.5285, device='cuda:0') tensor(0.4121, device='cuda:0') tensor(1.1520, device='cuda:0') tensor(16.7132, device='cuda:0') tensor(1194.8162, device='cuda:0')\n",
      "tensor(0.4676, device='cuda:0') tensor(0.3675, device='cuda:0') tensor(0.9896, device='cuda:0') tensor(15.9957, device='cuda:0') tensor(1089.5104, device='cuda:0')\n",
      "tensor(0.5230, device='cuda:0') tensor(0.4196, device='cuda:0') tensor(1.0211, device='cuda:0') tensor(16.0234, device='cuda:0') tensor(1316.0129, device='cuda:0')\n",
      "tensor(0.4948, device='cuda:0') tensor(0.3825, device='cuda:0') tensor(1.1132, device='cuda:0') tensor(15.8311, device='cuda:0') tensor(973.3236, device='cuda:0')\n",
      "tensor(0.5148, device='cuda:0') tensor(0.4092, device='cuda:0') tensor(1.0428, device='cuda:0') tensor(16.8523, device='cuda:0') tensor(1242.1604, device='cuda:0')\n",
      "tensor(0.4784, device='cuda:0') tensor(0.3738, device='cuda:0') tensor(1.0340, device='cuda:0') tensor(17.3709, device='cuda:0') tensor(1176.5969, device='cuda:0')\n",
      "tensor(0.4789, device='cuda:0') tensor(0.3727, device='cuda:0') tensor(1.0506, device='cuda:0') tensor(16.8434, device='cuda:0') tensor(1147.6396, device='cuda:0')\n",
      "tensor(0.4665, device='cuda:0') tensor(0.3564, device='cuda:0') tensor(1.0903, device='cuda:0') tensor(16.1800, device='cuda:0') tensor(1055.3734, device='cuda:0')\n",
      "tensor(0.5102, device='cuda:0') tensor(0.3913, device='cuda:0') tensor(1.1762, device='cuda:0') tensor(15.8253, device='cuda:0') tensor(1182.5422, device='cuda:0')\n",
      "tensor(0.4744, device='cuda:0') tensor(0.3622, device='cuda:0') tensor(1.1126, device='cuda:0') tensor(15.7741, device='cuda:0') tensor(927.2130, device='cuda:0')\n",
      "tensor(0.4915, device='cuda:0') tensor(0.3876, device='cuda:0') tensor(1.0290, device='cuda:0') tensor(16.9232, device='cuda:0') tensor(1048.7217, device='cuda:0')\n",
      "tensor(0.4302, device='cuda:0') tensor(0.3287, device='cuda:0') tensor(1.0035, device='cuda:0') tensor(18.0028, device='cuda:0') tensor(1142.8110, device='cuda:0')\n",
      "tensor(0.5101, device='cuda:0') tensor(0.4000, device='cuda:0') tensor(1.0879, device='cuda:0') tensor(15.8916, device='cuda:0') tensor(1266.6909, device='cuda:0')\n",
      "tensor(0.4276, device='cuda:0') tensor(0.3195, device='cuda:0') tensor(1.0701, device='cuda:0') tensor(16.5221, device='cuda:0') tensor(1081.4297, device='cuda:0')\n",
      "tensor(0.4728, device='cuda:0') tensor(0.3689, device='cuda:0') tensor(1.0295, device='cuda:0') tensor(15.8804, device='cuda:0') tensor(914.3216, device='cuda:0')\n",
      "tensor(0.4728, device='cuda:0') tensor(0.3636, device='cuda:0') tensor(1.0823, device='cuda:0') tensor(16.5014, device='cuda:0') tensor(1007.8041, device='cuda:0')\n",
      "tensor(0.5121, device='cuda:0') tensor(0.4035, device='cuda:0') tensor(1.0746, device='cuda:0') tensor(16.3282, device='cuda:0') tensor(1121.7517, device='cuda:0')\n",
      "tensor(0.4424, device='cuda:0') tensor(0.3406, device='cuda:0') tensor(1.0088, device='cuda:0') tensor(15.7448, device='cuda:0') tensor(880.1832, device='cuda:0')\n",
      "tensor(0.3819, device='cuda:0') tensor(0.2760, device='cuda:0') tensor(1.0495, device='cuda:0') tensor(15.8601, device='cuda:0') tensor(985.2194, device='cuda:0')\n",
      "tensor(0.4185, device='cuda:0') tensor(0.3160, device='cuda:0') tensor(1.0152, device='cuda:0') tensor(15.8993, device='cuda:0') tensor(966.7551, device='cuda:0')\n",
      "tensor(0.4367, device='cuda:0') tensor(0.3235, device='cuda:0') tensor(1.1223, device='cuda:0') tensor(18.2886, device='cuda:0') tensor(984.4759, device='cuda:0')\n",
      "tensor(0.4545, device='cuda:0') tensor(0.3480, device='cuda:0') tensor(1.0530, device='cuda:0') tensor(16.5564, device='cuda:0') tensor(1141.8149, device='cuda:0')\n",
      "tensor(0.4927, device='cuda:0') tensor(0.3885, device='cuda:0') tensor(1.0329, device='cuda:0') tensor(15.8203, device='cuda:0') tensor(885.9600, device='cuda:0')\n",
      "tensor(0.4235, device='cuda:0') tensor(0.3188, device='cuda:0') tensor(1.0365, device='cuda:0') tensor(16.7195, device='cuda:0') tensor(1017.6299, device='cuda:0')\n",
      "tensor(0.4669, device='cuda:0') tensor(0.3537, device='cuda:0') tensor(1.1240, device='cuda:0') tensor(15.0715, device='cuda:0') tensor(840.9914, device='cuda:0')\n",
      "tensor(0.4452, device='cuda:0') tensor(0.3405, device='cuda:0') tensor(1.0394, device='cuda:0') tensor(16.1870, device='cuda:0') tensor(727.6152, device='cuda:0')\n",
      "tensor(0.4859, device='cuda:0') tensor(0.3830, device='cuda:0') tensor(1.0217, device='cuda:0') tensor(16.6121, device='cuda:0') tensor(794.8103, device='cuda:0')\n",
      "tensor(0.4325, device='cuda:0') tensor(0.3180, device='cuda:0') tensor(1.1369, device='cuda:0') tensor(14.7460, device='cuda:0') tensor(756.0286, device='cuda:0')\n",
      "tensor(0.4509, device='cuda:0') tensor(0.3469, device='cuda:0') tensor(1.0305, device='cuda:0') tensor(16.4455, device='cuda:0') tensor(919.2821, device='cuda:0')\n",
      "tensor(0.4072, device='cuda:0') tensor(0.2909, device='cuda:0') tensor(1.1516, device='cuda:0') tensor(17.2246, device='cuda:0') tensor(1119.5148, device='cuda:0')\n",
      "tensor(0.4556, device='cuda:0') tensor(0.3499, device='cuda:0') tensor(1.0487, device='cuda:0') tensor(17.4257, device='cuda:0') tensor(736.0794, device='cuda:0')\n",
      "tensor(0.4240, device='cuda:0') tensor(0.3267, device='cuda:0') tensor(0.9631, device='cuda:0') tensor(18.0119, device='cuda:0') tensor(945.8778, device='cuda:0')\n",
      "tensor(0.4492, device='cuda:0') tensor(0.3376, device='cuda:0') tensor(1.1044, device='cuda:0') tensor(16.2703, device='cuda:0') tensor(1130.3577, device='cuda:0')\n",
      "tensor(0.4124, device='cuda:0') tensor(0.3068, device='cuda:0') tensor(1.0464, device='cuda:0') tensor(20.2656, device='cuda:0') tensor(953.7795, device='cuda:0')\n",
      "tensor(0.4919, device='cuda:0') tensor(0.3790, device='cuda:0') tensor(1.1194, device='cuda:0') tensor(17.2836, device='cuda:0') tensor(970.1403, device='cuda:0')\n",
      "tensor(0.4524, device='cuda:0') tensor(0.3470, device='cuda:0') tensor(1.0444, device='cuda:0') tensor(15.2569, device='cuda:0') tensor(879.7617, device='cuda:0')\n",
      "tensor(0.4208, device='cuda:0') tensor(0.3225, device='cuda:0') tensor(0.9695, device='cuda:0') tensor(18.8709, device='cuda:0') tensor(1282.5170, device='cuda:0')\n",
      "tensor(0.4198, device='cuda:0') tensor(0.3158, device='cuda:0') tensor(1.0310, device='cuda:0') tensor(17.0957, device='cuda:0') tensor(832.1323, device='cuda:0')\n",
      "tensor(0.4176, device='cuda:0') tensor(0.3174, device='cuda:0') tensor(0.9910, device='cuda:0') tensor(18.1340, device='cuda:0') tensor(1130.5930, device='cuda:0')\n",
      "tensor(0.4629, device='cuda:0') tensor(0.3545, device='cuda:0') tensor(1.0775, device='cuda:0') tensor(14.4841, device='cuda:0') tensor(636.8045, device='cuda:0')\n",
      "tensor(0.4518, device='cuda:0') tensor(0.3484, device='cuda:0') tensor(1.0223, device='cuda:0') tensor(16.7912, device='cuda:0') tensor(1123.1621, device='cuda:0')\n"
     ]
    },
    {
     "name": "stdout",
     "output_type": "stream",
     "text": [
      "tensor(0.4347, device='cuda:0') tensor(0.3310, device='cuda:0') tensor(1.0266, device='cuda:0') tensor(19.0679, device='cuda:0') tensor(1028.2311, device='cuda:0')\n",
      "tensor(0.4817, device='cuda:0') tensor(0.3787, device='cuda:0') tensor(1.0227, device='cuda:0') tensor(17.0855, device='cuda:0') tensor(720.2743, device='cuda:0')\n",
      "tensor(0.4151, device='cuda:0') tensor(0.3097, device='cuda:0') tensor(1.0464, device='cuda:0') tensor(18.7512, device='cuda:0') tensor(791.8324, device='cuda:0')\n",
      "tensor(0.4460, device='cuda:0') tensor(0.3466, device='cuda:0') tensor(0.9835, device='cuda:0') tensor(19.5496, device='cuda:0') tensor(1053.2744, device='cuda:0')\n",
      "tensor(0.4485, device='cuda:0') tensor(0.3477, device='cuda:0') tensor(1.0016, device='cuda:0') tensor(14.6929, device='cuda:0') tensor(624.2899, device='cuda:0')\n",
      "tensor(0.4261, device='cuda:0') tensor(0.3223, device='cuda:0') tensor(1.0293, device='cuda:0') tensor(18.4092, device='cuda:0') tensor(790.3925, device='cuda:0')\n",
      "tensor(0.4560, device='cuda:0') tensor(0.3489, device='cuda:0') tensor(1.0624, device='cuda:0') tensor(16.1041, device='cuda:0') tensor(797.1523, device='cuda:0')\n",
      "tensor(0.4478, device='cuda:0') tensor(0.3440, device='cuda:0') tensor(1.0290, device='cuda:0') tensor(16.9629, device='cuda:0') tensor(851.8258, device='cuda:0')\n",
      "tensor(0.4444, device='cuda:0') tensor(0.3333, device='cuda:0') tensor(1.1042, device='cuda:0') tensor(15.8891, device='cuda:0') tensor(746.2844, device='cuda:0')\n",
      "tensor(0.4311, device='cuda:0') tensor(0.3163, device='cuda:0') tensor(1.1380, device='cuda:0') tensor(17.3847, device='cuda:0') tensor(954.3110, device='cuda:0')\n",
      "tensor(0.4700, device='cuda:0') tensor(0.3660, device='cuda:0') tensor(1.0355, device='cuda:0') tensor(16.7357, device='cuda:0') tensor(474.4760, device='cuda:0')\n",
      "tensor(0.4026, device='cuda:0') tensor(0.2951, device='cuda:0') tensor(1.0654, device='cuda:0') tensor(21.6705, device='cuda:0') tensor(949.2235, device='cuda:0')\n",
      "tensor(0.3887, device='cuda:0') tensor(0.2867, device='cuda:0') tensor(1.0098, device='cuda:0') tensor(22.8663, device='cuda:0') tensor(966.6727, device='cuda:0')\n",
      "tensor(0.4498, device='cuda:0') tensor(0.3425, device='cuda:0') tensor(1.0658, device='cuda:0') tensor(15.1008, device='cuda:0') tensor(713.8150, device='cuda:0')\n",
      "tensor(0.3866, device='cuda:0') tensor(0.2926, device='cuda:0') tensor(0.9312, device='cuda:0') tensor(23.0771, device='cuda:0') tensor(858.0095, device='cuda:0')\n",
      "tensor(0.4213, device='cuda:0') tensor(0.3185, device='cuda:0') tensor(1.0225, device='cuda:0') tensor(17.4894, device='cuda:0') tensor(510.2717, device='cuda:0')\n",
      "tensor(0.4276, device='cuda:0') tensor(0.3290, device='cuda:0') tensor(0.9784, device='cuda:0') tensor(15.7823, device='cuda:0') tensor(791.0784, device='cuda:0')\n",
      "tensor(0.4263, device='cuda:0') tensor(0.3275, device='cuda:0') tensor(0.9779, device='cuda:0') tensor(18.1187, device='cuda:0') tensor(990.5947, device='cuda:0')\n",
      "tensor(0.4488, device='cuda:0') tensor(0.3393, device='cuda:0') tensor(1.0879, device='cuda:0') tensor(18.2603, device='cuda:0') tensor(775.2615, device='cuda:0')\n",
      "tensor(0.4791, device='cuda:0') tensor(0.3712, device='cuda:0') tensor(1.0735, device='cuda:0') tensor(18.5964, device='cuda:0') tensor(563.5502, device='cuda:0')\n",
      "tensor(0.4178, device='cuda:0') tensor(0.3163, device='cuda:0') tensor(1.0062, device='cuda:0') tensor(18.6316, device='cuda:0') tensor(915.3494, device='cuda:0')\n",
      "tensor(0.4043, device='cuda:0') tensor(0.3008, device='cuda:0') tensor(1.0280, device='cuda:0') tensor(22.5139, device='cuda:0') tensor(687.3417, device='cuda:0')\n",
      "tensor(0.4357, device='cuda:0') tensor(0.3347, device='cuda:0') tensor(1.0006, device='cuda:0') tensor(20.4743, device='cuda:0') tensor(914.4283, device='cuda:0')\n",
      "tensor(0.4003, device='cuda:0') tensor(0.3030, device='cuda:0') tensor(0.9652, device='cuda:0') tensor(19.3026, device='cuda:0') tensor(775.9336, device='cuda:0')\n",
      "tensor(0.4007, device='cuda:0') tensor(0.3016, device='cuda:0') tensor(0.9837, device='cuda:0') tensor(18.3992, device='cuda:0') tensor(697.9595, device='cuda:0')\n",
      "tensor(0.4321, device='cuda:0') tensor(0.3236, device='cuda:0') tensor(1.0752, device='cuda:0') tensor(19.1677, device='cuda:0') tensor(896.4114, device='cuda:0')\n",
      "tensor(0.4488, device='cuda:0') tensor(0.3410, device='cuda:0') tensor(1.0703, device='cuda:0') tensor(15.8286, device='cuda:0') tensor(737.3583, device='cuda:0')\n",
      "tensor(0.4025, device='cuda:0') tensor(0.2964, device='cuda:0') tensor(1.0518, device='cuda:0') tensor(15.8846, device='cuda:0') tensor(818.3220, device='cuda:0')\n",
      "tensor(0.4889, device='cuda:0') tensor(0.3899, device='cuda:0') tensor(0.9870, device='cuda:0') tensor(21.9744, device='cuda:0') tensor(302.6356, device='cuda:0')\n",
      "tensor(0.4055, device='cuda:0') tensor(0.3050, device='cuda:0') tensor(0.9997, device='cuda:0') tensor(21.4730, device='cuda:0') tensor(511.8219, device='cuda:0')\n",
      "tensor(0.3819, device='cuda:0') tensor(0.2771, device='cuda:0') tensor(1.0400, device='cuda:0') tensor(19.2409, device='cuda:0') tensor(732.0385, device='cuda:0')\n",
      "tensor(0.4570, device='cuda:0') tensor(0.3474, device='cuda:0') tensor(1.0913, device='cuda:0') tensor(18.2357, device='cuda:0') tensor(464.0090, device='cuda:0')\n",
      "tensor(0.4361, device='cuda:0') tensor(0.3224, device='cuda:0') tensor(1.1344, device='cuda:0') tensor(18.8232, device='cuda:0') tensor(281.0273, device='cuda:0')\n",
      "tensor(0.4187, device='cuda:0') tensor(0.3116, device='cuda:0') tensor(1.0682, device='cuda:0') tensor(16.5697, device='cuda:0') tensor(190.2049, device='cuda:0')\n",
      "tensor(0.4423, device='cuda:0') tensor(0.3417, device='cuda:0') tensor(1.0002, device='cuda:0') tensor(16.6797, device='cuda:0') tensor(563.2394, device='cuda:0')\n",
      "tensor(0.4283, device='cuda:0') tensor(0.3283, device='cuda:0') tensor(0.9925, device='cuda:0') tensor(21.9079, device='cuda:0') tensor(691.4734, device='cuda:0')\n",
      "tensor(0.4105, device='cuda:0') tensor(0.3119, device='cuda:0') tensor(0.9843, device='cuda:0') tensor(16.6971, device='cuda:0') tensor(164.7386, device='cuda:0')\n",
      "tensor(0.4197, device='cuda:0') tensor(0.3126, device='cuda:0') tensor(1.0666, device='cuda:0') tensor(19.3901, device='cuda:0') tensor(368.8162, device='cuda:0')\n",
      "tensor(0.4467, device='cuda:0') tensor(0.3471, device='cuda:0') tensor(0.9901, device='cuda:0') tensor(17.7093, device='cuda:0') tensor(650.8859, device='cuda:0')\n",
      "tensor(0.4022, device='cuda:0') tensor(0.2873, device='cuda:0') tensor(1.1436, device='cuda:0') tensor(16.2887, device='cuda:0') tensor(551.2380, device='cuda:0')\n",
      "tensor(0.4681, device='cuda:0') tensor(0.3647, device='cuda:0') tensor(1.0257, device='cuda:0') tensor(24.9056, device='cuda:0') tensor(750.6245, device='cuda:0')\n",
      "tensor(0.3980, device='cuda:0') tensor(0.2966, device='cuda:0') tensor(1.0077, device='cuda:0') tensor(21.9872, device='cuda:0') tensor(621.0090, device='cuda:0')\n",
      "tensor(0.4393, device='cuda:0') tensor(0.3304, device='cuda:0') tensor(1.0841, device='cuda:0') tensor(19.4437, device='cuda:0') tensor(491.5898, device='cuda:0')\n",
      "tensor(0.4282, device='cuda:0') tensor(0.3272, device='cuda:0') tensor(1.0040, device='cuda:0') tensor(23.9831, device='cuda:0') tensor(526.2091, device='cuda:0')\n",
      "tensor(0.3995, device='cuda:0') tensor(0.2961, device='cuda:0') tensor(1.0298, device='cuda:0') tensor(23.4755, device='cuda:0') tensor(331.1960, device='cuda:0')\n",
      "tensor(0.4284, device='cuda:0') tensor(0.3315, device='cuda:0') tensor(0.9633, device='cuda:0') tensor(19.3166, device='cuda:0') tensor(454.4556, device='cuda:0')\n",
      "tensor(0.3857, device='cuda:0') tensor(0.2853, device='cuda:0') tensor(0.9976, device='cuda:0') tensor(22.8661, device='cuda:0') tensor(624.9957, device='cuda:0')\n",
      "tensor(0.3819, device='cuda:0') tensor(0.2813, device='cuda:0') tensor(1.0019, device='cuda:0') tensor(23.6883, device='cuda:0') tensor(374.3610, device='cuda:0')\n",
      "tensor(0.4369, device='cuda:0') tensor(0.3398, device='cuda:0') tensor(0.9719, device='cuda:0') tensor(17.9664, device='cuda:0') tensor(-121.5454, device='cuda:0')\n",
      "tensor(0.4404, device='cuda:0') tensor(0.3346, device='cuda:0') tensor(1.0515, device='cuda:0') tensor(22.6620, device='cuda:0') tensor(639.7971, device='cuda:0')\n",
      "tensor(0.4496, device='cuda:0') tensor(0.3440, device='cuda:0') tensor(1.0564, device='cuda:0') tensor(19.2049, device='cuda:0') tensor(-9.2933, device='cuda:0')\n",
      "tensor(0.3819, device='cuda:0') tensor(0.2732, device='cuda:0') tensor(1.0815, device='cuda:0') tensor(22.1983, device='cuda:0') tensor(493.4990, device='cuda:0')\n"
     ]
    },
    {
     "name": "stdout",
     "output_type": "stream",
     "text": [
      "tensor(0.4251, device='cuda:0') tensor(0.3218, device='cuda:0') tensor(1.0302, device='cuda:0') tensor(18.7428, device='cuda:0') tensor(249.9663, device='cuda:0')\n",
      "tensor(0.3959, device='cuda:0') tensor(0.2842, device='cuda:0') tensor(1.1111, device='cuda:0') tensor(20.9118, device='cuda:0') tensor(629.7978, device='cuda:0')\n",
      "tensor(0.4097, device='cuda:0') tensor(0.3082, device='cuda:0') tensor(1.0061, device='cuda:0') tensor(27.1037, device='cuda:0') tensor(857.8125, device='cuda:0')\n",
      "tensor(0.4201, device='cuda:0') tensor(0.3096, device='cuda:0') tensor(1.1035, device='cuda:0') tensor(19.6882, device='cuda:0') tensor(159.1277, device='cuda:0')\n",
      "tensor(0.4204, device='cuda:0') tensor(0.3193, device='cuda:0') tensor(1.0052, device='cuda:0') tensor(19.4393, device='cuda:0') tensor(543.3922, device='cuda:0')\n",
      "tensor(0.3825, device='cuda:0') tensor(0.2814, device='cuda:0') tensor(1.0063, device='cuda:0') tensor(22.4870, device='cuda:0') tensor(402.0552, device='cuda:0')\n",
      "tensor(0.3709, device='cuda:0') tensor(0.2723, device='cuda:0') tensor(0.9810, device='cuda:0') tensor(21.2223, device='cuda:0') tensor(426.3576, device='cuda:0')\n",
      "tensor(0.4924, device='cuda:0') tensor(0.3891, device='cuda:0') tensor(1.0302, device='cuda:0') tensor(17.7421, device='cuda:0') tensor(213.0003, device='cuda:0')\n",
      "tensor(0.4381, device='cuda:0') tensor(0.3315, device='cuda:0') tensor(1.0595, device='cuda:0') tensor(19.0143, device='cuda:0') tensor(665.4393, device='cuda:0')\n",
      "tensor(0.3862, device='cuda:0') tensor(0.2720, device='cuda:0') tensor(1.1393, device='cuda:0') tensor(20.8581, device='cuda:0') tensor(244.2536, device='cuda:0')\n",
      "tensor(0.3841, device='cuda:0') tensor(0.2839, device='cuda:0') tensor(0.9955, device='cuda:0') tensor(21.0662, device='cuda:0') tensor(643.9940, device='cuda:0')\n",
      "tensor(0.3872, device='cuda:0') tensor(0.2853, device='cuda:0') tensor(1.0139, device='cuda:0') tensor(20.3024, device='cuda:0') tensor(484.6343, device='cuda:0')\n",
      "tensor(0.4386, device='cuda:0') tensor(0.3264, device='cuda:0') tensor(1.1165, device='cuda:0') tensor(19.4928, device='cuda:0') tensor(526.1158, device='cuda:0')\n",
      "tensor(0.4193, device='cuda:0') tensor(0.3094, device='cuda:0') tensor(1.0952, device='cuda:0') tensor(19.6923, device='cuda:0') tensor(371.4983, device='cuda:0')\n",
      "tensor(0.4150, device='cuda:0') tensor(0.3057, device='cuda:0') tensor(1.0924, device='cuda:0') tensor(20.0159, device='cuda:0') tensor(108.9050, device='cuda:0')\n",
      "tensor(0.4338, device='cuda:0') tensor(0.3333, device='cuda:0') tensor(0.9996, device='cuda:0') tensor(18.4067, device='cuda:0') tensor(523.6758, device='cuda:0')\n",
      "tensor(0.4244, device='cuda:0') tensor(0.3195, device='cuda:0') tensor(1.0426, device='cuda:0') tensor(19.9325, device='cuda:0') tensor(581.3232, device='cuda:0')\n",
      "tensor(0.4622, device='cuda:0') tensor(0.3595, device='cuda:0') tensor(1.0264, device='cuda:0') tensor(22.1121, device='cuda:0') tensor(6.8997, device='cuda:0')\n",
      "tensor(0.4185, device='cuda:0') tensor(0.3116, device='cuda:0') tensor(1.0608, device='cuda:0') tensor(21.9029, device='cuda:0') tensor(808.0637, device='cuda:0')\n",
      "tensor(0.4257, device='cuda:0') tensor(0.3177, device='cuda:0') tensor(1.0788, device='cuda:0') tensor(17.8164, device='cuda:0') tensor(111.4381, device='cuda:0')\n",
      "tensor(0.4152, device='cuda:0') tensor(0.3047, device='cuda:0') tensor(1.1031, device='cuda:0') tensor(18.3799, device='cuda:0') tensor(163.2729, device='cuda:0')\n",
      "tensor(0.4339, device='cuda:0') tensor(0.3258, device='cuda:0') tensor(1.0774, device='cuda:0') tensor(16.3835, device='cuda:0') tensor(303.0215, device='cuda:0')\n",
      "tensor(0.3986, device='cuda:0') tensor(0.2881, device='cuda:0') tensor(1.0999, device='cuda:0') tensor(18.2599, device='cuda:0') tensor(414.7336, device='cuda:0')\n",
      "tensor(0.4014, device='cuda:0') tensor(0.2959, device='cuda:0') tensor(1.0520, device='cuda:0') tensor(22.6280, device='cuda:0') tensor(270.5311, device='cuda:0')\n",
      "tensor(0.4004, device='cuda:0') tensor(0.2923, device='cuda:0') tensor(1.0745, device='cuda:0') tensor(20.8827, device='cuda:0') tensor(605.1869, device='cuda:0')\n",
      "tensor(0.3756, device='cuda:0') tensor(0.2642, device='cuda:0') tensor(1.1106, device='cuda:0') tensor(19.3704, device='cuda:0') tensor(351.7722, device='cuda:0')\n",
      "tensor(0.4182, device='cuda:0') tensor(0.3178, device='cuda:0') tensor(1.0004, device='cuda:0') tensor(24.0891, device='cuda:0') tensor(404.4243, device='cuda:0')\n",
      "tensor(0.4498, device='cuda:0') tensor(0.3453, device='cuda:0') tensor(1.0430, device='cuda:0') tensor(15.3350, device='cuda:0') tensor(205.4814, device='cuda:0')\n",
      "tensor(0.3766, device='cuda:0') tensor(0.2802, device='cuda:0') tensor(0.9613, device='cuda:0') tensor(21.3476, device='cuda:0') tensor(323.4780, device='cuda:0')\n",
      "tensor(0.4024, device='cuda:0') tensor(0.3021, device='cuda:0') tensor(0.9975, device='cuda:0') tensor(22.2425, device='cuda:0') tensor(525.9324, device='cuda:0')\n",
      "tensor(0.3678, device='cuda:0') tensor(0.2564, device='cuda:0') tensor(1.1143, device='cuda:0') tensor(16.6984, device='cuda:0') tensor(-66.2013, device='cuda:0')\n",
      "tensor(0.3813, device='cuda:0') tensor(0.2779, device='cuda:0') tensor(1.0338, device='cuda:0') tensor(15.9716, device='cuda:0') tensor(18.2307, device='cuda:0')\n",
      "tensor(0.3633, device='cuda:0') tensor(0.2548, device='cuda:0') tensor(1.0781, device='cuda:0') tensor(17.3108, device='cuda:0') tensor(597.8146, device='cuda:0')\n",
      "tensor(0.4101, device='cuda:0') tensor(0.3111, device='cuda:0') tensor(0.9835, device='cuda:0') tensor(20.1430, device='cuda:0') tensor(635.1562, device='cuda:0')\n",
      "tensor(0.4055, device='cuda:0') tensor(0.3021, device='cuda:0') tensor(1.0300, device='cuda:0') tensor(17.8988, device='cuda:0') tensor(408.0042, device='cuda:0')\n",
      "tensor(0.3938, device='cuda:0') tensor(0.2808, device='cuda:0') tensor(1.1288, device='cuda:0') tensor(18.4853, device='cuda:0') tensor(113.0607, device='cuda:0')\n",
      "tensor(0.3911, device='cuda:0') tensor(0.2930, device='cuda:0') tensor(0.9761, device='cuda:0') tensor(19.7052, device='cuda:0') tensor(422.0471, device='cuda:0')\n",
      "tensor(0.3640, device='cuda:0') tensor(0.2599, device='cuda:0') tensor(1.0381, device='cuda:0') tensor(15.6213, device='cuda:0') tensor(315.7568, device='cuda:0')\n",
      "tensor(0.4260, device='cuda:0') tensor(0.3226, device='cuda:0') tensor(1.0283, device='cuda:0') tensor(21.2147, device='cuda:0') tensor(549.9926, device='cuda:0')\n",
      "tensor(0.3873, device='cuda:0') tensor(0.2848, device='cuda:0') tensor(1.0263, device='cuda:0') tensor(16.4360, device='cuda:0') tensor(-180.8608, device='cuda:0')\n",
      "tensor(0.4037, device='cuda:0') tensor(0.3007, device='cuda:0') tensor(1.0247, device='cuda:0') tensor(20.5614, device='cuda:0') tensor(545.3444, device='cuda:0')\n",
      "tensor(0.3695, device='cuda:0') tensor(0.2634, device='cuda:0') tensor(1.0573, device='cuda:0') tensor(19.1458, device='cuda:0') tensor(344.3996, device='cuda:0')\n",
      "tensor(0.4009, device='cuda:0') tensor(0.2953, device='cuda:0') tensor(1.0510, device='cuda:0') tensor(17.0791, device='cuda:0') tensor(462.8633, device='cuda:0')\n",
      "tensor(0.3795, device='cuda:0') tensor(0.2754, device='cuda:0') tensor(1.0408, device='cuda:0') tensor(18.5291, device='cuda:0') tensor(-57.5362, device='cuda:0')\n",
      "tensor(0.3811, device='cuda:0') tensor(0.2748, device='cuda:0') tensor(1.0619, device='cuda:0') tensor(15.6444, device='cuda:0') tensor(102.9440, device='cuda:0')\n",
      "tensor(0.4389, device='cuda:0') tensor(0.3286, device='cuda:0') tensor(1.1011, device='cuda:0') tensor(13.3100, device='cuda:0') tensor(137.4774, device='cuda:0')\n",
      "tensor(0.3951, device='cuda:0') tensor(0.2948, device='cuda:0') tensor(1.0013, device='cuda:0') tensor(15.2522, device='cuda:0') tensor(114.2977, device='cuda:0')\n",
      "tensor(0.3933, device='cuda:0') tensor(0.2970, device='cuda:0') tensor(0.9635, device='cuda:0') tensor(18.3089, device='cuda:0') tensor(-72.5792, device='cuda:0')\n",
      "tensor(0.3833, device='cuda:0') tensor(0.2858, device='cuda:0') tensor(0.9734, device='cuda:0') tensor(14.2100, device='cuda:0') tensor(180.5863, device='cuda:0')\n",
      "tensor(0.4076, device='cuda:0') tensor(0.3069, device='cuda:0') tensor(1.0069, device='cuda:0') tensor(15.3074, device='cuda:0') tensor(19.2189, device='cuda:0')\n",
      "tensor(0.4380, device='cuda:0') tensor(0.3316, device='cuda:0') tensor(1.0573, device='cuda:0') tensor(15.8006, device='cuda:0') tensor(605.8408, device='cuda:0')\n",
      "tensor(0.4440, device='cuda:0') tensor(0.3413, device='cuda:0') tensor(1.0201, device='cuda:0') tensor(17.4871, device='cuda:0') tensor(644.1429, device='cuda:0')\n"
     ]
    },
    {
     "name": "stdout",
     "output_type": "stream",
     "text": [
      "tensor(0.3670, device='cuda:0') tensor(0.2563, device='cuda:0') tensor(1.1067, device='cuda:0') tensor(13.3985, device='cuda:0') tensor(22.3127, device='cuda:0')\n",
      "tensor(0.4116, device='cuda:0') tensor(0.3083, device='cuda:0') tensor(1.0283, device='cuda:0') tensor(15.7482, device='cuda:0') tensor(486.8362, device='cuda:0')\n",
      "tensor(0.3642, device='cuda:0') tensor(0.2558, device='cuda:0') tensor(1.0842, device='cuda:0') tensor(17.3601, device='cuda:0') tensor(-73.8328, device='cuda:0')\n",
      "tensor(0.4049, device='cuda:0') tensor(0.3006, device='cuda:0') tensor(1.0430, device='cuda:0') tensor(13.9908, device='cuda:0') tensor(6.3181, device='cuda:0')\n",
      "tensor(0.3995, device='cuda:0') tensor(0.2932, device='cuda:0') tensor(1.0641, device='cuda:0') tensor(15.1495, device='cuda:0') tensor(-46.8207, device='cuda:0')\n",
      "tensor(0.3646, device='cuda:0') tensor(0.2618, device='cuda:0') tensor(1.0281, device='cuda:0') tensor(15.9417, device='cuda:0') tensor(-111.1419, device='cuda:0')\n",
      "tensor(0.4413, device='cuda:0') tensor(0.3442, device='cuda:0') tensor(0.9678, device='cuda:0') tensor(13.6034, device='cuda:0') tensor(234.2661, device='cuda:0')\n",
      "tensor(0.3951, device='cuda:0') tensor(0.2924, device='cuda:0') tensor(1.0276, device='cuda:0') tensor(15.4081, device='cuda:0') tensor(-122.6588, device='cuda:0')\n",
      "tensor(0.3957, device='cuda:0') tensor(0.2849, device='cuda:0') tensor(1.1023, device='cuda:0') tensor(14.4047, device='cuda:0') tensor(512.3038, device='cuda:0')\n",
      "tensor(0.3660, device='cuda:0') tensor(0.2737, device='cuda:0') tensor(0.9158, device='cuda:0') tensor(19.0554, device='cuda:0') tensor(673.3162, device='cuda:0')\n",
      "tensor(0.3896, device='cuda:0') tensor(0.2851, device='cuda:0') tensor(1.0419, device='cuda:0') tensor(14.9869, device='cuda:0') tensor(273.6947, device='cuda:0')\n",
      "tensor(0.3897, device='cuda:0') tensor(0.2894, device='cuda:0') tensor(1.0022, device='cuda:0') tensor(13.1125, device='cuda:0') tensor(-23.4864, device='cuda:0')\n",
      "tensor(0.4102, device='cuda:0') tensor(0.3093, device='cuda:0') tensor(1.0117, device='cuda:0') tensor(15.2144, device='cuda:0') tensor(-366.2878, device='cuda:0')\n",
      "tensor(0.4017, device='cuda:0') tensor(0.2957, device='cuda:0') tensor(1.0596, device='cuda:0') tensor(13.2544, device='cuda:0') tensor(-13.2414, device='cuda:0')\n",
      "tensor(0.4014, device='cuda:0') tensor(0.3050, device='cuda:0') tensor(0.9591, device='cuda:0') tensor(16.0822, device='cuda:0') tensor(479.5854, device='cuda:0')\n",
      "tensor(0.3760, device='cuda:0') tensor(0.2659, device='cuda:0') tensor(1.0992, device='cuda:0') tensor(12.5980, device='cuda:0') tensor(207.2872, device='cuda:0')\n",
      "tensor(0.4638, device='cuda:0') tensor(0.3477, device='cuda:0') tensor(1.1602, device='cuda:0') tensor(12.4424, device='cuda:0') tensor(116.5645, device='cuda:0')\n",
      "tensor(0.3914, device='cuda:0') tensor(0.2969, device='cuda:0') tensor(0.9478, device='cuda:0') tensor(14.0265, device='cuda:0') tensor(-331.8214, device='cuda:0')\n",
      "tensor(0.4323, device='cuda:0') tensor(0.3214, device='cuda:0') tensor(1.1086, device='cuda:0') tensor(13.8526, device='cuda:0') tensor(36.6617, device='cuda:0')\n",
      "tensor(0.4564, device='cuda:0') tensor(0.3485, device='cuda:0') tensor(1.0766, device='cuda:0') tensor(13.8707, device='cuda:0') tensor(280.6457, device='cuda:0')\n",
      "tensor(0.4260, device='cuda:0') tensor(0.3266, device='cuda:0') tensor(0.9945, device='cuda:0') tensor(14.3341, device='cuda:0') tensor(-50.1118, device='cuda:0')\n",
      "tensor(0.4380, device='cuda:0') tensor(0.3342, device='cuda:0') tensor(1.0350, device='cuda:0') tensor(12.4175, device='cuda:0') tensor(251.2017, device='cuda:0')\n",
      "tensor(0.4287, device='cuda:0') tensor(0.3126, device='cuda:0') tensor(1.1521, device='cuda:0') tensor(12.8081, device='cuda:0') tensor(889.8131, device='cuda:0')\n",
      "tensor(0.3792, device='cuda:0') tensor(0.2715, device='cuda:0') tensor(1.0764, device='cuda:0') tensor(12.7374, device='cuda:0') tensor(34.7737, device='cuda:0')\n",
      "tensor(0.3614, device='cuda:0') tensor(0.2670, device='cuda:0') tensor(0.9415, device='cuda:0') tensor(12.2682, device='cuda:0') tensor(312.4489, device='cuda:0')\n",
      "tensor(0.3601, device='cuda:0') tensor(0.2602, device='cuda:0') tensor(0.9944, device='cuda:0') tensor(14.1740, device='cuda:0') tensor(491.5728, device='cuda:0')\n",
      "tensor(0.3844, device='cuda:0') tensor(0.2881, device='cuda:0') tensor(0.9581, device='cuda:0') tensor(16.2908, device='cuda:0') tensor(414.8073, device='cuda:0')\n",
      "tensor(0.3919, device='cuda:0') tensor(0.2939, device='cuda:0') tensor(0.9772, device='cuda:0') tensor(12.1646, device='cuda:0') tensor(308.2432, device='cuda:0')\n",
      "tensor(0.4079, device='cuda:0') tensor(0.3056, device='cuda:0') tensor(1.0240, device='cuda:0') tensor(13.2695, device='cuda:0') tensor(-166.4381, device='cuda:0')\n",
      "tensor(0.4244, device='cuda:0') tensor(0.3292, device='cuda:0') tensor(0.9524, device='cuda:0') tensor(13.6525, device='cuda:0') tensor(-34.4261, device='cuda:0')\n",
      "tensor(0.4170, device='cuda:0') tensor(0.3065, device='cuda:0') tensor(1.1016, device='cuda:0') tensor(12.3961, device='cuda:0') tensor(330.4558, device='cuda:0')\n",
      "tensor(0.4425, device='cuda:0') tensor(0.3446, device='cuda:0') tensor(0.9765, device='cuda:0') tensor(11.8462, device='cuda:0') tensor(241.3855, device='cuda:0')\n",
      "tensor(0.3865, device='cuda:0') tensor(0.2865, device='cuda:0') tensor(0.9978, device='cuda:0') tensor(15.0599, device='cuda:0') tensor(223.5625, device='cuda:0')\n",
      "tensor(0.4094, device='cuda:0') tensor(0.3036, device='cuda:0') tensor(1.0511, device='cuda:0') tensor(14.8083, device='cuda:0') tensor(638.8206, device='cuda:0')\n",
      "tensor(0.4012, device='cuda:0') tensor(0.3006, device='cuda:0') tensor(1.0047, device='cuda:0') tensor(12.1438, device='cuda:0') tensor(120.8947, device='cuda:0')\n",
      "tensor(0.4161, device='cuda:0') tensor(0.3165, device='cuda:0') tensor(0.9891, device='cuda:0') tensor(12.1792, device='cuda:0') tensor(632.3911, device='cuda:0')\n",
      "tensor(0.4055, device='cuda:0') tensor(0.3011, device='cuda:0') tensor(1.0417, device='cuda:0') tensor(11.2213, device='cuda:0') tensor(169.9813, device='cuda:0')\n",
      "tensor(0.4074, device='cuda:0') tensor(0.3075, device='cuda:0') tensor(0.9985, device='cuda:0') tensor(11.8665, device='cuda:0') tensor(74.3763, device='cuda:0')\n",
      "tensor(0.3588, device='cuda:0') tensor(0.2615, device='cuda:0') tensor(0.9724, device='cuda:0') tensor(12.7218, device='cuda:0') tensor(30.2179, device='cuda:0')\n",
      "tensor(0.4035, device='cuda:0') tensor(0.2959, device='cuda:0') tensor(1.0697, device='cuda:0') tensor(12.5767, device='cuda:0') tensor(605.5021, device='cuda:0')\n",
      "tensor(0.3597, device='cuda:0') tensor(0.2609, device='cuda:0') tensor(0.9868, device='cuda:0') tensor(11.8431, device='cuda:0') tensor(140.5683, device='cuda:0')\n",
      "tensor(0.3645, device='cuda:0') tensor(0.2595, device='cuda:0') tensor(1.0482, device='cuda:0') tensor(12.9024, device='cuda:0') tensor(238.8449, device='cuda:0')\n",
      "tensor(0.3702, device='cuda:0') tensor(0.2738, device='cuda:0') tensor(0.9634, device='cuda:0') tensor(12.8295, device='cuda:0') tensor(23.0405, device='cuda:0')\n",
      "tensor(0.3952, device='cuda:0') tensor(0.2936, device='cuda:0') tensor(1.0142, device='cuda:0') tensor(10.8328, device='cuda:0') tensor(184.3861, device='cuda:0')\n",
      "tensor(0.3763, device='cuda:0') tensor(0.2747, device='cuda:0') tensor(1.0112, device='cuda:0') tensor(13.3164, device='cuda:0') tensor(518.8179, device='cuda:0')\n",
      "tensor(0.3707, device='cuda:0') tensor(0.2790, device='cuda:0') tensor(0.9134, device='cuda:0') tensor(12.3103, device='cuda:0') tensor(345.4650, device='cuda:0')\n",
      "tensor(0.4183, device='cuda:0') tensor(0.3105, device='cuda:0') tensor(1.0794, device='cuda:0') tensor(12.4874, device='cuda:0') tensor(-108.5421, device='cuda:0')\n",
      "tensor(0.4124, device='cuda:0') tensor(0.3177, device='cuda:0') tensor(0.9490, device='cuda:0') tensor(11.9537, device='cuda:0') tensor(-192.6159, device='cuda:0')\n",
      "tensor(0.3778, device='cuda:0') tensor(0.2857, device='cuda:0') tensor(0.9200, device='cuda:0') tensor(12.1367, device='cuda:0') tensor(19.7839, device='cuda:0')\n",
      "tensor(0.3771, device='cuda:0') tensor(0.2686, device='cuda:0') tensor(1.0873, device='cuda:0') tensor(10.9093, device='cuda:0') tensor(-201.9147, device='cuda:0')\n",
      "tensor(0.3792, device='cuda:0') tensor(0.2797, device='cuda:0') tensor(0.9952, device='cuda:0') tensor(12.5269, device='cuda:0') tensor(-30.7720, device='cuda:0')\n"
     ]
    },
    {
     "name": "stdout",
     "output_type": "stream",
     "text": [
      "tensor(0.4258, device='cuda:0') tensor(0.3224, device='cuda:0') tensor(1.0310, device='cuda:0') tensor(9.8387, device='cuda:0') tensor(229.2126, device='cuda:0')\n",
      "tensor(0.3999, device='cuda:0') tensor(0.3091, device='cuda:0') tensor(0.9082, device='cuda:0') tensor(12.3042, device='cuda:0') tensor(12.7034, device='cuda:0')\n",
      "tensor(0.4048, device='cuda:0') tensor(0.3034, device='cuda:0') tensor(1.0080, device='cuda:0') tensor(14.2401, device='cuda:0') tensor(599.9667, device='cuda:0')\n",
      "tensor(0.4204, device='cuda:0') tensor(0.3064, device='cuda:0') tensor(1.1362, device='cuda:0') tensor(10.5734, device='cuda:0') tensor(379.6886, device='cuda:0')\n",
      "tensor(0.3867, device='cuda:0') tensor(0.2883, device='cuda:0') tensor(0.9834, device='cuda:0') tensor(11.0037, device='cuda:0') tensor(97.8141, device='cuda:0')\n",
      "tensor(0.4065, device='cuda:0') tensor(0.3169, device='cuda:0') tensor(0.9942, device='cuda:0') tensor(599.0852, device='cuda:0') tensor(-10507.3174, device='cuda:0')\n",
      "tensor(0.3459, device='cuda:0') tensor(0.2449, device='cuda:0') tensor(1.0024, device='cuda:0') tensor(11.8405, device='cuda:0') tensor(783.0558, device='cuda:0')\n",
      "tensor(0.3527, device='cuda:0') tensor(0.2479, device='cuda:0') tensor(1.0492, device='cuda:0') tensor(13.2731, device='cuda:0') tensor(-141.3297, device='cuda:0')\n",
      "tensor(0.3854, device='cuda:0') tensor(0.2824, device='cuda:0') tensor(1.0377, device='cuda:0') tensor(11.3969, device='cuda:0') tensor(-776.4355, device='cuda:0')\n",
      "tensor(0.4726, device='cuda:0') tensor(0.3609, device='cuda:0') tensor(1.1122, device='cuda:0') tensor(10.7085, device='cuda:0') tensor(490.2641, device='cuda:0')\n",
      "tensor(0.3830, device='cuda:0') tensor(0.2893, device='cuda:0') tensor(0.9353, device='cuda:0') tensor(11.4175, device='cuda:0') tensor(130.6851, device='cuda:0')\n",
      "tensor(0.4005, device='cuda:0') tensor(0.2936, device='cuda:0') tensor(1.0672, device='cuda:0') tensor(11.7653, device='cuda:0') tensor(206.0905, device='cuda:0')\n",
      "tensor(0.3925, device='cuda:0') tensor(0.2931, device='cuda:0') tensor(0.9839, device='cuda:0') tensor(15.5279, device='cuda:0') tensor(965.1559, device='cuda:0')\n",
      "tensor(0.4269, device='cuda:0') tensor(0.3226, device='cuda:0') tensor(1.0405, device='cuda:0') tensor(10.7753, device='cuda:0') tensor(218.3106, device='cuda:0')\n",
      "tensor(0.3590, device='cuda:0') tensor(0.2528, device='cuda:0') tensor(1.0517, device='cuda:0') tensor(14.3220, device='cuda:0') tensor(1012.8588, device='cuda:0')\n",
      "tensor(0.4141, device='cuda:0') tensor(0.3097, device='cuda:0') tensor(1.0465, device='cuda:0') tensor(10.6350, device='cuda:0') tensor(-260.3185, device='cuda:0')\n",
      "tensor(0.4070, device='cuda:0') tensor(0.3034, device='cuda:0') tensor(1.0384, device='cuda:0') tensor(11.2333, device='cuda:0') tensor(-243.1458, device='cuda:0')\n",
      "tensor(0.3719, device='cuda:0') tensor(0.2691, device='cuda:0') tensor(1.0315, device='cuda:0') tensor(11.0005, device='cuda:0') tensor(-389.2182, device='cuda:0')\n",
      "tensor(0.3653, device='cuda:0') tensor(0.2606, device='cuda:0') tensor(1.0422, device='cuda:0') tensor(11.8382, device='cuda:0') tensor(512.8464, device='cuda:0')\n",
      "tensor(0.3811, device='cuda:0') tensor(0.2775, device='cuda:0') tensor(1.0356, device='cuda:0') tensor(11.4915, device='cuda:0') tensor(2.8322, device='cuda:0')\n",
      "tensor(0.4486, device='cuda:0') tensor(0.3510, device='cuda:0') tensor(0.9678, device='cuda:0') tensor(13.6247, device='cuda:0') tensor(811.0675, device='cuda:0')\n",
      "tensor(0.4702, device='cuda:0') tensor(0.3669, device='cuda:0') tensor(1.0294, device='cuda:0') tensor(11.7845, device='cuda:0') tensor(356.0417, device='cuda:0')\n",
      "tensor(0.4191, device='cuda:0') tensor(0.3216, device='cuda:0') tensor(0.9719, device='cuda:0') tensor(13.7007, device='cuda:0') tensor(308.8185, device='cuda:0')\n",
      "tensor(0.4003, device='cuda:0') tensor(0.3010, device='cuda:0') tensor(0.9931, device='cuda:0') tensor(10.7486, device='cuda:0') tensor(-41.1460, device='cuda:0')\n",
      "tensor(0.3766, device='cuda:0') tensor(0.2644, device='cuda:0') tensor(1.1228, device='cuda:0') tensor(10.2076, device='cuda:0') tensor(-160.6231, device='cuda:0')\n",
      "tensor(0.3932, device='cuda:0') tensor(0.2907, device='cuda:0') tensor(1.0242, device='cuda:0') tensor(10.2220, device='cuda:0') tensor(96.0316, device='cuda:0')\n",
      "tensor(0.4075, device='cuda:0') tensor(0.3026, device='cuda:0') tensor(1.0525, device='cuda:0') tensor(10.9147, device='cuda:0') tensor(-349.5243, device='cuda:0')\n",
      "tensor(0.4123, device='cuda:0') tensor(0.3143, device='cuda:0') tensor(0.9824, device='cuda:0') tensor(9.5121, device='cuda:0') tensor(-175.3357, device='cuda:0')\n",
      "tensor(0.4221, device='cuda:0') tensor(0.3157, device='cuda:0') tensor(1.0624, device='cuda:0') tensor(15.6357, device='cuda:0') tensor(195.1119, device='cuda:0')\n",
      "tensor(0.4270, device='cuda:0') tensor(0.3197, device='cuda:0') tensor(1.0735, device='cuda:0') tensor(11.0757, device='cuda:0') tensor(-3.8277, device='cuda:0')\n",
      "tensor(0.3818, device='cuda:0') tensor(0.2697, device='cuda:0') tensor(1.1253, device='cuda:0') tensor(10.5318, device='cuda:0') tensor(-457.4828, device='cuda:0')\n",
      "tensor(0.3678, device='cuda:0') tensor(0.2742, device='cuda:0') tensor(0.9394, device='cuda:0') tensor(12.1491, device='cuda:0') tensor(-332.8905, device='cuda:0')\n",
      "tensor(0.4462, device='cuda:0') tensor(0.3424, device='cuda:0') tensor(1.0403, device='cuda:0') tensor(10.5933, device='cuda:0') tensor(-292.6944, device='cuda:0')\n",
      "tensor(0.3607, device='cuda:0') tensor(0.2668, device='cuda:0') tensor(0.9406, device='cuda:0') tensor(11.8270, device='cuda:0') tensor(-263.2962, device='cuda:0')\n",
      "tensor(0.3557, device='cuda:0') tensor(0.2554, device='cuda:0') tensor(1.0020, device='cuda:0') tensor(10.7066, device='cuda:0') tensor(134.4892, device='cuda:0')\n",
      "tensor(0.4081, device='cuda:0') tensor(0.3120, device='cuda:0') tensor(0.9607, device='cuda:0') tensor(14.1976, device='cuda:0') tensor(1.8211, device='cuda:0')\n",
      "tensor(0.4482, device='cuda:0') tensor(0.3500, device='cuda:0') tensor(0.9787, device='cuda:0') tensor(12.4877, device='cuda:0') tensor(337.5295, device='cuda:0')\n",
      "tensor(0.5023, device='cuda:0') tensor(0.3988, device='cuda:0') tensor(1.0388, device='cuda:0') tensor(11.5186, device='cuda:0') tensor(-373.2018, device='cuda:0')\n",
      "tensor(0.4104, device='cuda:0') tensor(0.2994, device='cuda:0') tensor(1.1125, device='cuda:0') tensor(10.9434, device='cuda:0') tensor(-258.2790, device='cuda:0')\n",
      "tensor(0.3949, device='cuda:0') tensor(0.2941, device='cuda:0') tensor(1.0061, device='cuda:0') tensor(10.5703, device='cuda:0') tensor(127.7178, device='cuda:0')\n",
      "tensor(0.3995, device='cuda:0') tensor(0.2960, device='cuda:0') tensor(1.0301, device='cuda:0') tensor(11.5329, device='cuda:0') tensor(523.0066, device='cuda:0')\n",
      "tensor(0.3922, device='cuda:0') tensor(0.2908, device='cuda:0') tensor(1.0148, device='cuda:0') tensor(10.2064, device='cuda:0') tensor(-106.1305, device='cuda:0')\n",
      "tensor(0.4720, device='cuda:0') tensor(0.3675, device='cuda:0') tensor(1.0370, device='cuda:0') tensor(12.5323, device='cuda:0') tensor(752.3486, device='cuda:0')\n",
      "tensor(0.3379, device='cuda:0') tensor(0.2407, device='cuda:0') tensor(0.9754, device='cuda:0') tensor(9.3971, device='cuda:0') tensor(-367.7306, device='cuda:0')\n",
      "tensor(0.3615, device='cuda:0') tensor(0.2508, device='cuda:0') tensor(1.1068, device='cuda:0') tensor(10.3430, device='cuda:0') tensor(34.7949, device='cuda:0')\n",
      "tensor(0.3851, device='cuda:0') tensor(0.2844, device='cuda:0') tensor(1.0069, device='cuda:0') tensor(10.9496, device='cuda:0') tensor(-34.1822, device='cuda:0')\n",
      "tensor(0.4282, device='cuda:0') tensor(0.3295, device='cuda:0') tensor(0.9868, device='cuda:0') tensor(10.1750, device='cuda:0') tensor(5.0031, device='cuda:0')\n",
      "tensor(0.4251, device='cuda:0') tensor(0.3234, device='cuda:0') tensor(1.0217, device='cuda:0') tensor(10.4711, device='cuda:0') tensor(-515.7927, device='cuda:0')\n",
      "tensor(0.4089, device='cuda:0') tensor(0.3046, device='cuda:0') tensor(1.0459, device='cuda:0') tensor(9.6784, device='cuda:0') tensor(-335.2560, device='cuda:0')\n",
      "tensor(0.4439, device='cuda:0') tensor(0.3453, device='cuda:0') tensor(0.9812, device='cuda:0') tensor(11.3211, device='cuda:0') tensor(436.6746, device='cuda:0')\n",
      "tensor(0.4211, device='cuda:0') tensor(0.3208, device='cuda:0') tensor(1.0015, device='cuda:0') tensor(10.0361, device='cuda:0') tensor(163.0112, device='cuda:0')\n",
      "tensor(0.3834, device='cuda:0') tensor(0.2844, device='cuda:0') tensor(0.9887, device='cuda:0') tensor(11.1852, device='cuda:0') tensor(57.9289, device='cuda:0')\n"
     ]
    },
    {
     "name": "stdout",
     "output_type": "stream",
     "text": [
      "tensor(0.3352, device='cuda:0') tensor(0.2393, device='cuda:0') tensor(0.9584, device='cuda:0') tensor(11.2992, device='cuda:0') tensor(19.0318, device='cuda:0')\n",
      "tensor(0.3964, device='cuda:0') tensor(0.2914, device='cuda:0') tensor(1.0518, device='cuda:0') tensor(9.7607, device='cuda:0') tensor(-237.4644, device='cuda:0')\n",
      "tensor(0.3789, device='cuda:0') tensor(0.2738, device='cuda:0') tensor(1.0532, device='cuda:0') tensor(10.6231, device='cuda:0') tensor(-225.6325, device='cuda:0')\n",
      "tensor(0.3948, device='cuda:0') tensor(0.2969, device='cuda:0') tensor(0.9795, device='cuda:0') tensor(10.4378, device='cuda:0') tensor(-45.8769, device='cuda:0')\n",
      "tensor(0.3933, device='cuda:0') tensor(0.2870, device='cuda:0') tensor(1.0634, device='cuda:0') tensor(11.6469, device='cuda:0') tensor(-133.6615, device='cuda:0')\n",
      "tensor(0.3863, device='cuda:0') tensor(0.2850, device='cuda:0') tensor(1.0120, device='cuda:0') tensor(10.4068, device='cuda:0') tensor(124.0733, device='cuda:0')\n",
      "tensor(0.3812, device='cuda:0') tensor(0.2830, device='cuda:0') tensor(0.9785, device='cuda:0') tensor(10.6825, device='cuda:0') tensor(348.8795, device='cuda:0')\n",
      "tensor(0.4319, device='cuda:0') tensor(0.3306, device='cuda:0') tensor(1.0159, device='cuda:0') tensor(11.0395, device='cuda:0') tensor(-321.1352, device='cuda:0')\n",
      "tensor(0.3843, device='cuda:0') tensor(0.2847, device='cuda:0') tensor(0.9976, device='cuda:0') tensor(10.4500, device='cuda:0') tensor(-266.4463, device='cuda:0')\n",
      "tensor(0.3856, device='cuda:0') tensor(0.2792, device='cuda:0') tensor(1.0609, device='cuda:0') tensor(12.3482, device='cuda:0') tensor(312.3717, device='cuda:0')\n",
      "tensor(0.3404, device='cuda:0') tensor(0.2446, device='cuda:0') tensor(0.9581, device='cuda:0') tensor(10.6004, device='cuda:0') tensor(20.9173, device='cuda:0')\n",
      "tensor(0.4240, device='cuda:0') tensor(0.3324, device='cuda:0') tensor(0.9220, device='cuda:0') tensor(9.8500, device='cuda:0') tensor(-667.8295, device='cuda:0')\n",
      "tensor(0.4215, device='cuda:0') tensor(0.3254, device='cuda:0') tensor(0.9600, device='cuda:0') tensor(11.7313, device='cuda:0') tensor(73.4131, device='cuda:0')\n",
      "tensor(0.4299, device='cuda:0') tensor(0.3317, device='cuda:0') tensor(0.9808, device='cuda:0') tensor(11.9770, device='cuda:0') tensor(99.3305, device='cuda:0')\n",
      "tensor(0.3739, device='cuda:0') tensor(0.2739, device='cuda:0') tensor(1.0004, device='cuda:0') tensor(10.2177, device='cuda:0') tensor(-32.6044, device='cuda:0')\n",
      "tensor(0.3959, device='cuda:0') tensor(0.2990, device='cuda:0') tensor(0.9722, device='cuda:0') tensor(10.9367, device='cuda:0') tensor(-317.0388, device='cuda:0')\n",
      "tensor(0.3959, device='cuda:0') tensor(0.3027, device='cuda:0') tensor(0.9314, device='cuda:0') tensor(11.7217, device='cuda:0') tensor(63.5673, device='cuda:0')\n",
      "tensor(0.4058, device='cuda:0') tensor(0.3063, device='cuda:0') tensor(1.0045, device='cuda:0') tensor(10.5201, device='cuda:0') tensor(-964.8126, device='cuda:0')\n",
      "tensor(0.3609, device='cuda:0') tensor(0.2604, device='cuda:0') tensor(1.0002, device='cuda:0') tensor(9.2437, device='cuda:0') tensor(508.7431, device='cuda:0')\n",
      "tensor(0.4030, device='cuda:0') tensor(0.3055, device='cuda:0') tensor(0.9745, device='cuda:0') tensor(10.6267, device='cuda:0') tensor(47.1979, device='cuda:0')\n",
      "tensor(0.4133, device='cuda:0') tensor(0.3136, device='cuda:0') tensor(1.0022, device='cuda:0') tensor(11.1013, device='cuda:0') tensor(-499.0118, device='cuda:0')\n",
      "tensor(0.3753, device='cuda:0') tensor(0.2762, device='cuda:0') tensor(0.9935, device='cuda:0') tensor(9.3888, device='cuda:0') tensor(-272.8163, device='cuda:0')\n",
      "tensor(0.3888, device='cuda:0') tensor(0.2893, device='cuda:0') tensor(0.9975, device='cuda:0') tensor(13.1158, device='cuda:0') tensor(-257.6443, device='cuda:0')\n",
      "tensor(0.4820, device='cuda:0') tensor(0.3853, device='cuda:0') tensor(0.9667, device='cuda:0') tensor(11.3237, device='cuda:0') tensor(92.7360, device='cuda:0')\n",
      "tensor(0.4064, device='cuda:0') tensor(0.3049, device='cuda:0') tensor(1.0078, device='cuda:0') tensor(10.9508, device='cuda:0') tensor(691.1855, device='cuda:0')\n",
      "tensor(0.4158, device='cuda:0') tensor(0.3122, device='cuda:0') tensor(1.0376, device='cuda:0') tensor(8.9042, device='cuda:0') tensor(-117.4034, device='cuda:0')\n",
      "tensor(0.3967, device='cuda:0') tensor(0.2934, device='cuda:0') tensor(1.0348, device='cuda:0') tensor(12.0641, device='cuda:0') tensor(-262.5501, device='cuda:0')\n",
      "tensor(0.4052, device='cuda:0') tensor(0.3098, device='cuda:0') tensor(0.9535, device='cuda:0') tensor(10.3747, device='cuda:0') tensor(79.7919, device='cuda:0')\n",
      "tensor(0.4266, device='cuda:0') tensor(0.3322, device='cuda:0') tensor(0.9483, device='cuda:0') tensor(10.8063, device='cuda:0') tensor(-479.0868, device='cuda:0')\n",
      "tensor(0.3957, device='cuda:0') tensor(0.3041, device='cuda:0') tensor(0.9150, device='cuda:0') tensor(11.3549, device='cuda:0') tensor(104.3989, device='cuda:0')\n",
      "tensor(0.4096, device='cuda:0') tensor(0.3150, device='cuda:0') tensor(0.9405, device='cuda:0') tensor(10.6461, device='cuda:0') tensor(505.5355, device='cuda:0')\n",
      "tensor(0.3442, device='cuda:0') tensor(0.2486, device='cuda:0') tensor(0.9533, device='cuda:0') tensor(13.0488, device='cuda:0') tensor(249.4158, device='cuda:0')\n",
      "tensor(0.4214, device='cuda:0') tensor(0.3227, device='cuda:0') tensor(0.9869, device='cuda:0') tensor(11.1217, device='cuda:0') tensor(-27.1648, device='cuda:0')\n",
      "tensor(0.3892, device='cuda:0') tensor(0.2910, device='cuda:0') tensor(0.9823, device='cuda:0') tensor(10.1992, device='cuda:0') tensor(-16.6053, device='cuda:0')\n",
      "tensor(0.4305, device='cuda:0') tensor(0.3295, device='cuda:0') tensor(1.0090, device='cuda:0') tensor(11.7479, device='cuda:0') tensor(73.4180, device='cuda:0')\n",
      "tensor(0.4288, device='cuda:0') tensor(0.3258, device='cuda:0') tensor(1.0239, device='cuda:0') tensor(11.7220, device='cuda:0') tensor(621.0066, device='cuda:0')\n",
      "tensor(0.3734, device='cuda:0') tensor(0.2762, device='cuda:0') tensor(0.9730, device='cuda:0') tensor(10.5681, device='cuda:0') tensor(-117.3882, device='cuda:0')\n",
      "tensor(0.4295, device='cuda:0') tensor(0.3316, device='cuda:0') tensor(0.9748, device='cuda:0') tensor(14.4923, device='cuda:0') tensor(413.9647, device='cuda:0')\n",
      "tensor(0.4134, device='cuda:0') tensor(0.3104, device='cuda:0') tensor(1.0294, device='cuda:0') tensor(10.4438, device='cuda:0') tensor(2.8218, device='cuda:0')\n",
      "tensor(0.4154, device='cuda:0') tensor(0.3139, device='cuda:0') tensor(1.0150, device='cuda:0') tensor(11.0407, device='cuda:0') tensor(16.1155, device='cuda:0')\n",
      "tensor(0.3827, device='cuda:0') tensor(0.2824, device='cuda:0') tensor(1.0037, device='cuda:0') tensor(12.9212, device='cuda:0') tensor(-14.9039, device='cuda:0')\n",
      "tensor(0.3942, device='cuda:0') tensor(0.2918, device='cuda:0') tensor(1.0241, device='cuda:0') tensor(11.0005, device='cuda:0') tensor(-49.6241, device='cuda:0')\n",
      "tensor(0.3970, device='cuda:0') tensor(0.2911, device='cuda:0') tensor(1.0592, device='cuda:0') tensor(12.9782, device='cuda:0') tensor(-17.2928, device='cuda:0')\n",
      "tensor(0.4292, device='cuda:0') tensor(0.3246, device='cuda:0') tensor(1.0388, device='cuda:0') tensor(14.4974, device='cuda:0') tensor(740.1921, device='cuda:0')\n",
      "tensor(0.4227, device='cuda:0') tensor(0.3226, device='cuda:0') tensor(0.9989, device='cuda:0') tensor(16.1317, device='cuda:0') tensor(211.4496, device='cuda:0')\n",
      "tensor(0.4092, device='cuda:0') tensor(0.3034, device='cuda:0') tensor(1.0572, device='cuda:0') tensor(9.6061, device='cuda:0') tensor(75.2805, device='cuda:0')\n",
      "tensor(0.4145, device='cuda:0') tensor(0.3180, device='cuda:0') tensor(0.9720, device='cuda:0') tensor(10.7762, device='cuda:0') tensor(-709.3159, device='cuda:0')\n",
      "tensor(0.3716, device='cuda:0') tensor(0.2790, device='cuda:0') tensor(0.9209, device='cuda:0') tensor(13.7167, device='cuda:0') tensor(448.8547, device='cuda:0')\n",
      "tensor(0.3779, device='cuda:0') tensor(0.2779, device='cuda:0') tensor(0.9994, device='cuda:0') tensor(12.3413, device='cuda:0') tensor(55.6878, device='cuda:0')\n",
      "tensor(0.4065, device='cuda:0') tensor(0.3090, device='cuda:0') tensor(0.9747, device='cuda:0') tensor(15.5350, device='cuda:0') tensor(9.3948, device='cuda:0')\n",
      "tensor(0.4065, device='cuda:0') tensor(0.3021, device='cuda:0') tensor(1.0467, device='cuda:0') tensor(12.6036, device='cuda:0') tensor(-247.3357, device='cuda:0')\n",
      "tensor(0.4178, device='cuda:0') tensor(0.3066, device='cuda:0') tensor(1.1126, device='cuda:0') tensor(9.5813, device='cuda:0') tensor(-39.9186, device='cuda:0')\n"
     ]
    },
    {
     "name": "stdout",
     "output_type": "stream",
     "text": [
      "tensor(0.3702, device='cuda:0') tensor(0.2720, device='cuda:0') tensor(0.9780, device='cuda:0') tensor(14.9619, device='cuda:0') tensor(400.1950, device='cuda:0')\n",
      "tensor(0.3252, device='cuda:0') tensor(0.2213, device='cuda:0') tensor(1.0369, device='cuda:0') tensor(10.5181, device='cuda:0') tensor(288.7343, device='cuda:0')\n",
      "tensor(0.4069, device='cuda:0') tensor(0.3049, device='cuda:0') tensor(1.0171, device='cuda:0') tensor(11.5290, device='cuda:0') tensor(294.9846, device='cuda:0')\n",
      "tensor(0.4299, device='cuda:0') tensor(0.3274, device='cuda:0') tensor(1.0205, device='cuda:0') tensor(14.6725, device='cuda:0') tensor(480.5697, device='cuda:0')\n",
      "tensor(0.4524, device='cuda:0') tensor(0.3572, device='cuda:0') tensor(0.9560, device='cuda:0') tensor(10.3300, device='cuda:0') tensor(-433.1707, device='cuda:0')\n",
      "tensor(0.3737, device='cuda:0') tensor(0.2795, device='cuda:0') tensor(0.9411, device='cuda:0') tensor(12.8222, device='cuda:0') tensor(58.4994, device='cuda:0')\n",
      "tensor(0.4486, device='cuda:0') tensor(0.3450, device='cuda:0') tensor(1.0374, device='cuda:0') tensor(10.9003, device='cuda:0') tensor(-132.4108, device='cuda:0')\n",
      "tensor(0.4145, device='cuda:0') tensor(0.3152, device='cuda:0') tensor(0.9978, device='cuda:0') tensor(11.4974, device='cuda:0') tensor(-500.3994, device='cuda:0')\n",
      "tensor(0.4271, device='cuda:0') tensor(0.3180, device='cuda:0') tensor(1.0911, device='cuda:0') tensor(10.6435, device='cuda:0') tensor(-13.3199, device='cuda:0')\n",
      "tensor(0.4130, device='cuda:0') tensor(0.3138, device='cuda:0') tensor(0.9949, device='cuda:0') tensor(15.2733, device='cuda:0') tensor(-292.7108, device='cuda:0')\n",
      "tensor(0.4045, device='cuda:0') tensor(0.3047, device='cuda:0') tensor(1.0018, device='cuda:0') tensor(9.9374, device='cuda:0') tensor(-324.2175, device='cuda:0')\n",
      "tensor(0.3541, device='cuda:0') tensor(0.2633, device='cuda:0') tensor(0.9063, device='cuda:0') tensor(12.9782, device='cuda:0') tensor(135.0454, device='cuda:0')\n",
      "tensor(0.3634, device='cuda:0') tensor(0.2629, device='cuda:0') tensor(1.0013, device='cuda:0') tensor(14.4890, device='cuda:0') tensor(352.8678, device='cuda:0')\n",
      "tensor(0.4374, device='cuda:0') tensor(0.3314, device='cuda:0') tensor(1.0625, device='cuda:0') tensor(16.2217, device='cuda:0') tensor(-269.5875, device='cuda:0')\n",
      "tensor(0.3742, device='cuda:0') tensor(0.2744, device='cuda:0') tensor(1.0037, device='cuda:0') tensor(9.7031, device='cuda:0') tensor(-600.3632, device='cuda:0')\n",
      "tensor(0.4126, device='cuda:0') tensor(0.3178, device='cuda:0') tensor(0.9434, device='cuda:0') tensor(12.4189, device='cuda:0') tensor(439.8583, device='cuda:0')\n",
      "tensor(0.4263, device='cuda:0') tensor(0.3285, device='cuda:0') tensor(0.9786, device='cuda:0') tensor(15.4050, device='cuda:0') tensor(-15.9535, device='cuda:0')\n",
      "tensor(0.3770, device='cuda:0') tensor(0.2653, device='cuda:0') tensor(1.1196, device='cuda:0') tensor(10.1455, device='cuda:0') tensor(-212.9471, device='cuda:0')\n",
      "tensor(0.4141, device='cuda:0') tensor(0.3100, device='cuda:0') tensor(1.0473, device='cuda:0') tensor(9.1528, device='cuda:0') tensor(-554.3890, device='cuda:0')\n",
      "tensor(0.3967, device='cuda:0') tensor(0.2973, device='cuda:0') tensor(0.9936, device='cuda:0') tensor(15.0508, device='cuda:0') tensor(-12.4613, device='cuda:0')\n",
      "tensor(0.3967, device='cuda:0') tensor(0.2907, device='cuda:0') tensor(1.0576, device='cuda:0') tensor(9.7044, device='cuda:0') tensor(261.3853, device='cuda:0')\n",
      "tensor(0.4068, device='cuda:0') tensor(0.3101, device='cuda:0') tensor(0.9634, device='cuda:0') tensor(13.9651, device='cuda:0') tensor(326.0822, device='cuda:0')\n",
      "tensor(0.4185, device='cuda:0') tensor(0.3014, device='cuda:0') tensor(1.1662, device='cuda:0') tensor(8.9642, device='cuda:0') tensor(449.8843, device='cuda:0')\n",
      "tensor(0.4156, device='cuda:0') tensor(0.3081, device='cuda:0') tensor(1.0784, device='cuda:0') tensor(11.3520, device='cuda:0') tensor(-381.0379, device='cuda:0')\n",
      "tensor(0.4425, device='cuda:0') tensor(0.3341, device='cuda:0') tensor(1.0949, device='cuda:0') tensor(10.7762, device='cuda:0') tensor(-1141.1921, device='cuda:0')\n",
      "tensor(0.3878, device='cuda:0') tensor(0.2812, device='cuda:0') tensor(1.0669, device='cuda:0') tensor(11.9332, device='cuda:0') tensor(-91.5041, device='cuda:0')\n",
      "tensor(0.4062, device='cuda:0') tensor(0.2955, device='cuda:0') tensor(1.1040, device='cuda:0') tensor(14.2637, device='cuda:0') tensor(317.1773, device='cuda:0')\n",
      "tensor(0.3965, device='cuda:0') tensor(0.2974, device='cuda:0') tensor(0.9966, device='cuda:0') tensor(10.1834, device='cuda:0') tensor(-588.8783, device='cuda:0')\n",
      "tensor(0.3836, device='cuda:0') tensor(0.2883, device='cuda:0') tensor(0.9629, device='cuda:0') tensor(10.4771, device='cuda:0') tensor(-1020.4478, device='cuda:0')\n",
      "tensor(0.3488, device='cuda:0') tensor(0.2372, device='cuda:0') tensor(1.1190, device='cuda:0') tensor(9.9318, device='cuda:0') tensor(-286.8782, device='cuda:0')\n",
      "tensor(0.4445, device='cuda:0') tensor(0.3469, device='cuda:0') tensor(0.9776, device='cuda:0') tensor(11.1927, device='cuda:0') tensor(-142.3293, device='cuda:0')\n",
      "tensor(0.4033, device='cuda:0') tensor(0.2994, device='cuda:0') tensor(1.0438, device='cuda:0') tensor(10.4284, device='cuda:0') tensor(-478.8441, device='cuda:0')\n",
      "tensor(0.3890, device='cuda:0') tensor(0.2847, device='cuda:0') tensor(1.0388, device='cuda:0') tensor(12.5908, device='cuda:0') tensor(461.5428, device='cuda:0')\n",
      "tensor(0.4299, device='cuda:0') tensor(0.3286, device='cuda:0') tensor(1.0190, device='cuda:0') tensor(10.7059, device='cuda:0') tensor(-545.8906, device='cuda:0')\n",
      "tensor(0.4035, device='cuda:0') tensor(0.3076, device='cuda:0') tensor(0.9475, device='cuda:0') tensor(16.5852, device='cuda:0') tensor(1088.9594, device='cuda:0')\n",
      "tensor(0.3647, device='cuda:0') tensor(0.2700, device='cuda:0') tensor(0.9472, device='cuda:0') tensor(11.1711, device='cuda:0') tensor(-105.5846, device='cuda:0')\n",
      "tensor(0.3971, device='cuda:0') tensor(0.2942, device='cuda:0') tensor(1.0254, device='cuda:0') tensor(13.8036, device='cuda:0') tensor(301.7358, device='cuda:0')\n",
      "tensor(0.3542, device='cuda:0') tensor(0.2557, device='cuda:0') tensor(0.9831, device='cuda:0') tensor(15.3291, device='cuda:0') tensor(244.5279, device='cuda:0')\n",
      "tensor(0.3844, device='cuda:0') tensor(0.2946, device='cuda:0') tensor(0.9023, device='cuda:0') tensor(11.7502, device='cuda:0') tensor(-412.6649, device='cuda:0')\n",
      "tensor(0.4160, device='cuda:0') tensor(0.3098, device='cuda:0') tensor(1.0664, device='cuda:0') tensor(10.6850, device='cuda:0') tensor(-401.9138, device='cuda:0')\n",
      "tensor(0.3569, device='cuda:0') tensor(0.2589, device='cuda:0') tensor(0.9853, device='cuda:0') tensor(14.4500, device='cuda:0') tensor(-584.7220, device='cuda:0')\n",
      "tensor(0.3673, device='cuda:0') tensor(0.2715, device='cuda:0') tensor(0.9604, device='cuda:0') tensor(10.7172, device='cuda:0') tensor(-344.4610, device='cuda:0')\n",
      "tensor(0.3971, device='cuda:0') tensor(0.3035, device='cuda:0') tensor(0.9321, device='cuda:0') tensor(13.0195, device='cuda:0') tensor(441.6832, device='cuda:0')\n",
      "tensor(0.3747, device='cuda:0') tensor(0.2765, device='cuda:0') tensor(0.9827, device='cuda:0') tensor(18.3719, device='cuda:0') tensor(-42.5199, device='cuda:0')\n",
      "tensor(0.4075, device='cuda:0') tensor(0.3035, device='cuda:0') tensor(1.0438, device='cuda:0') tensor(15.5289, device='cuda:0') tensor(-423.5266, device='cuda:0')\n",
      "tensor(0.3761, device='cuda:0') tensor(0.2761, device='cuda:0') tensor(1.0006, device='cuda:0') tensor(12.3615, device='cuda:0') tensor(-83.5861, device='cuda:0')\n",
      "tensor(0.4285, device='cuda:0') tensor(0.3320, device='cuda:0') tensor(0.9618, device='cuda:0') tensor(14.1708, device='cuda:0') tensor(223.1308, device='cuda:0')\n",
      "tensor(0.3514, device='cuda:0') tensor(0.2506, device='cuda:0') tensor(1.0094, device='cuda:0') tensor(10.9430, device='cuda:0') tensor(-184.8958, device='cuda:0')\n",
      "tensor(0.4171, device='cuda:0') tensor(0.3183, device='cuda:0') tensor(0.9860, device='cuda:0') tensor(11.2328, device='cuda:0') tensor(211.7018, device='cuda:0')\n",
      "tensor(0.3686, device='cuda:0') tensor(0.2675, device='cuda:0') tensor(1.0086, device='cuda:0') tensor(11.4839, device='cuda:0') tensor(179.2847, device='cuda:0')\n",
      "tensor(0.3461, device='cuda:0') tensor(0.2513, device='cuda:0') tensor(0.9419, device='cuda:0') tensor(13.7044, device='cuda:0') tensor(655.8793, device='cuda:0')\n",
      "tensor(0.3641, device='cuda:0') tensor(0.2657, device='cuda:0') tensor(0.9949, device='cuda:0') tensor(9.5357, device='cuda:0') tensor(-1155.8674, device='cuda:0')\n"
     ]
    },
    {
     "name": "stdout",
     "output_type": "stream",
     "text": [
      "tensor(0.3795, device='cuda:0') tensor(0.2776, device='cuda:0') tensor(1.0218, device='cuda:0') tensor(11.7973, device='cuda:0') tensor(-261.6412, device='cuda:0')\n",
      "tensor(0.3276, device='cuda:0') tensor(0.2354, device='cuda:0') tensor(0.9304, device='cuda:0') tensor(12.4194, device='cuda:0') tensor(-868.6688, device='cuda:0')\n",
      "tensor(0.4009, device='cuda:0') tensor(0.2982, device='cuda:0') tensor(1.0292, device='cuda:0') tensor(11.6859, device='cuda:0') tensor(-184.0985, device='cuda:0')\n",
      "tensor(0.4049, device='cuda:0') tensor(0.3031, device='cuda:0') tensor(1.0171, device='cuda:0') tensor(14.8609, device='cuda:0') tensor(72.9417, device='cuda:0')\n",
      "tensor(0.4048, device='cuda:0') tensor(0.3051, device='cuda:0') tensor(0.9937, device='cuda:0') tensor(10.9829, device='cuda:0') tensor(335.7043, device='cuda:0')\n",
      "tensor(0.4103, device='cuda:0') tensor(0.3126, device='cuda:0') tensor(0.9793, device='cuda:0') tensor(12.5477, device='cuda:0') tensor(-234.7206, device='cuda:0')\n",
      "tensor(0.3567, device='cuda:0') tensor(0.2591, device='cuda:0') tensor(0.9778, device='cuda:0') tensor(16.0567, device='cuda:0') tensor(-233.6539, device='cuda:0')\n",
      "tensor(0.3508, device='cuda:0') tensor(0.2593, device='cuda:0') tensor(0.9142, device='cuda:0') tensor(12.8855, device='cuda:0') tensor(80.4407, device='cuda:0')\n",
      "tensor(0.3648, device='cuda:0') tensor(0.2635, device='cuda:0') tensor(1.0176, device='cuda:0') tensor(16.5628, device='cuda:0') tensor(-426.2276, device='cuda:0')\n",
      "tensor(0.3709, device='cuda:0') tensor(0.2733, device='cuda:0') tensor(0.9796, device='cuda:0') tensor(14.6856, device='cuda:0') tensor(-405.2022, device='cuda:0')\n",
      "tensor(0.3358, device='cuda:0') tensor(0.2362, device='cuda:0') tensor(0.9988, device='cuda:0') tensor(16.5273, device='cuda:0') tensor(-245.8251, device='cuda:0')\n",
      "tensor(0.3718, device='cuda:0') tensor(0.2735, device='cuda:0') tensor(0.9794, device='cuda:0') tensor(14.9312, device='cuda:0') tensor(299.2216, device='cuda:0')\n",
      "tensor(0.3726, device='cuda:0') tensor(0.2746, device='cuda:0') tensor(0.9810, device='cuda:0') tensor(10.7135, device='cuda:0') tensor(-98.3020, device='cuda:0')\n",
      "tensor(0.4389, device='cuda:0') tensor(0.3394, device='cuda:0') tensor(0.9939, device='cuda:0') tensor(12.9826, device='cuda:0') tensor(146.3405, device='cuda:0')\n",
      "tensor(0.3872, device='cuda:0') tensor(0.2829, device='cuda:0') tensor(1.0480, device='cuda:0') tensor(10.8957, device='cuda:0') tensor(-514.8669, device='cuda:0')\n",
      "tensor(0.3639, device='cuda:0') tensor(0.2710, device='cuda:0') tensor(0.9254, device='cuda:0') tensor(12.2380, device='cuda:0') tensor(400.1139, device='cuda:0')\n",
      "tensor(0.3669, device='cuda:0') tensor(0.2726, device='cuda:0') tensor(0.9441, device='cuda:0') tensor(11.4512, device='cuda:0') tensor(-138.5347, device='cuda:0')\n",
      "tensor(0.3951, device='cuda:0') tensor(0.3000, device='cuda:0') tensor(0.9544, device='cuda:0') tensor(11.1282, device='cuda:0') tensor(-407.4326, device='cuda:0')\n",
      "tensor(0.3335, device='cuda:0') tensor(0.2391, device='cuda:0') tensor(0.9377, device='cuda:0') tensor(14.8970, device='cuda:0') tensor(556.2020, device='cuda:0')\n",
      "tensor(0.3949, device='cuda:0') tensor(0.2950, device='cuda:0') tensor(1.0043, device='cuda:0') tensor(10.5727, device='cuda:0') tensor(-549.3079, device='cuda:0')\n",
      "tensor(0.4058, device='cuda:0') tensor(0.3016, device='cuda:0') tensor(1.0368, device='cuda:0') tensor(16.1058, device='cuda:0') tensor(481.4634, device='cuda:0')\n",
      "tensor(0.3623, device='cuda:0') tensor(0.2578, device='cuda:0') tensor(1.0486, device='cuda:0') tensor(11.0707, device='cuda:0') tensor(-412.0628, device='cuda:0')\n",
      "tensor(0.3743, device='cuda:0') tensor(0.2785, device='cuda:0') tensor(0.9584, device='cuda:0') tensor(12.1777, device='cuda:0') tensor(-128.7459, device='cuda:0')\n",
      "tensor(0.3979, device='cuda:0') tensor(0.3093, device='cuda:0') tensor(0.8923, device='cuda:0') tensor(15.2136, device='cuda:0') tensor(-584.6298, device='cuda:0')\n",
      "tensor(0.3905, device='cuda:0') tensor(0.2973, device='cuda:0') tensor(0.9336, device='cuda:0') tensor(11.6240, device='cuda:0') tensor(-182.7486, device='cuda:0')\n",
      "tensor(0.3829, device='cuda:0') tensor(0.2866, device='cuda:0') tensor(0.9616, device='cuda:0') tensor(12.2546, device='cuda:0') tensor(69.7503, device='cuda:0')\n",
      "tensor(0.3242, device='cuda:0') tensor(0.2189, device='cuda:0') tensor(1.0560, device='cuda:0') tensor(15.3013, device='cuda:0') tensor(-286.0993, device='cuda:0')\n",
      "tensor(0.3869, device='cuda:0') tensor(0.2837, device='cuda:0') tensor(1.0304, device='cuda:0') tensor(18.3127, device='cuda:0') tensor(70.5692, device='cuda:0')\n",
      "tensor(0.4166, device='cuda:0') tensor(0.3219, device='cuda:0') tensor(0.9539, device='cuda:0') tensor(16.1341, device='cuda:0') tensor(-664.9379, device='cuda:0')\n",
      "tensor(0.4063, device='cuda:0') tensor(0.3161, device='cuda:0') tensor(0.9033, device='cuda:0') tensor(14.6676, device='cuda:0') tensor(-146.7132, device='cuda:0')\n",
      "tensor(0.3465, device='cuda:0') tensor(0.2420, device='cuda:0') tensor(1.0525, device='cuda:0') tensor(10.8247, device='cuda:0') tensor(-732.2539, device='cuda:0')\n",
      "tensor(0.3656, device='cuda:0') tensor(0.2681, device='cuda:0') tensor(1.0879, device='cuda:0') tensor(1001.5027, device='cuda:0') tensor(-12235.6016, device='cuda:0')\n",
      "tensor(0.3267, device='cuda:0') tensor(0.2269, device='cuda:0') tensor(1.0018, device='cuda:0') tensor(11.5002, device='cuda:0') tensor(-402.2360, device='cuda:0')\n",
      "tensor(0.3956, device='cuda:0') tensor(0.2937, device='cuda:0') tensor(1.0224, device='cuda:0') tensor(13.6379, device='cuda:0') tensor(-397.5902, device='cuda:0')\n",
      "tensor(0.3630, device='cuda:0') tensor(0.2702, device='cuda:0') tensor(0.9283, device='cuda:0') tensor(12.7798, device='cuda:0') tensor(7.1707, device='cuda:0')\n",
      "tensor(0.3097, device='cuda:0') tensor(0.1977, device='cuda:0') tensor(1.1260, device='cuda:0') tensor(10.1109, device='cuda:0') tensor(-603.5372, device='cuda:0')\n",
      "tensor(0.3521, device='cuda:0') tensor(0.2600, device='cuda:0') tensor(0.9247, device='cuda:0') tensor(13.0043, device='cuda:0') tensor(-386.5020, device='cuda:0')\n",
      "tensor(0.4044, device='cuda:0') tensor(0.3025, device='cuda:0') tensor(1.0183, device='cuda:0') tensor(16.8019, device='cuda:0') tensor(130.8810, device='cuda:0')\n",
      "tensor(0.3633, device='cuda:0') tensor(0.2695, device='cuda:0') tensor(0.9428, device='cuda:0') tensor(11.5496, device='cuda:0') tensor(-537.8561, device='cuda:0')\n",
      "tensor(0.3781, device='cuda:0') tensor(0.2787, device='cuda:0') tensor(0.9950, device='cuda:0') tensor(12.9461, device='cuda:0') tensor(-118.3287, device='cuda:0')\n",
      "tensor(0.3760, device='cuda:0') tensor(0.2712, device='cuda:0') tensor(1.0487, device='cuda:0') tensor(12.1295, device='cuda:0') tensor(-93.6009, device='cuda:0')\n",
      "tensor(0.3585, device='cuda:0') tensor(0.2662, device='cuda:0') tensor(0.9264, device='cuda:0') tensor(15.0889, device='cuda:0') tensor(-272.1227, device='cuda:0')\n",
      "tensor(0.3286, device='cuda:0') tensor(0.2280, device='cuda:0') tensor(1.0121, device='cuda:0') tensor(10.5708, device='cuda:0') tensor(-607.3136, device='cuda:0')\n",
      "tensor(0.3708, device='cuda:0') tensor(0.2696, device='cuda:0') tensor(1.0152, device='cuda:0') tensor(14.0264, device='cuda:0') tensor(-358.6530, device='cuda:0')\n",
      "tensor(0.3413, device='cuda:0') tensor(0.2382, device='cuda:0') tensor(1.0357, device='cuda:0') tensor(10.8382, device='cuda:0') tensor(-534.7356, device='cuda:0')\n",
      "tensor(0.3726, device='cuda:0') tensor(0.2719, device='cuda:0') tensor(1.0026, device='cuda:0') tensor(18.3139, device='cuda:0') tensor(430.5065, device='cuda:0')\n",
      "tensor(0.3439, device='cuda:0') tensor(0.2398, device='cuda:0') tensor(1.0401, device='cuda:0') tensor(13.5402, device='cuda:0') tensor(77.7335, device='cuda:0')\n",
      "tensor(0.3614, device='cuda:0') tensor(0.2695, device='cuda:0') tensor(0.9231, device='cuda:0') tensor(11.4966, device='cuda:0') tensor(-365.6874, device='cuda:0')\n",
      "tensor(0.4208, device='cuda:0') tensor(0.3226, device='cuda:0') tensor(0.9837, device='cuda:0') tensor(13.7595, device='cuda:0') tensor(-229.8243, device='cuda:0')\n",
      "tensor(0.3584, device='cuda:0') tensor(0.2569, device='cuda:0') tensor(1.0212, device='cuda:0') tensor(14.8787, device='cuda:0') tensor(-552.9223, device='cuda:0')\n",
      "tensor(0.3826, device='cuda:0') tensor(0.2858, device='cuda:0') tensor(0.9685, device='cuda:0') tensor(14.0454, device='cuda:0') tensor(-84.3583, device='cuda:0')\n",
      "tensor(0.3441, device='cuda:0') tensor(0.2483, device='cuda:0') tensor(0.9717, device='cuda:0') tensor(11.0614, device='cuda:0') tensor(-1447.3597, device='cuda:0')\n"
     ]
    },
    {
     "name": "stdout",
     "output_type": "stream",
     "text": [
      "tensor(0.3310, device='cuda:0') tensor(0.2411, device='cuda:0') tensor(0.9075, device='cuda:0') tensor(13.0248, device='cuda:0') tensor(-831.6759, device='cuda:0')\n",
      "tensor(0.4255, device='cuda:0') tensor(0.3188, device='cuda:0') tensor(1.0649, device='cuda:0') tensor(23.5644, device='cuda:0') tensor(153.6788, device='cuda:0')\n",
      "tensor(0.3718, device='cuda:0') tensor(0.2741, device='cuda:0') tensor(0.9832, device='cuda:0') tensor(14.0437, device='cuda:0') tensor(-660.3264, device='cuda:0')\n",
      "tensor(0.3518, device='cuda:0') tensor(0.2484, device='cuda:0') tensor(1.0338, device='cuda:0') tensor(14.8404, device='cuda:0') tensor(-12.8961, device='cuda:0')\n",
      "tensor(0.3858, device='cuda:0') tensor(0.2947, device='cuda:0') tensor(0.9202, device='cuda:0') tensor(11.7229, device='cuda:0') tensor(-950.4355, device='cuda:0')\n",
      "tensor(0.4175, device='cuda:0') tensor(0.3175, device='cuda:0') tensor(1.0054, device='cuda:0') tensor(11.5809, device='cuda:0') tensor(-473.4198, device='cuda:0')\n",
      "tensor(0.3853, device='cuda:0') tensor(0.2841, device='cuda:0') tensor(1.0174, device='cuda:0') tensor(13.0313, device='cuda:0') tensor(-580.4338, device='cuda:0')\n",
      "tensor(0.3826, device='cuda:0') tensor(0.2896, device='cuda:0') tensor(0.9284, device='cuda:0') tensor(19.5147, device='cuda:0') tensor(146.7419, device='cuda:0')\n",
      "tensor(0.3444, device='cuda:0') tensor(0.2489, device='cuda:0') tensor(0.9644, device='cuda:0') tensor(14.7372, device='cuda:0') tensor(-1022.3048, device='cuda:0')\n",
      "tensor(0.3544, device='cuda:0') tensor(0.2538, device='cuda:0') tensor(1.0119, device='cuda:0') tensor(10.8935, device='cuda:0') tensor(-596.4419, device='cuda:0')\n"
     ]
    },
    {
     "ename": "KeyboardInterrupt",
     "evalue": "",
     "output_type": "error",
     "traceback": [
      "\u001b[1;31m---------------------------------------------------------------------------\u001b[0m",
      "\u001b[1;31mKeyboardInterrupt\u001b[0m                         Traceback (most recent call last)",
      "\u001b[1;32m<ipython-input-47-9c2acc211494>\u001b[0m in \u001b[0;36m<module>\u001b[1;34m\u001b[0m\n\u001b[0;32m     30\u001b[0m         \u001b[1;31m# training model using target data\u001b[0m\u001b[1;33m\u001b[0m\u001b[1;33m\u001b[0m\u001b[1;33m\u001b[0m\u001b[0m\n\u001b[0;32m     31\u001b[0m         \u001b[0merr\u001b[0m \u001b[1;33m=\u001b[0m \u001b[0merr_reg\u001b[0m \u001b[1;33m+\u001b[0m \u001b[1;36m0.1\u001b[0m\u001b[1;33m*\u001b[0m\u001b[0merr_dom\u001b[0m \u001b[1;33m+\u001b[0m \u001b[1;36m0.000001\u001b[0m\u001b[1;33m*\u001b[0m\u001b[0mkld_loss\u001b[0m\u001b[1;33m+\u001b[0m \u001b[1;36m0.000001\u001b[0m\u001b[1;33m*\u001b[0m\u001b[0mnll_loss\u001b[0m\u001b[1;33m\u001b[0m\u001b[1;33m\u001b[0m\u001b[0m\n\u001b[1;32m---> 32\u001b[1;33m         \u001b[0merr\u001b[0m\u001b[1;33m.\u001b[0m\u001b[0mbackward\u001b[0m\u001b[1;33m(\u001b[0m\u001b[1;33m)\u001b[0m\u001b[1;33m\u001b[0m\u001b[1;33m\u001b[0m\u001b[0m\n\u001b[0m\u001b[0;32m     33\u001b[0m         \u001b[0moptimizer\u001b[0m\u001b[1;33m.\u001b[0m\u001b[0mstep\u001b[0m\u001b[1;33m(\u001b[0m\u001b[1;33m)\u001b[0m\u001b[1;33m\u001b[0m\u001b[1;33m\u001b[0m\u001b[0m\n\u001b[0;32m     34\u001b[0m         \u001b[0mprint\u001b[0m\u001b[1;33m(\u001b[0m\u001b[0merr\u001b[0m\u001b[1;33m.\u001b[0m\u001b[0mdata\u001b[0m\u001b[1;33m,\u001b[0m \u001b[0merr_reg\u001b[0m\u001b[1;33m.\u001b[0m\u001b[0mdata\u001b[0m\u001b[1;33m,\u001b[0m \u001b[0merr_dom\u001b[0m\u001b[1;33m.\u001b[0m\u001b[0mdata\u001b[0m\u001b[1;33m,\u001b[0m \u001b[0mkld_loss\u001b[0m\u001b[1;33m.\u001b[0m\u001b[0mdata\u001b[0m\u001b[1;33m,\u001b[0m \u001b[0mnll_loss\u001b[0m\u001b[1;33m.\u001b[0m\u001b[0mdata\u001b[0m\u001b[1;33m)\u001b[0m\u001b[1;33m\u001b[0m\u001b[1;33m\u001b[0m\u001b[0m\n",
      "\u001b[1;32m~\\Anaconda3\\envs\\pytorch12\\lib\\site-packages\\torch\\tensor.py\u001b[0m in \u001b[0;36mbackward\u001b[1;34m(self, gradient, retain_graph, create_graph)\u001b[0m\n\u001b[0;32m    193\u001b[0m                 \u001b[0mproducts\u001b[0m\u001b[1;33m.\u001b[0m \u001b[0mDefaults\u001b[0m \u001b[0mto\u001b[0m\u001b[0;31m \u001b[0m\u001b[0;31m`\u001b[0m\u001b[0;31m`\u001b[0m\u001b[1;32mFalse\u001b[0m\u001b[0;31m`\u001b[0m\u001b[0;31m`\u001b[0m\u001b[1;33m.\u001b[0m\u001b[1;33m\u001b[0m\u001b[1;33m\u001b[0m\u001b[0m\n\u001b[0;32m    194\u001b[0m         \"\"\"\n\u001b[1;32m--> 195\u001b[1;33m         \u001b[0mtorch\u001b[0m\u001b[1;33m.\u001b[0m\u001b[0mautograd\u001b[0m\u001b[1;33m.\u001b[0m\u001b[0mbackward\u001b[0m\u001b[1;33m(\u001b[0m\u001b[0mself\u001b[0m\u001b[1;33m,\u001b[0m \u001b[0mgradient\u001b[0m\u001b[1;33m,\u001b[0m \u001b[0mretain_graph\u001b[0m\u001b[1;33m,\u001b[0m \u001b[0mcreate_graph\u001b[0m\u001b[1;33m)\u001b[0m\u001b[1;33m\u001b[0m\u001b[1;33m\u001b[0m\u001b[0m\n\u001b[0m\u001b[0;32m    196\u001b[0m \u001b[1;33m\u001b[0m\u001b[0m\n\u001b[0;32m    197\u001b[0m     \u001b[1;32mdef\u001b[0m \u001b[0mregister_hook\u001b[0m\u001b[1;33m(\u001b[0m\u001b[0mself\u001b[0m\u001b[1;33m,\u001b[0m \u001b[0mhook\u001b[0m\u001b[1;33m)\u001b[0m\u001b[1;33m:\u001b[0m\u001b[1;33m\u001b[0m\u001b[1;33m\u001b[0m\u001b[0m\n",
      "\u001b[1;32m~\\Anaconda3\\envs\\pytorch12\\lib\\site-packages\\torch\\autograd\\__init__.py\u001b[0m in \u001b[0;36mbackward\u001b[1;34m(tensors, grad_tensors, retain_graph, create_graph, grad_variables)\u001b[0m\n\u001b[0;32m     97\u001b[0m     Variable._execution_engine.run_backward(\n\u001b[0;32m     98\u001b[0m         \u001b[0mtensors\u001b[0m\u001b[1;33m,\u001b[0m \u001b[0mgrad_tensors\u001b[0m\u001b[1;33m,\u001b[0m \u001b[0mretain_graph\u001b[0m\u001b[1;33m,\u001b[0m \u001b[0mcreate_graph\u001b[0m\u001b[1;33m,\u001b[0m\u001b[1;33m\u001b[0m\u001b[1;33m\u001b[0m\u001b[0m\n\u001b[1;32m---> 99\u001b[1;33m         allow_unreachable=True)  # allow_unreachable flag\n\u001b[0m\u001b[0;32m    100\u001b[0m \u001b[1;33m\u001b[0m\u001b[0m\n\u001b[0;32m    101\u001b[0m \u001b[1;33m\u001b[0m\u001b[0m\n",
      "\u001b[1;31mKeyboardInterrupt\u001b[0m: "
     ]
    }
   ],
   "source": [
    "n_epoch = 10\n",
    "for epoch in range(n_epoch):\n",
    "\n",
    "    len_dataloader = len(domain_train_loader)\n",
    "    train_iter = iter(domain_train_loader)\n",
    "\n",
    "\n",
    "    i = 0\n",
    "    while i < len_dataloader:\n",
    "\n",
    "        p = float(i + epoch * len_dataloader) / n_epoch / len_dataloader\n",
    "        alpha = 2. / (1. + np.exp(-10 * p)) - 1\n",
    "\n",
    "        # training model using source data\n",
    "        data_source = train_iter.next()\n",
    "        x, y, d = data_source\n",
    "\n",
    "        vrada.zero_grad()\n",
    "        batch_size = len(x)\n",
    "        \n",
    "        x = torch.tensor(x).float().to(device)\n",
    "        y = torch.tensor(y).float().to(device)\n",
    "        d = torch.tensor(d).long().to(device)\n",
    "\n",
    "\n",
    "        regressor_output, domain_class_output, kld_loss, nll_loss = vrada(x, alpha)       \n",
    "        err_reg = loss_regression(regressor_output, y.to(device) )\n",
    "        err_dom = loss_domain(domain_class_output.float(), d.long().to(device))\n",
    "\n",
    "        # training model using target data\n",
    "        err = err_reg + 0.1*err_dom + 0.000001*kld_loss+ 0.000001*nll_loss\n",
    "        err.backward()\n",
    "        optimizer.step()\n",
    "        print(err.data, err_reg.data, err_dom.data, kld_loss.data, nll_loss.data)\n",
    "        \n",
    "        i += 1\n",
    "\n",
    "    print ('epoch: %d, [iter: %d / all %d], err_reg: %f, err_domain: %f' \\\n",
    "              % (epoch, i, len_dataloader, err_reg.data.cpu().numpy(),\n",
    "                 err_dom.data.cpu().numpy()))\n",
    "\n",
    "    #torch.save(my_net, '{0}/mnist_mnistm_model_epoch_{1}.pth'.format(model_root, epoch))\n",
    "    #test(source_dataset_name, epoch)\n",
    "    #test(target_dataset_name, epoch)\n",
    "\n",
    "print('done')\n"
   ]
  },
  {
   "cell_type": "code",
   "execution_count": 73,
   "metadata": {},
   "outputs": [
    {
     "data": {
      "text/plain": [
       "0.3430388569831848"
      ]
     },
     "execution_count": 73,
     "metadata": {},
     "output_type": "execute_result"
    }
   ],
   "source": [
    "float(err)"
   ]
  },
  {
   "cell_type": "code",
   "execution_count": 28,
   "metadata": {},
   "outputs": [
    {
     "name": "stderr",
     "output_type": "stream",
     "text": [
      "C:\\Users\\Sebastian\\Anaconda3\\envs\\pytorch12\\lib\\site-packages\\ipykernel_launcher.py:21: UserWarning: To copy construct from a tensor, it is recommended to use sourceTensor.clone().detach() or sourceTensor.clone().detach().requires_grad_(True), rather than torch.tensor(sourceTensor).\n",
      "C:\\Users\\Sebastian\\Anaconda3\\envs\\pytorch12\\lib\\site-packages\\ipykernel_launcher.py:22: UserWarning: To copy construct from a tensor, it is recommended to use sourceTensor.clone().detach() or sourceTensor.clone().detach().requires_grad_(True), rather than torch.tensor(sourceTensor).\n",
      "C:\\Users\\Sebastian\\Anaconda3\\envs\\pytorch12\\lib\\site-packages\\ipykernel_launcher.py:23: UserWarning: To copy construct from a tensor, it is recommended to use sourceTensor.clone().detach() or sourceTensor.clone().detach().requires_grad_(True), rather than torch.tensor(sourceTensor).\n"
     ]
    },
    {
     "name": "stdout",
     "output_type": "stream",
     "text": [
      "epoch: 0, [iter: 553 / all 553], err_reg: 0.031666\n",
      "done\n"
     ]
    }
   ],
   "source": [
    "n_epoch = 1\n",
    "for epoch in range(n_epoch):\n",
    "\n",
    "    len_dataloader = len(domain_val_loader)\n",
    "    train_iter = iter(domain_val_loader)\n",
    "\n",
    "\n",
    "    i = 0\n",
    "    while i < len_dataloader:\n",
    "\n",
    "        p = float(i + epoch * len_dataloader) / n_epoch / len_dataloader\n",
    "        alpha = 2. / (1. + np.exp(-10 * p)) - 1\n",
    "\n",
    "        # training model using source data\n",
    "        data_source = train_iter.next()\n",
    "        x, y, d = data_source\n",
    "\n",
    "        vrada.zero_grad()\n",
    "        batch_size = len(x)\n",
    "        \n",
    "        x = torch.tensor(x).float().to(device)\n",
    "        y = torch.tensor(y).float().to(device)\n",
    "        d = torch.tensor(d).long().to(device)\n",
    "\n",
    "\n",
    "        regressor_output, domain_class_output, kld_loss, nll_loss = vrada(x)       \n",
    "        err_reg = loss_regression(regressor_output, y.to(device) )\n",
    "\n",
    "\n",
    "\n",
    "\n",
    "        i += 1\n",
    "\n",
    "    print ('epoch: %d, [iter: %d / all %d], err_reg: %f' \\\n",
    "              % (epoch, i, len_dataloader, err_reg.data.cpu().numpy()))\n",
    "\n",
    "    #torch.save(my_net, '{0}/mnist_mnistm_model_epoch_{1}.pth'.format(model_root, epoch))\n",
    "    #test(source_dataset_name, epoch)\n",
    "    #test(target_dataset_name, epoch)\n",
    "\n",
    "print('done')\n"
   ]
  },
  {
   "cell_type": "code",
   "execution_count": 120,
   "metadata": {},
   "outputs": [
    {
     "data": {
      "text/plain": [
       "torch.Size([64, 1])"
      ]
     },
     "execution_count": 120,
     "metadata": {},
     "output_type": "execute_result"
    }
   ],
   "source": [
    "regressor_output.shape"
   ]
  },
  {
   "cell_type": "code",
   "execution_count": 121,
   "metadata": {},
   "outputs": [
    {
     "data": {
      "text/plain": [
       "torch.Size([64, 1])"
      ]
     },
     "execution_count": 121,
     "metadata": {},
     "output_type": "execute_result"
    }
   ],
   "source": [
    "y.shape"
   ]
  },
  {
   "cell_type": "code",
   "execution_count": 30,
   "metadata": {},
   "outputs": [
    {
     "data": {
      "text/plain": [
       "51897"
      ]
     },
     "execution_count": 30,
     "metadata": {},
     "output_type": "execute_result"
    }
   ],
   "source": [
    "count_parameters(vrada)"
   ]
  },
  {
   "cell_type": "code",
   "execution_count": 31,
   "metadata": {},
   "outputs": [
    {
     "data": {
      "text/plain": [
       "49092"
      ]
     },
     "execution_count": 31,
     "metadata": {},
     "output_type": "execute_result"
    }
   ],
   "source": [
    "count_parameters(vrada.vrnn)"
   ]
  },
  {
   "cell_type": "code",
   "execution_count": null,
   "metadata": {},
   "outputs": [],
   "source": []
  }
 ],
 "metadata": {
  "kernelspec": {
   "display_name": "Python 3",
   "language": "python",
   "name": "python3"
  },
  "language_info": {
   "codemirror_mode": {
    "name": "ipython",
    "version": 3
   },
   "file_extension": ".py",
   "mimetype": "text/x-python",
   "name": "python",
   "nbconvert_exporter": "python",
   "pygments_lexer": "ipython3",
   "version": "3.7.7"
  }
 },
 "nbformat": 4,
 "nbformat_minor": 4
}
