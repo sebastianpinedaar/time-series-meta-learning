{
 "cells": [
  {
   "cell_type": "code",
   "execution_count": 25,
   "metadata": {},
   "outputs": [],
   "source": [
    "import learn2learn as l2l\n",
    "import numpy as np\n",
    "import matplotlib.pyplot as plt\n",
    "import torch\n",
    "import torch.nn as nn\n",
    "import torch.nn.functional as F\n",
    "import torch.optim as optim\n",
    "import pickle\n",
    "import sys\n",
    "import argparse\n",
    "import os\n",
    "from run_MAML_04 import test2 as test_maml\n",
    "\n",
    "\n",
    "sys.path.insert(1, \"..\")\n",
    "\n",
    "from ts_dataset import TSDataset\n",
    "from base_models import LSTMModel, FCN\n",
    "from metrics import torch_mae as mae\n",
    "import copy\n",
    "from pytorchtools import EarlyStopping\n",
    "from eval_base_models import test, train, freeze_model\n",
    "from torch.utils.data import Dataset, DataLoader\n",
    "from ts_dataset import DomainTSDataset, SimpleDataset"
   ]
  },
  {
   "cell_type": "markdown",
   "metadata": {},
   "source": [
    "## Fine-tuning MAML vs LSTM"
   ]
  },
  {
   "cell_type": "code",
   "execution_count": 55,
   "metadata": {},
   "outputs": [],
   "source": [
    "meta_info = {\"POLLUTION\": [5, 50, 14],\n",
    "             \"HR\": [32, 50, 13],\n",
    "             \"BATTERY\": [20, 50, 3] }\n",
    "\n",
    "\n",
    "\n",
    "\n",
    "output_directory = \"output/\"\n",
    "horizon = 10\n",
    "output_dim = 1\n",
    "\n",
    "dataset_name = \"BATTERY\"\n",
    "save_model_file = \"model6.pt\"\n",
    "load_model_file = \"model6.pt\"\n",
    "lower_trial = 0\n",
    "upper_trial = 3\n",
    "learning_rate = 0.001\n",
    "meta_learning_rate = 0.005\n",
    "adaptation_steps = 10\n",
    "batch_size = 20\n",
    "model_name = \"LSTM\"\n",
    "is_test = 1\n",
    "patience_stopping = 20\n",
    "epochs = 1000\n",
    "noise_level = 0.0\n",
    "noise_type = \"additive\"\n",
    "\n",
    "params = {'batch_size': batch_size,\n",
    "      'shuffle': True,\n",
    "      'num_workers': 0}\n",
    "\n",
    "assert model_name in (\"FCN\", \"LSTM\"), \"Model was not correctly specified\"\n",
    "assert dataset_name in (\"POLLUTION\", \"HR\", \"BATTERY\")\n",
    "\n",
    "window_size, task_size, input_dim = meta_info[dataset_name]\n",
    "grid = [0., noise_level]\n",
    "\n",
    "train_data = pickle.load(  open( \"../../Data/TRAIN-\"+dataset_name+\"-W\"+str(window_size)+\"-T\"+str(task_size)+\"-NOML.pickle\", \"rb\" ) )\n",
    "train_data_ML = pickle.load( open( \"../../Data/TRAIN-\"+dataset_name+\"-W\"+str(window_size)+\"-T\"+str(task_size)+\"-ML.pickle\", \"rb\" ) )\n",
    "validation_data = pickle.load( open( \"../../Data/VAL-\"+dataset_name+\"-W\"+str(window_size)+\"-T\"+str(task_size)+\"-NOML.pickle\", \"rb\" ) )\n",
    "validation_data_ML = pickle.load( open( \"../../Data/VAL-\"+dataset_name+\"-W\"+str(window_size)+\"-T\"+str(task_size)+\"-ML.pickle\", \"rb\" ) )\n",
    "test_data = pickle.load( open( \"../../Data/TEST-\"+dataset_name+\"-W\"+str(window_size)+\"-T\"+str(task_size)+\"-NOML.pickle\", \"rb\" ) )\n",
    "test_data_ML = pickle.load( open( \"../../Data/TEST-\"+dataset_name+\"-W\"+str(window_size)+\"-T\"+str(task_size)+\"-ML.pickle\", \"rb\" ) )"
   ]
  },
  {
   "cell_type": "code",
   "execution_count": 47,
   "metadata": {},
   "outputs": [
    {
     "data": {
      "text/plain": [
       "7592"
      ]
     },
     "execution_count": 47,
     "metadata": {},
     "output_type": "execute_result"
    }
   ],
   "source": [
    "len(train_data_ML.file_idx)"
   ]
  },
  {
   "cell_type": "code",
   "execution_count": 65,
   "metadata": {},
   "outputs": [
    {
     "name": "stdout",
     "output_type": "stream",
     "text": [
      "std: tensor(1.7511e-05, device='cuda:0')\n",
      "0.0014293013\n",
      "std: tensor(7.8850e-06, device='cuda:0')\n",
      "0.001143125\n",
      "std: tensor(8.2360e-06, device='cuda:0')\n",
      "0.0012047491\n",
      "std: tensor(6.1609e-06, device='cuda:0')\n",
      "0.0010751766\n",
      "std: tensor(7.0510e-06, device='cuda:0')\n",
      "0.0011346047\n",
      "std: tensor(1.9191e-06, device='cuda:0')\n",
      "0.0008632424\n",
      "std: tensor(2.1980e-06, device='cuda:0')\n",
      "0.0009218897\n",
      "std: tensor(2.6675e-06, device='cuda:0')\n",
      "0.0009887385\n",
      "std: tensor(3.3206e-06, device='cuda:0')\n",
      "0.0010645682\n",
      "std: tensor(2.5012e-06, device='cuda:0')\n",
      "0.000970134\n",
      "std: tensor(2.9250e-06, device='cuda:0')\n",
      "0.0010313981\n",
      "std: tensor(2.8191e-06, device='cuda:0')\n",
      "0.001020908\n",
      "std: tensor(2.5278e-06, device='cuda:0')\n",
      "0.0010021036\n",
      "std: tensor(3.0848e-06, device='cuda:0')\n",
      "0.0010767387\n",
      "std: tensor(2.7773e-06, device='cuda:0')\n",
      "0.0010238051\n",
      "std: tensor(2.4230e-06, device='cuda:0')\n",
      "0.0009947165\n",
      "std: tensor(2.3117e-06, device='cuda:0')\n",
      "0.0009777443\n",
      "std: tensor(2.6593e-06, device='cuda:0')\n",
      "0.0010211776\n",
      "std: tensor(2.9252e-06, device='cuda:0')\n",
      "0.0010595995\n",
      "std: tensor(2.5578e-06, device='cuda:0')\n",
      "0.00082273374\n",
      "std: tensor(3.8758e-06, device='cuda:0')\n",
      "0.0009726385\n",
      "std: tensor(3.7090e-06, device='cuda:0')\n",
      "0.0009805292\n",
      "std: tensor(3.9238e-06, device='cuda:0')\n",
      "0.0010393572\n",
      "std: tensor(3.9597e-06, device='cuda:0')\n",
      "0.0010848928\n",
      "std: tensor(4.1985e-06, device='cuda:0')\n",
      "0.0011386275\n",
      "std: tensor(3.9986e-06, device='cuda:0')\n",
      "0.0011225999\n",
      "std: tensor(4.3171e-06, device='cuda:0')\n",
      "0.0011654494\n",
      "std: tensor(4.8634e-06, device='cuda:0')\n",
      "0.0012123607\n",
      "std: tensor(5.3367e-06, device='cuda:0')\n",
      "0.0012485947\n",
      "std: tensor(4.3011e-06, device='cuda:0')\n",
      "0.0011637973\n",
      "std: tensor(4.5029e-06, device='cuda:0')\n",
      "0.0011855329\n",
      "std: tensor(3.8114e-06, device='cuda:0')\n",
      "0.0011196313\n",
      "std: tensor(4.1905e-06, device='cuda:0')\n",
      "0.0011590275\n",
      "std: tensor(3.4489e-06, device='cuda:0')\n",
      "0.0011000632\n",
      "std: tensor(3.6110e-06, device='cuda:0')\n",
      "0.0011328417\n",
      "std: tensor(3.7996e-06, device='cuda:0')\n",
      "0.001163005\n",
      "std: tensor(3.9194e-06, device='cuda:0')\n",
      "0.0011628505\n",
      "std: tensor(3.3358e-06, device='cuda:0')\n",
      "0.0011055004\n",
      "std: tensor(7.5340e-06, device='cuda:0')\n",
      "0.001269599\n",
      "std: tensor(4.4869e-06, device='cuda:0')\n",
      "0.0011191588\n",
      "std: tensor(4.8526e-06, device='cuda:0')\n",
      "0.0011524177\n",
      "std: tensor(4.8282e-06, device='cuda:0')\n",
      "0.0011739442\n",
      "std: tensor(2.9300e-06, device='cuda:0')\n",
      "0.0010705047\n",
      "std: tensor(2.9652e-06, device='cuda:0')\n",
      "0.0010929243\n",
      "std: tensor(3.1761e-06, device='cuda:0')\n",
      "0.0011224776\n",
      "std: tensor(3.4543e-06, device='cuda:0')\n",
      "0.0011495423\n",
      "std: tensor(3.7965e-06, device='cuda:0')\n",
      "0.0011852398\n",
      "std: tensor(2.5844e-06, device='cuda:0')\n",
      "0.001097764\n",
      "std: tensor(2.8073e-06, device='cuda:0')\n",
      "0.0011196297\n",
      "std: tensor(3.0499e-06, device='cuda:0')\n",
      "0.0011461573\n",
      "std: tensor(3.3418e-06, device='cuda:0')\n",
      "0.0011802334\n",
      "std: tensor(3.6769e-06, device='cuda:0')\n",
      "0.0012230233\n",
      "std: tensor(4.0138e-06, device='cuda:0')\n",
      "0.0012651861\n",
      "std: tensor(3.2831e-06, device='cuda:0')\n",
      "0.0012213219\n",
      "std: tensor(3.3719e-06, device='cuda:0')\n",
      "0.0012228175\n",
      "std: tensor(3.4273e-06, device='cuda:0')\n",
      "0.0012190631\n",
      "std: tensor(3.7728e-06, device='cuda:0')\n",
      "0.0012638704\n"
     ]
    }
   ],
   "source": [
    "trial = 0\n",
    "learning_rate = 0.0001\n",
    "output_directory = \"../../Models/\"+dataset_name+\"_\"+model_name+\"_MAML/\"+str(trial)+\"/\"\n",
    "\n",
    "save_model_file_ = output_directory + \"encoder_\"+save_model_file\n",
    "save_model_file_2 = output_directory + save_model_file\n",
    "load_model_file_ = output_directory + load_model_file\n",
    "\n",
    "model = LSTMModel( batch_size=batch_size, seq_len = window_size, input_dim = input_dim, n_layers = 2, hidden_dim = 120, output_dim =1)\n",
    "model2 = nn.Linear(120, 1)\n",
    "\n",
    "model.cuda()\n",
    "model2.cuda()\n",
    "\n",
    "maml = l2l.algorithms.MAML(model2, lr=learning_rate, first_order=False)\n",
    "model.load_state_dict(torch.load(save_model_file_))\n",
    "maml.load_state_dict(torch.load(save_model_file_2))\n",
    "\n",
    "loss_hist_test =[]\n",
    "for i in range(1,20):\n",
    "    loss = test_maml(maml, model, model_name, dataset_name, test_data_ML, 10, learning_rate,0, noise_type, horizon =i)\n",
    "    print(loss.cpu().numpy())\n",
    "    loss_hist_test.append(float(loss.cpu().numpy()))\n",
    "    \n",
    "    \n",
    "loss_hist_validation =[]\n",
    "for i in range(1,20):\n",
    "    loss = test_maml(maml, model, model_name, dataset_name, validation_data_ML, 10, learning_rate,0, noise_type, horizon =i)\n",
    "    print(loss.cpu().numpy())\n",
    "    loss_hist_validation.append(float(loss.cpu().numpy()))\n",
    "    \n",
    "loss_hist_train =[]\n",
    "for i in range(1,20):\n",
    "    loss = test_maml(maml, model, model_name, dataset_name, train_data_ML, 10, learning_rate,0, noise_type, horizon =i)\n",
    "    print(loss.cpu().numpy())\n",
    "    loss_hist_train.append(float(loss.cpu().numpy()))"
   ]
  },
  {
   "cell_type": "code",
   "execution_count": 66,
   "metadata": {},
   "outputs": [
    {
     "data": {
      "text/plain": [
       "[<matplotlib.lines.Line2D at 0x239c864a988>]"
      ]
     },
     "execution_count": 66,
     "metadata": {},
     "output_type": "execute_result"
    },
    {
     "data": {
      "image/png": "[encoded data removed]",
      "text/plain": [
       "<Figure size 432x288 with 1 Axes>"
      ]
     },
     "metadata": {
      "needs_background": "light"
     },
     "output_type": "display_data"
    }
   ],
   "source": [
    "import matplotlib.pyplot as plt\n",
    "plt.plot(loss_hist_test)\n",
    "plt.plot(loss_hist_validation)\n",
    "plt.plot(loss_hist_train)\n",
    "\n",
    "#pd.DataFrame({\"Train\": loss_hist_train,\n",
    "#              \"Test\": loss_hist_test,\n",
    "#              \"Validation\": loss_hist_validation}).to_csv(\"../../Results/loss_list_iter_horizon_1_BATTERY3.csv\")\n",
    "#"
   ]
  },
  {
   "cell_type": "code",
   "execution_count": 41,
   "metadata": {},
   "outputs": [
    {
     "data": {
      "text/plain": [
       "[<matplotlib.lines.Line2D at 0x239aba6af48>]"
      ]
     },
     "execution_count": 41,
     "metadata": {},
     "output_type": "execute_result"
    },
    {
     "data": {
      "image/png": "[encoded data removed]",
      "text/plain": [
       "<Figure size 432x288 with 1 Axes>"
      ]
     },
     "metadata": {
      "needs_background": "light"
     },
     "output_type": "display_data"
    }
   ],
   "source": [
    "import matplotlib.pyplot as plt\n",
    "plt.plot(loss_hist)"
   ]
  },
  {
   "cell_type": "code",
   "execution_count": 55,
   "metadata": {},
   "outputs": [
    {
     "data": {
      "text/plain": [
       "[<matplotlib.lines.Line2D at 0x2639bdf1b88>]"
      ]
     },
     "execution_count": 55,
     "metadata": {},
     "output_type": "execute_result"
    },
    {
     "data": {
      "image/png": "[encoded data removed]",
      "text/plain": [
       "<Figure size 432x288 with 1 Axes>"
      ]
     },
     "metadata": {
      "needs_background": "light"
     },
     "output_type": "display_data"
    }
   ],
   "source": [
    "plt.plot(loss_hist)\n",
    "plt.plot(loss_hist_1)"
   ]
  },
  {
   "cell_type": "code",
   "execution_count": 34,
   "metadata": {},
   "outputs": [],
   "source": [
    "import pandas as pd\n",
    "pd.DataFrame(loss_hist).to_csv(\"../../Results/loss_list_iter_horizon_1_HR2.csv\")"
   ]
  },
  {
   "cell_type": "code",
   "execution_count": 19,
   "metadata": {},
   "outputs": [
    {
     "name": "stdout",
     "output_type": "stream",
     "text": [
      "0.04197604\n",
      "0.041967083\n",
      "0.041958276\n",
      "0.041949566\n",
      "0.04194093\n",
      "0.041932367\n",
      "0.04192387\n"
     ]
    },
    {
     "ename": "KeyboardInterrupt",
     "evalue": "",
     "output_type": "error",
     "traceback": [
      "\u001b[1;31m---------------------------------------------------------------------------\u001b[0m",
      "\u001b[1;31mKeyboardInterrupt\u001b[0m                         Traceback (most recent call last)",
      "\u001b[1;32m<ipython-input-19-84d22a036b8a>\u001b[0m in \u001b[0;36m<module>\u001b[1;34m\u001b[0m\n\u001b[0;32m     17\u001b[0m \u001b[1;33m\u001b[0m\u001b[0m\n\u001b[0;32m     18\u001b[0m \u001b[1;32mfor\u001b[0m \u001b[0mi\u001b[0m \u001b[1;32min\u001b[0m \u001b[0mrange\u001b[0m\u001b[1;33m(\u001b[0m\u001b[1;36m10\u001b[0m\u001b[1;33m)\u001b[0m\u001b[1;33m:\u001b[0m\u001b[1;33m\u001b[0m\u001b[1;33m\u001b[0m\u001b[0m\n\u001b[1;32m---> 19\u001b[1;33m     \u001b[0mloss\u001b[0m \u001b[1;33m=\u001b[0m \u001b[0mtest_maml\u001b[0m\u001b[1;33m(\u001b[0m\u001b[0mmaml\u001b[0m\u001b[1;33m,\u001b[0m \u001b[0mmodel\u001b[0m\u001b[1;33m,\u001b[0m \u001b[0mmodel_name\u001b[0m\u001b[1;33m,\u001b[0m \u001b[0mdataset_name\u001b[0m\u001b[1;33m,\u001b[0m \u001b[0mtest_data_ML\u001b[0m\u001b[1;33m,\u001b[0m \u001b[0mi\u001b[0m\u001b[1;33m,\u001b[0m \u001b[0mlearning_rate\u001b[0m\u001b[1;33m,\u001b[0m\u001b[1;36m0\u001b[0m\u001b[1;33m,\u001b[0m \u001b[0mnoise_type\u001b[0m\u001b[1;33m)\u001b[0m\u001b[1;33m\u001b[0m\u001b[1;33m\u001b[0m\u001b[0m\n\u001b[0m\u001b[0;32m     20\u001b[0m     \u001b[0mprint\u001b[0m\u001b[1;33m(\u001b[0m\u001b[0mloss\u001b[0m\u001b[1;33m.\u001b[0m\u001b[0mcpu\u001b[0m\u001b[1;33m(\u001b[0m\u001b[1;33m)\u001b[0m\u001b[1;33m.\u001b[0m\u001b[0mnumpy\u001b[0m\u001b[1;33m(\u001b[0m\u001b[1;33m)\u001b[0m\u001b[1;33m)\u001b[0m\u001b[1;33m\u001b[0m\u001b[1;33m\u001b[0m\u001b[0m\n",
      "\u001b[1;32m~\\Documents\\Data Analytics Master\\Semester4-Thesis\\repo\\time-series-meta-learning\\master-thesis\\Code\\meta-learning\\run_MAML_04.py\u001b[0m in \u001b[0;36mtest2\u001b[1;34m(maml, model, model_name, dataset_name, test_data_ML, adaptation_steps, learning_rate, noise_level, noise_type, is_test, horizon)\u001b[0m\n\u001b[0;32m     95\u001b[0m             \u001b[1;31m#error.backward()\u001b[0m\u001b[1;33m\u001b[0m\u001b[1;33m\u001b[0m\u001b[1;33m\u001b[0m\u001b[0m\n\u001b[0;32m     96\u001b[0m \u001b[1;33m\u001b[0m\u001b[0m\n\u001b[1;32m---> 97\u001b[1;33m             \u001b[0mlearner\u001b[0m\u001b[1;33m.\u001b[0m\u001b[0madapt\u001b[0m\u001b[1;33m(\u001b[0m\u001b[0merror\u001b[0m\u001b[1;33m)\u001b[0m\u001b[1;33m\u001b[0m\u001b[1;33m\u001b[0m\u001b[0m\n\u001b[0m\u001b[0;32m     98\u001b[0m             \u001b[1;31m#opt2.step()\u001b[0m\u001b[1;33m\u001b[0m\u001b[1;33m\u001b[0m\u001b[1;33m\u001b[0m\u001b[0m\n\u001b[0;32m     99\u001b[0m \u001b[1;33m\u001b[0m\u001b[0m\n",
      "\u001b[1;32m~\\Anaconda3\\envs\\pytorch12\\lib\\site-packages\\learn2learn\\algorithms\\maml.py\u001b[0m in \u001b[0;36madapt\u001b[1;34m(self, loss, first_order, allow_unused, allow_nograd)\u001b[0m\n\u001b[0;32m    184\u001b[0m                                  \u001b[0mretain_graph\u001b[0m\u001b[1;33m=\u001b[0m\u001b[0msecond_order\u001b[0m\u001b[1;33m,\u001b[0m\u001b[1;33m\u001b[0m\u001b[1;33m\u001b[0m\u001b[0m\n\u001b[0;32m    185\u001b[0m                                  \u001b[0mcreate_graph\u001b[0m\u001b[1;33m=\u001b[0m\u001b[0msecond_order\u001b[0m\u001b[1;33m,\u001b[0m\u001b[1;33m\u001b[0m\u001b[1;33m\u001b[0m\u001b[0m\n\u001b[1;32m--> 186\u001b[1;33m                                  allow_unused=allow_unused)\n\u001b[0m\u001b[0;32m    187\u001b[0m             \u001b[1;32mexcept\u001b[0m \u001b[0mRuntimeError\u001b[0m\u001b[1;33m:\u001b[0m\u001b[1;33m\u001b[0m\u001b[1;33m\u001b[0m\u001b[0m\n\u001b[0;32m    188\u001b[0m                 \u001b[0mtraceback\u001b[0m\u001b[1;33m.\u001b[0m\u001b[0mprint_exc\u001b[0m\u001b[1;33m(\u001b[0m\u001b[1;33m)\u001b[0m\u001b[1;33m\u001b[0m\u001b[1;33m\u001b[0m\u001b[0m\n",
      "\u001b[1;32m~\\Anaconda3\\envs\\pytorch12\\lib\\site-packages\\torch\\autograd\\__init__.py\u001b[0m in \u001b[0;36mgrad\u001b[1;34m(outputs, inputs, grad_outputs, retain_graph, create_graph, only_inputs, allow_unused)\u001b[0m\n\u001b[0;32m    155\u001b[0m     return Variable._execution_engine.run_backward(\n\u001b[0;32m    156\u001b[0m         \u001b[0moutputs\u001b[0m\u001b[1;33m,\u001b[0m \u001b[0mgrad_outputs\u001b[0m\u001b[1;33m,\u001b[0m \u001b[0mretain_graph\u001b[0m\u001b[1;33m,\u001b[0m \u001b[0mcreate_graph\u001b[0m\u001b[1;33m,\u001b[0m\u001b[1;33m\u001b[0m\u001b[1;33m\u001b[0m\u001b[0m\n\u001b[1;32m--> 157\u001b[1;33m         inputs, allow_unused)\n\u001b[0m\u001b[0;32m    158\u001b[0m \u001b[1;33m\u001b[0m\u001b[0m\n\u001b[0;32m    159\u001b[0m \u001b[1;33m\u001b[0m\u001b[0m\n",
      "\u001b[1;31mKeyboardInterrupt\u001b[0m: "
     ]
    }
   ],
   "source": [
    "trial = 2\n",
    "output_directory = \"../../Models/\"+dataset_name+\"_\"+model_name+\"_MAML/\"+str(trial)+\"/\"\n",
    "\n",
    "save_model_file_ = output_directory + \"encoder_\"+save_model_file\n",
    "save_model_file_2 = output_directory + save_model_file\n",
    "load_model_file_ = output_directory + load_model_file\n",
    "\n",
    "model = LSTMModel( batch_size=batch_size, seq_len = window_size, input_dim = input_dim, n_layers = 2, hidden_dim = 120, output_dim =1)\n",
    "model2 = nn.Linear(120, 1)\n",
    "\n",
    "model.cuda()\n",
    "model2.cuda()\n",
    "\n",
    "maml = l2l.algorithms.MAML(model2, lr=learning_rate, first_order=False)\n",
    "model.load_state_dict(torch.load(save_model_file_))\n",
    "maml.load_state_dict(torch.load(save_model_file_2))\n",
    "\n",
    "for i in range(10):\n",
    "    loss = test_maml(maml, model, model_name, dataset_name, test_data_ML, i, learning_rate,0, noise_type)\n",
    "    print(loss.cpu().numpy())"
   ]
  },
  {
   "cell_type": "code",
   "execution_count": 60,
   "metadata": {},
   "outputs": [],
   "source": [
    "trial = 2\n",
    "output_directory_nomaml = \"../../Models/\"+dataset_name+\"_\"+model_name+\"/\"+str(trial)+\"/\"\n",
    "save_model_file_nomaml = output_directory_nomaml + \"temp_model.pt\"\n",
    "load_model_file_nomaml = output_directory_nomaml + \"model.pt\""
   ]
  },
  {
   "cell_type": "code",
   "execution_count": 64,
   "metadata": {},
   "outputs": [],
   "source": [
    "n_tasks, task_size, dim, channels = test_data_ML.x.shape if is_test else validation_data_ML.x.shape\n",
    "horizon = 10\n",
    "freeze_model_flag = True\n",
    "test_loss_list1 = []\n",
    "test_loss_list2 = []\n",
    "initial_test_loss_list1 = []\n",
    "initial_test_loss_list2 = []\n",
    "regularization_penalty = 0.0\n",
    "learning_rate = 0.001\n",
    "is_test = 1\n",
    "def test_nomaml(epochs, horizon):\n",
    "\n",
    "    test_loss_list1 = []\n",
    "\n",
    "    verbose = 0\n",
    "    if task_size == 50:\n",
    "        step = n_tasks//100\n",
    "    else:\n",
    "        step = 1\n",
    "\n",
    "    for task_id in range(0, (n_tasks-horizon-1), step):\n",
    "\n",
    "\n",
    "        #check that all files blong to the same domain\n",
    "        temp_file_idx = test_data_ML.file_idx[task_id:task_id+horizon+1] if is_test else validation_data_ML.file_idx[task_id:task_id+horizon+1]\n",
    "        if(len(np.unique(temp_file_idx))>1):\n",
    "            continue\n",
    "\n",
    "        if is_test: \n",
    "            temp_x_train = test_data_ML.x[task_id]\n",
    "            temp_y_train = test_data_ML.y[task_id]\n",
    "\n",
    "            temp_x_test1 = test_data_ML.x[(task_id+1):(task_id+horizon+1)].reshape(-1, dim, channels)\n",
    "            temp_y_test1 = test_data_ML.y[(task_id+1):(task_id+horizon+1)].reshape(-1, 1)\n",
    "\n",
    "            temp_x_test2 = test_data_ML.x[(task_id+1)].reshape(-1, dim, channels)\n",
    "            temp_y_test2 = test_data_ML.y[(task_id+1)].reshape(-1, 1)\n",
    "\n",
    "        else:\n",
    "            temp_x_train = validation_data_ML.x[task_id]\n",
    "            temp_y_train = validation_data_ML.y[task_id]\n",
    "\n",
    "            temp_x_test1 = validation_data_ML.x[(task_id+1):(task_id+horizon+1)].reshape(-1, dim, channels)\n",
    "            temp_y_test1 = validation_data_ML.y[(task_id+1):(task_id+horizon+1)].reshape(-1, 1)\n",
    "\n",
    "            temp_x_test2 = validation_data_ML.x[(task_id+1)].reshape(-1, dim, channels)\n",
    "            temp_y_test2 = validation_data_ML.y[(task_id+1)].reshape(-1, 1)\n",
    "\n",
    "\n",
    "        if model_name == \"FCN\":\n",
    "\n",
    "            kernels = [8,5,3] if dataset_name!= \"POLLUTION\" else [4,2,1]\n",
    "            temp_x_train = np.transpose(temp_x_train, [0,2,1])\n",
    "            temp_x_test1 = np.transpose(temp_x_test1, [0,2,1])\n",
    "            temp_x_test2 = np.transpose(temp_x_test2, [0,2,1])\n",
    "            #temp_x_val = np.transpose(temp_x_val, [0,2,1])\n",
    "\n",
    "        early_stopping = EarlyStopping(patience=patience_stopping, model_file=save_model_file_nomaml, verbose=verbose)\n",
    "\n",
    "\n",
    "        if model_name == \"LSTM\":\n",
    "            model = LSTMModel( batch_size=batch_size, seq_len = window_size, input_dim = input_dim, n_layers = 2, hidden_dim = 120, output_dim =1)\n",
    "        elif model_name == \"FCN\":\n",
    "            model = FCN(time_steps = window_size, channels=[input_dim, 128, 128, 128], kernels=kernels )\n",
    "\n",
    "\n",
    "        model.load_state_dict(torch.load(load_model_file_nomaml))\n",
    "\n",
    "        train_loader = DataLoader(SimpleDataset(x=temp_x_train, y=temp_y_train), **params)\n",
    "        test_loader1 = DataLoader(SimpleDataset(x=temp_x_test1, y=temp_y_test1), **params)\n",
    "        test_loader2 = DataLoader(SimpleDataset(x=temp_x_test2, y=temp_y_test2), **params)\n",
    "\n",
    "        verbose = False\n",
    "\n",
    "        model.cuda()\n",
    "        #initial_loss1 = test(model, test_loader1, output_directory, load_model_file_nomaml, verbose)\n",
    "        #initial_loss2 = test(model, test_loader2, output_directory, load_model_file_nomaml, verbose)\n",
    "\n",
    "        if freeze_model_flag:\n",
    "            freeze_model(model)\n",
    "\n",
    "        #early_stopping(initial_loss, model)\n",
    "        train(model, train_loader, test_loader1, early_stopping, learning_rate, epochs, regularization_penalty) \n",
    "        early_stopping(0.0, model)\n",
    "        loss1 = test(model, test_loader1, output_directory, save_model_file_nomaml, verbose, threshold=True)\n",
    "        #loss2 = test(model, test_loader2, output_directory, save_model_file_nomaml, verbose)\n",
    "        #print(loss1)\n",
    "\n",
    "        test_loss_list1.append(loss1)\n",
    "        #initial_test_loss_list1.append(initial_loss1)\n",
    "        #test_loss_list2.append(loss2)\n",
    "        #initial_test_loss_list2.append(initial_loss2)\n",
    "\n",
    "    return test_loss_list1#, initial_test_loss_list1 #initial_test_loss_list2"
   ]
  },
  {
   "cell_type": "code",
   "execution_count": 65,
   "metadata": {},
   "outputs": [
    {
     "ename": "KeyboardInterrupt",
     "evalue": "",
     "output_type": "error",
     "traceback": [
      "\u001b[1;31m---------------------------------------------------------------------------\u001b[0m",
      "\u001b[1;31mKeyboardInterrupt\u001b[0m                         Traceback (most recent call last)",
      "\u001b[1;32m<ipython-input-65-ed8a3640ba2c>\u001b[0m in \u001b[0;36m<module>\u001b[1;34m\u001b[0m\n\u001b[1;32m----> 1\u001b[1;33m \u001b[0ma\u001b[0m\u001b[1;33m,\u001b[0m \u001b[0mb\u001b[0m \u001b[1;33m=\u001b[0m \u001b[0mtest_nomaml\u001b[0m\u001b[1;33m(\u001b[0m\u001b[0mepochs\u001b[0m \u001b[1;33m=\u001b[0m \u001b[1;36m1\u001b[0m\u001b[1;33m,\u001b[0m\u001b[0mhorizon\u001b[0m \u001b[1;33m=\u001b[0m \u001b[1;36m1\u001b[0m\u001b[1;33m)\u001b[0m\u001b[1;33m\u001b[0m\u001b[1;33m\u001b[0m\u001b[0m\n\u001b[0m",
      "\u001b[1;32m<ipython-input-64-f8c10356fd77>\u001b[0m in \u001b[0;36mtest_nomaml\u001b[1;34m(epochs, horizon)\u001b[0m\n\u001b[0;32m     60\u001b[0m \u001b[1;33m\u001b[0m\u001b[0m\n\u001b[0;32m     61\u001b[0m         \u001b[1;32mif\u001b[0m \u001b[0mmodel_name\u001b[0m \u001b[1;33m==\u001b[0m \u001b[1;34m\"LSTM\"\u001b[0m\u001b[1;33m:\u001b[0m\u001b[1;33m\u001b[0m\u001b[1;33m\u001b[0m\u001b[0m\n\u001b[1;32m---> 62\u001b[1;33m             \u001b[0mmodel\u001b[0m \u001b[1;33m=\u001b[0m \u001b[0mLSTMModel\u001b[0m\u001b[1;33m(\u001b[0m \u001b[0mbatch_size\u001b[0m\u001b[1;33m=\u001b[0m\u001b[0mbatch_size\u001b[0m\u001b[1;33m,\u001b[0m \u001b[0mseq_len\u001b[0m \u001b[1;33m=\u001b[0m \u001b[0mwindow_size\u001b[0m\u001b[1;33m,\u001b[0m \u001b[0minput_dim\u001b[0m \u001b[1;33m=\u001b[0m \u001b[0minput_dim\u001b[0m\u001b[1;33m,\u001b[0m \u001b[0mn_layers\u001b[0m \u001b[1;33m=\u001b[0m \u001b[1;36m2\u001b[0m\u001b[1;33m,\u001b[0m \u001b[0mhidden_dim\u001b[0m \u001b[1;33m=\u001b[0m \u001b[1;36m120\u001b[0m\u001b[1;33m,\u001b[0m \u001b[0moutput_dim\u001b[0m \u001b[1;33m=\u001b[0m\u001b[1;36m1\u001b[0m\u001b[1;33m)\u001b[0m\u001b[1;33m\u001b[0m\u001b[1;33m\u001b[0m\u001b[0m\n\u001b[0m\u001b[0;32m     63\u001b[0m         \u001b[1;32melif\u001b[0m \u001b[0mmodel_name\u001b[0m \u001b[1;33m==\u001b[0m \u001b[1;34m\"FCN\"\u001b[0m\u001b[1;33m:\u001b[0m\u001b[1;33m\u001b[0m\u001b[1;33m\u001b[0m\u001b[0m\n\u001b[0;32m     64\u001b[0m             \u001b[0mmodel\u001b[0m \u001b[1;33m=\u001b[0m \u001b[0mFCN\u001b[0m\u001b[1;33m(\u001b[0m\u001b[0mtime_steps\u001b[0m \u001b[1;33m=\u001b[0m \u001b[0mwindow_size\u001b[0m\u001b[1;33m,\u001b[0m \u001b[0mchannels\u001b[0m\u001b[1;33m=\u001b[0m\u001b[1;33m[\u001b[0m\u001b[0minput_dim\u001b[0m\u001b[1;33m,\u001b[0m \u001b[1;36m128\u001b[0m\u001b[1;33m,\u001b[0m \u001b[1;36m128\u001b[0m\u001b[1;33m,\u001b[0m \u001b[1;36m128\u001b[0m\u001b[1;33m]\u001b[0m\u001b[1;33m,\u001b[0m \u001b[0mkernels\u001b[0m\u001b[1;33m=\u001b[0m\u001b[0mkernels\u001b[0m \u001b[1;33m)\u001b[0m\u001b[1;33m\u001b[0m\u001b[1;33m\u001b[0m\u001b[0m\n",
      "\u001b[1;32m~\\Documents\\Data Analytics Master\\Semester4-Thesis\\repo\\time-series-meta-learning\\master-thesis\\Code\\base_models.py\u001b[0m in \u001b[0;36m__init__\u001b[1;34m(self, batch_size, seq_len, input_dim, n_layers, hidden_dim, output_dim, lin_hidden_dim)\u001b[0m\n\u001b[0;32m     78\u001b[0m         \u001b[0msuper\u001b[0m\u001b[1;33m(\u001b[0m\u001b[0mLSTMModel\u001b[0m\u001b[1;33m,\u001b[0m \u001b[0mself\u001b[0m\u001b[1;33m)\u001b[0m\u001b[1;33m.\u001b[0m\u001b[0m__init__\u001b[0m\u001b[1;33m(\u001b[0m\u001b[1;33m)\u001b[0m\u001b[1;33m\u001b[0m\u001b[1;33m\u001b[0m\u001b[0m\n\u001b[0;32m     79\u001b[0m \u001b[1;33m\u001b[0m\u001b[0m\n\u001b[1;32m---> 80\u001b[1;33m         \u001b[0mself\u001b[0m\u001b[1;33m.\u001b[0m\u001b[0mlstm\u001b[0m \u001b[1;33m=\u001b[0m \u001b[0mnn\u001b[0m\u001b[1;33m.\u001b[0m\u001b[0mLSTM\u001b[0m\u001b[1;33m(\u001b[0m\u001b[0minput_dim\u001b[0m\u001b[1;33m,\u001b[0m \u001b[0mhidden_dim\u001b[0m\u001b[1;33m,\u001b[0m \u001b[0mn_layers\u001b[0m\u001b[1;33m,\u001b[0m \u001b[0mbatch_first\u001b[0m\u001b[1;33m=\u001b[0m\u001b[1;32mTrue\u001b[0m\u001b[1;33m)\u001b[0m\u001b[1;33m\u001b[0m\u001b[1;33m\u001b[0m\u001b[0m\n\u001b[0m\u001b[0;32m     81\u001b[0m         \u001b[0mself\u001b[0m\u001b[1;33m.\u001b[0m\u001b[0mlinear\u001b[0m \u001b[1;33m=\u001b[0m \u001b[0mnn\u001b[0m\u001b[1;33m.\u001b[0m\u001b[0mLinear\u001b[0m\u001b[1;33m(\u001b[0m\u001b[0mhidden_dim\u001b[0m\u001b[1;33m,\u001b[0m \u001b[0moutput_dim\u001b[0m\u001b[1;33m)\u001b[0m\u001b[1;31m#\u001b[0m\u001b[1;33m\u001b[0m\u001b[1;33m\u001b[0m\u001b[0m\n\u001b[0;32m     82\u001b[0m         \u001b[0mself\u001b[0m\u001b[1;33m.\u001b[0m\u001b[0mhidden_dim\u001b[0m \u001b[1;33m=\u001b[0m \u001b[0mhidden_dim\u001b[0m\u001b[1;33m\u001b[0m\u001b[1;33m\u001b[0m\u001b[0m\n",
      "\u001b[1;32m~\\Anaconda3\\envs\\pytorch12\\lib\\site-packages\\torch\\nn\\modules\\rnn.py\u001b[0m in \u001b[0;36m__init__\u001b[1;34m(self, *args, **kwargs)\u001b[0m\n\u001b[0;32m    502\u001b[0m     \"\"\"\n\u001b[0;32m    503\u001b[0m     \u001b[1;32mdef\u001b[0m \u001b[0m__init__\u001b[0m\u001b[1;33m(\u001b[0m\u001b[0mself\u001b[0m\u001b[1;33m,\u001b[0m \u001b[1;33m*\u001b[0m\u001b[0margs\u001b[0m\u001b[1;33m,\u001b[0m \u001b[1;33m**\u001b[0m\u001b[0mkwargs\u001b[0m\u001b[1;33m)\u001b[0m\u001b[1;33m:\u001b[0m\u001b[1;33m\u001b[0m\u001b[1;33m\u001b[0m\u001b[0m\n\u001b[1;32m--> 504\u001b[1;33m         \u001b[0msuper\u001b[0m\u001b[1;33m(\u001b[0m\u001b[0mLSTM\u001b[0m\u001b[1;33m,\u001b[0m \u001b[0mself\u001b[0m\u001b[1;33m)\u001b[0m\u001b[1;33m.\u001b[0m\u001b[0m__init__\u001b[0m\u001b[1;33m(\u001b[0m\u001b[1;34m'LSTM'\u001b[0m\u001b[1;33m,\u001b[0m \u001b[1;33m*\u001b[0m\u001b[0margs\u001b[0m\u001b[1;33m,\u001b[0m \u001b[1;33m**\u001b[0m\u001b[0mkwargs\u001b[0m\u001b[1;33m)\u001b[0m\u001b[1;33m\u001b[0m\u001b[1;33m\u001b[0m\u001b[0m\n\u001b[0m\u001b[0;32m    505\u001b[0m \u001b[1;33m\u001b[0m\u001b[0m\n\u001b[0;32m    506\u001b[0m     \u001b[1;32mdef\u001b[0m \u001b[0mcheck_forward_args\u001b[0m\u001b[1;33m(\u001b[0m\u001b[0mself\u001b[0m\u001b[1;33m,\u001b[0m \u001b[0minput\u001b[0m\u001b[1;33m,\u001b[0m \u001b[0mhidden\u001b[0m\u001b[1;33m,\u001b[0m \u001b[0mbatch_sizes\u001b[0m\u001b[1;33m)\u001b[0m\u001b[1;33m:\u001b[0m\u001b[1;33m\u001b[0m\u001b[1;33m\u001b[0m\u001b[0m\n",
      "\u001b[1;32m~\\Anaconda3\\envs\\pytorch12\\lib\\site-packages\\torch\\nn\\modules\\rnn.py\u001b[0m in \u001b[0;36m__init__\u001b[1;34m(self, mode, input_size, hidden_size, num_layers, bias, batch_first, dropout, bidirectional)\u001b[0m\n\u001b[0;32m     88\u001b[0m         \u001b[0mself\u001b[0m\u001b[1;33m.\u001b[0m\u001b[0m_flat_weights\u001b[0m \u001b[1;33m=\u001b[0m \u001b[1;33m[\u001b[0m\u001b[0mgetattr\u001b[0m\u001b[1;33m(\u001b[0m\u001b[0mself\u001b[0m\u001b[1;33m,\u001b[0m \u001b[0mweight\u001b[0m\u001b[1;33m)\u001b[0m \u001b[1;32mfor\u001b[0m \u001b[0mweight\u001b[0m \u001b[1;32min\u001b[0m \u001b[0mself\u001b[0m\u001b[1;33m.\u001b[0m\u001b[0m_flat_weights_names\u001b[0m\u001b[1;33m]\u001b[0m\u001b[1;33m\u001b[0m\u001b[1;33m\u001b[0m\u001b[0m\n\u001b[0;32m     89\u001b[0m         \u001b[0mself\u001b[0m\u001b[1;33m.\u001b[0m\u001b[0mflatten_parameters\u001b[0m\u001b[1;33m(\u001b[0m\u001b[1;33m)\u001b[0m\u001b[1;33m\u001b[0m\u001b[1;33m\u001b[0m\u001b[0m\n\u001b[1;32m---> 90\u001b[1;33m         \u001b[0mself\u001b[0m\u001b[1;33m.\u001b[0m\u001b[0mreset_parameters\u001b[0m\u001b[1;33m(\u001b[0m\u001b[1;33m)\u001b[0m\u001b[1;33m\u001b[0m\u001b[1;33m\u001b[0m\u001b[0m\n\u001b[0m\u001b[0;32m     91\u001b[0m \u001b[1;33m\u001b[0m\u001b[0m\n\u001b[0;32m     92\u001b[0m     \u001b[1;32mdef\u001b[0m \u001b[0m__setattr__\u001b[0m\u001b[1;33m(\u001b[0m\u001b[0mself\u001b[0m\u001b[1;33m,\u001b[0m \u001b[0mattr\u001b[0m\u001b[1;33m,\u001b[0m \u001b[0mvalue\u001b[0m\u001b[1;33m)\u001b[0m\u001b[1;33m:\u001b[0m\u001b[1;33m\u001b[0m\u001b[1;33m\u001b[0m\u001b[0m\n",
      "\u001b[1;32m~\\Anaconda3\\envs\\pytorch12\\lib\\site-packages\\torch\\nn\\modules\\rnn.py\u001b[0m in \u001b[0;36mreset_parameters\u001b[1;34m(self)\u001b[0m\n\u001b[0;32m    145\u001b[0m         \u001b[0mstdv\u001b[0m \u001b[1;33m=\u001b[0m \u001b[1;36m1.0\u001b[0m \u001b[1;33m/\u001b[0m \u001b[0mmath\u001b[0m\u001b[1;33m.\u001b[0m\u001b[0msqrt\u001b[0m\u001b[1;33m(\u001b[0m\u001b[0mself\u001b[0m\u001b[1;33m.\u001b[0m\u001b[0mhidden_size\u001b[0m\u001b[1;33m)\u001b[0m\u001b[1;33m\u001b[0m\u001b[1;33m\u001b[0m\u001b[0m\n\u001b[0;32m    146\u001b[0m         \u001b[1;32mfor\u001b[0m \u001b[0mweight\u001b[0m \u001b[1;32min\u001b[0m \u001b[0mself\u001b[0m\u001b[1;33m.\u001b[0m\u001b[0mparameters\u001b[0m\u001b[1;33m(\u001b[0m\u001b[1;33m)\u001b[0m\u001b[1;33m:\u001b[0m\u001b[1;33m\u001b[0m\u001b[1;33m\u001b[0m\u001b[0m\n\u001b[1;32m--> 147\u001b[1;33m             \u001b[0minit\u001b[0m\u001b[1;33m.\u001b[0m\u001b[0muniform_\u001b[0m\u001b[1;33m(\u001b[0m\u001b[0mweight\u001b[0m\u001b[1;33m,\u001b[0m \u001b[1;33m-\u001b[0m\u001b[0mstdv\u001b[0m\u001b[1;33m,\u001b[0m \u001b[0mstdv\u001b[0m\u001b[1;33m)\u001b[0m\u001b[1;33m\u001b[0m\u001b[1;33m\u001b[0m\u001b[0m\n\u001b[0m\u001b[0;32m    148\u001b[0m \u001b[1;33m\u001b[0m\u001b[0m\n\u001b[0;32m    149\u001b[0m     \u001b[1;32mdef\u001b[0m \u001b[0mcheck_input\u001b[0m\u001b[1;33m(\u001b[0m\u001b[0mself\u001b[0m\u001b[1;33m,\u001b[0m \u001b[0minput\u001b[0m\u001b[1;33m,\u001b[0m \u001b[0mbatch_sizes\u001b[0m\u001b[1;33m)\u001b[0m\u001b[1;33m:\u001b[0m\u001b[1;33m\u001b[0m\u001b[1;33m\u001b[0m\u001b[0m\n",
      "\u001b[1;32m~\\Anaconda3\\envs\\pytorch12\\lib\\site-packages\\torch\\nn\\init.py\u001b[0m in \u001b[0;36muniform_\u001b[1;34m(tensor, a, b)\u001b[0m\n\u001b[0;32m     86\u001b[0m         \u001b[1;33m>>\u001b[0m\u001b[1;33m>\u001b[0m \u001b[0mnn\u001b[0m\u001b[1;33m.\u001b[0m\u001b[0minit\u001b[0m\u001b[1;33m.\u001b[0m\u001b[0muniform_\u001b[0m\u001b[1;33m(\u001b[0m\u001b[0mw\u001b[0m\u001b[1;33m)\u001b[0m\u001b[1;33m\u001b[0m\u001b[1;33m\u001b[0m\u001b[0m\n\u001b[0;32m     87\u001b[0m     \"\"\"\n\u001b[1;32m---> 88\u001b[1;33m     \u001b[1;32mreturn\u001b[0m \u001b[0m_no_grad_uniform_\u001b[0m\u001b[1;33m(\u001b[0m\u001b[0mtensor\u001b[0m\u001b[1;33m,\u001b[0m \u001b[0ma\u001b[0m\u001b[1;33m,\u001b[0m \u001b[0mb\u001b[0m\u001b[1;33m)\u001b[0m\u001b[1;33m\u001b[0m\u001b[1;33m\u001b[0m\u001b[0m\n\u001b[0m\u001b[0;32m     89\u001b[0m \u001b[1;33m\u001b[0m\u001b[0m\n\u001b[0;32m     90\u001b[0m \u001b[1;33m\u001b[0m\u001b[0m\n",
      "\u001b[1;32m~\\Anaconda3\\envs\\pytorch12\\lib\\site-packages\\torch\\nn\\init.py\u001b[0m in \u001b[0;36m_no_grad_uniform_\u001b[1;34m(tensor, a, b)\u001b[0m\n\u001b[0;32m     12\u001b[0m \u001b[1;32mdef\u001b[0m \u001b[0m_no_grad_uniform_\u001b[0m\u001b[1;33m(\u001b[0m\u001b[0mtensor\u001b[0m\u001b[1;33m,\u001b[0m \u001b[0ma\u001b[0m\u001b[1;33m,\u001b[0m \u001b[0mb\u001b[0m\u001b[1;33m)\u001b[0m\u001b[1;33m:\u001b[0m\u001b[1;33m\u001b[0m\u001b[1;33m\u001b[0m\u001b[0m\n\u001b[0;32m     13\u001b[0m     \u001b[1;32mwith\u001b[0m \u001b[0mtorch\u001b[0m\u001b[1;33m.\u001b[0m\u001b[0mno_grad\u001b[0m\u001b[1;33m(\u001b[0m\u001b[1;33m)\u001b[0m\u001b[1;33m:\u001b[0m\u001b[1;33m\u001b[0m\u001b[1;33m\u001b[0m\u001b[0m\n\u001b[1;32m---> 14\u001b[1;33m         \u001b[1;32mreturn\u001b[0m \u001b[0mtensor\u001b[0m\u001b[1;33m.\u001b[0m\u001b[0muniform_\u001b[0m\u001b[1;33m(\u001b[0m\u001b[0ma\u001b[0m\u001b[1;33m,\u001b[0m \u001b[0mb\u001b[0m\u001b[1;33m)\u001b[0m\u001b[1;33m\u001b[0m\u001b[1;33m\u001b[0m\u001b[0m\n\u001b[0m\u001b[0;32m     15\u001b[0m \u001b[1;33m\u001b[0m\u001b[0m\n\u001b[0;32m     16\u001b[0m \u001b[1;33m\u001b[0m\u001b[0m\n",
      "\u001b[1;31mKeyboardInterrupt\u001b[0m: "
     ]
    }
   ],
   "source": [
    "a, b = test_nomaml(epochs = 1,horizon = 1)"
   ]
  },
  {
   "cell_type": "code",
   "execution_count": null,
   "metadata": {},
   "outputs": [],
   "source": [
    "np.mean(b)"
   ]
  },
  {
   "cell_type": "code",
   "execution_count": 66,
   "metadata": {},
   "outputs": [
    {
     "name": "stdout",
     "output_type": "stream",
     "text": [
      "1\n",
      "0.001806072812149639\n",
      "2\n",
      "0.0015078166599414545\n",
      "3\n",
      "0.0015523086277244146\n",
      "4\n",
      "0.0014064609308754408\n",
      "5\n",
      "0.0014800881029686378\n",
      "6\n",
      "0.0012008423436782323\n",
      "7\n",
      "0.0012455583752550108\n",
      "8\n",
      "0.001292105744444901\n",
      "9\n",
      "0.0013390659284292876\n",
      "10\n",
      "0.0012608377601668992\n",
      "11\n",
      "0.001332059801225501\n",
      "12\n",
      "0.0013009250994586456\n",
      "13\n",
      "0.001240814114799318\n",
      "14\n",
      "0.0013276352422152463\n",
      "15\n",
      "0.0012122078533543068\n",
      "16\n",
      "0.0012228819894803207\n",
      "17\n",
      "0.0011818799420408059\n",
      "18\n",
      "0.0012156390297274231\n",
      "19\n",
      "0.0012277755666383944\n",
      "20\n",
      "0.001225514940906787\n",
      "21\n",
      "0.0012457935884193484\n",
      "22\n",
      "0.0012940212180329509\n",
      "23\n",
      "0.0012099292763132537\n",
      "24\n",
      "0.001287235589230942\n",
      "25\n",
      "0.0013089867702493554\n",
      "26\n",
      "0.0013685618746205278\n",
      "27\n",
      "0.0012986276944656015\n",
      "28\n",
      "0.001369022901895097\n",
      "29\n",
      "0.0013995217706402202\n"
     ]
    }
   ],
   "source": [
    "loss_hist_2 = []\n",
    "loss_hist_1 = []\n",
    "\n",
    "for i in range(1,30):\n",
    "    \n",
    "    a = test_nomaml(epochs = 1,horizon = i)\n",
    "    loss_hist_1.append(np.mean(a))\n",
    "    #loss_hist_2.append(np.mean(b))\n",
    "    print(i)\n",
    "    print(loss_hist_1[-1])"
   ]
  },
  {
   "cell_type": "code",
   "execution_count": 44,
   "metadata": {},
   "outputs": [
    {
     "data": {
      "text/plain": [
       "[<matplotlib.lines.Line2D at 0x26383c731c8>]"
      ]
     },
     "execution_count": 44,
     "metadata": {},
     "output_type": "execute_result"
    },
    {
     "data": {
      "image/png": "[encoded data removed]",
      "text/plain": [
       "<Figure size 432x288 with 1 Axes>"
      ]
     },
     "metadata": {
      "needs_background": "light"
     },
     "output_type": "display_data"
    }
   ],
   "source": [
    "plt.plot(loss_hist_1)"
   ]
  },
  {
   "cell_type": "code",
   "execution_count": 68,
   "metadata": {},
   "outputs": [],
   "source": [
    "import pandas as pd\n",
    "pd.DataFrame(loss_hist_1).to_csv(\"../../Results/nomaml_loss_list_horitzon_iter_1_battery.csv\")"
   ]
  },
  {
   "cell_type": "code",
   "execution_count": 11,
   "metadata": {},
   "outputs": [
    {
     "data": {
      "text/plain": [
       "[<matplotlib.lines.Line2D at 0x2490f758088>]"
      ]
     },
     "execution_count": 11,
     "metadata": {},
     "output_type": "execute_result"
    },
    {
     "data": {
      "image/png": "[encoded data removed]",
      "text/plain": [
       "<Figure size 432x288 with 1 Axes>"
      ]
     },
     "metadata": {
      "needs_background": "light"
     },
     "output_type": "display_data"
    }
   ],
   "source": [
    "plt.plot([0.08500496479365323,\n",
    " 0.06737132901137403,\n",
    " 0.06285849310416446,\n",
    " 0.06089185114061228,\n",
    " 0.06007222816436258,\n",
    " 0.059716195157797844])\n",
    "plt.plot(loss_hist)"
   ]
  },
  {
   "cell_type": "code",
   "execution_count": 65,
   "metadata": {},
   "outputs": [
    {
     "data": {
      "text/plain": [
       "[<matplotlib.lines.Line2D at 0x249285d0908>]"
      ]
     },
     "execution_count": 65,
     "metadata": {},
     "output_type": "execute_result"
    },
    {
     "data": {
      "image/png": "[encoded data removed]",
      "text/plain": [
       "<Figure size 432x288 with 1 Axes>"
      ]
     },
     "metadata": {
      "needs_background": "light"
     },
     "output_type": "display_data"
    }
   ],
   "source": [
    "plt.plot([np.mean(c)]+loss_hist_1)\n",
    "#plt.plot(loss_hist)"
   ]
  },
  {
   "cell_type": "code",
   "execution_count": 46,
   "metadata": {},
   "outputs": [
    {
     "data": {
      "text/plain": [
       "[0.04049041833259516,\n",
       " 0.04032006545457989,\n",
       " 0.04017948917925776,\n",
       " 0.04005817117780878,\n",
       " 0.039963478992255975,\n",
       " 0.039891795645353896]"
      ]
     },
     "execution_count": 46,
     "metadata": {},
     "output_type": "execute_result"
    }
   ],
   "source": [
    "[np.mean(d)]+loss_hist_2"
   ]
  },
  {
   "cell_type": "code",
   "execution_count": 47,
   "metadata": {},
   "outputs": [
    {
     "data": {
      "text/plain": [
       "[0.040746448149877615,\n",
       " 0.040759505361926796,\n",
       " 0.040732728911335676,\n",
       " 0.04072607707130869,\n",
       " 0.04073969797915494,\n",
       " 0.040768694153948855]"
      ]
     },
     "execution_count": 47,
     "metadata": {},
     "output_type": "execute_result"
    }
   ],
   "source": [
    "[np.mean(c)]+loss_hist_1"
   ]
  },
  {
   "cell_type": "code",
   "execution_count": 28,
   "metadata": {},
   "outputs": [
    {
     "data": {
      "text/plain": [
       "[0.07188001275062561,\n",
       " 0.07164141535758972,\n",
       " 0.07282017171382904,\n",
       " 0.07462943345308304,\n",
       " 0.07598571479320526,\n",
       " 0.07770521193742752]"
      ]
     },
     "execution_count": 28,
     "metadata": {},
     "output_type": "execute_result"
    }
   ],
   "source": [
    "loss_hist"
   ]
  },
  {
   "cell_type": "code",
   "execution_count": 13,
   "metadata": {},
   "outputs": [
    {
     "data": {
      "text/plain": [
       "[<matplotlib.lines.Line2D at 0x24922c00fc8>]"
      ]
     },
     "execution_count": 13,
     "metadata": {},
     "output_type": "execute_result"
    },
    {
     "data": {
      "image/png": "[encoded data removed]",
      "text/plain": [
       "<Figure size 432x288 with 1 Axes>"
      ]
     },
     "metadata": {
      "needs_background": "light"
     },
     "output_type": "display_data"
    }
   ],
   "source": [
    "plt.plot([0.08240097133183201,\n",
    " 0.07774591992872988,\n",
    " 0.0784311567704323,\n",
    " 0.08027829599520091,\n",
    " 0.08201548649288987,\n",
    " 0.08339315124056083])\n",
    "plt.plot(loss_hist)"
   ]
  },
  {
   "cell_type": "code",
   "execution_count": 40,
   "metadata": {},
   "outputs": [
    {
     "data": {
      "text/plain": [
       "[0.04080845043063164,\n",
       " 0.04059995338320732,\n",
       " 0.04090947285294533,\n",
       " 0.0414884127676487,\n",
       " 0.04212145879864693,\n",
       " 0.04266317933797836]"
      ]
     },
     "execution_count": 40,
     "metadata": {},
     "output_type": "execute_result"
    }
   ],
   "source": [
    "[0.04080845043063164,\n",
    " 0.04059995338320732,\n",
    " 0.04090947285294533,\n",
    " 0.0414884127676487,\n",
    " 0.04212145879864693,\n",
    " 0.04266317933797836]"
   ]
  },
  {
   "cell_type": "code",
   "execution_count": 48,
   "metadata": {},
   "outputs": [
    {
     "data": {
      "text/plain": [
       "[0.04080845043063164,\n",
       " 0.04059995338320732,\n",
       " 0.04090947285294533,\n",
       " 0.0414884127676487,\n",
       " 0.04212145879864693,\n",
       " 0.04266317933797836]"
      ]
     },
     "execution_count": 48,
     "metadata": {},
     "output_type": "execute_result"
    }
   ],
   "source": [
    "loss_hist"
   ]
  },
  {
   "cell_type": "code",
   "execution_count": 49,
   "metadata": {},
   "outputs": [
    {
     "data": {
      "text/plain": [
       "[<matplotlib.lines.Line2D at 0x24928458748>]"
      ]
     },
     "execution_count": 49,
     "metadata": {},
     "output_type": "execute_result"
    },
    {
     "data": {
      "image/png": "[encoded data removed]",
      "text/plain": [
       "<Figure size 432x288 with 1 Axes>"
      ]
     },
     "metadata": {
      "needs_background": "light"
     },
     "output_type": "display_data"
    }
   ],
   "source": [
    "import matplotlib.pyplot as plt\n",
    "plt.plot(loss_hist)\n",
    "plt.plot([np.mean(c)]+loss_hist_1)"
   ]
  },
  {
   "cell_type": "code",
   "execution_count": null,
   "metadata": {},
   "outputs": [],
   "source": []
  }
 ],
 "metadata": {
  "kernelspec": {
   "display_name": "Python 3",
   "language": "python",
   "name": "python3"
  },
  "language_info": {
   "codemirror_mode": {
    "name": "ipython",
    "version": 3
   },
   "file_extension": ".py",
   "mimetype": "text/x-python",
   "name": "python",
   "nbconvert_exporter": "python",
   "pygments_lexer": "ipython3",
   "version": "3.7.7"
  }
 },
 "nbformat": 4,
 "nbformat_minor": 4
}
