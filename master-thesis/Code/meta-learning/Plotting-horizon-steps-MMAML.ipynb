{
 "cells": [
  {
   "cell_type": "code",
   "execution_count": 43,
   "metadata": {},
   "outputs": [],
   "source": [
    "import learn2learn as l2l\n",
    "import numpy as np\n",
    "import matplotlib.pyplot as plt\n",
    "import torch\n",
    "import torch.nn as nn\n",
    "import torch.nn.functional as F\n",
    "import torch.optim as optim\n",
    "import pickle\n",
    "import sys\n",
    "import argparse\n",
    "import os\n",
    "from run_MAML_04 import test2 as test_maml\n",
    "from run_MMAML_04 import test as test_mmaml\n",
    "\n",
    "\n",
    "sys.path.insert(1, \"..\")\n",
    "\n",
    "from ts_dataset import TSDataset\n",
    "from base_models import LSTMModel, FCN\n",
    "from metrics import torch_mae as mae\n",
    "import copy\n",
    "from pytorchtools import EarlyStopping\n",
    "from eval_base_models import test, train, freeze_model\n",
    "from torch.utils.data import Dataset, DataLoader\n",
    "from ts_dataset import DomainTSDataset, SimpleDataset\n",
    "from multimodallearner import get_task_encoder_input\n",
    "from multimodallearner import LSTMDecoder, Lambda, MultimodalLearner\n",
    "from metalearner import MetaLearner\n",
    "from meta_base_models import LinearModel, Task"
   ]
  },
  {
   "cell_type": "markdown",
   "metadata": {},
   "source": [
    "## Horizon, Steps HR"
   ]
  },
  {
   "cell_type": "code",
   "execution_count": 44,
   "metadata": {},
   "outputs": [],
   "source": [
    "meta_info = {\"POLLUTION\": [5, 50, 14],\n",
    "             \"HR\": [32, 50, 13],\n",
    "             \"BATTERY\": [20, 50, 3] }\n",
    "\n",
    "\n",
    "\n",
    "\n",
    "output_directory = \"output/\"\n",
    "horizon = 10\n",
    "output_dim = 1\n",
    "\n",
    "dataset_name = \"HR\"\n",
    "save_model_file = \"model6.pt\"\n",
    "load_model_file = \"model6.pt\"\n",
    " #1 adaptation step\n",
    "experiment_id = \"10_COMPARISON_2\" #10 adaptation steps\n",
    "\n",
    "\n",
    "lower_trial = 0\n",
    "upper_trial = 3\n",
    "learning_rate = 0.01\n",
    "meta_learning_rate = 0.005\n",
    "adaptation_steps = 10\n",
    "batch_size = 20\n",
    "model_name = \"LSTM\"\n",
    "is_test = 1\n",
    "patience_stopping = 20\n",
    "epochs = 1000\n",
    "noise_level = 0.0\n",
    "noise_type = \"additive\"\n",
    "loss_fn = mae\n",
    "\n",
    "params = {'batch_size': batch_size,\n",
    "      'shuffle': True,\n",
    "      'num_workers': 0}\n",
    "\n",
    "\n",
    "\n",
    "window_size, task_size, input_dim = meta_info[dataset_name]\n",
    "grid = [0., noise_level]\n",
    "\n",
    "train_data = pickle.load(  open( \"../../Data/TRAIN-\"+dataset_name+\"-W\"+str(window_size)+\"-T\"+str(task_size)+\"-NOML.pickle\", \"rb\" ) )\n",
    "train_data_ML = pickle.load( open( \"../../Data/TRAIN-\"+dataset_name+\"-W\"+str(window_size)+\"-T\"+str(task_size)+\"-ML.pickle\", \"rb\" ) )\n",
    "validation_data = pickle.load( open( \"../../Data/VAL-\"+dataset_name+\"-W\"+str(window_size)+\"-T\"+str(task_size)+\"-NOML.pickle\", \"rb\" ) )\n",
    "validation_data_ML = pickle.load( open( \"../../Data/VAL-\"+dataset_name+\"-W\"+str(window_size)+\"-T\"+str(task_size)+\"-ML.pickle\", \"rb\" ) )\n",
    "test_data = pickle.load( open( \"../../Data/TEST-\"+dataset_name+\"-W\"+str(window_size)+\"-T\"+str(task_size)+\"-NOML.pickle\", \"rb\" ) )\n",
    "test_data_ML = pickle.load( open( \"../../Data/TEST-\"+dataset_name+\"-W\"+str(window_size)+\"-T\"+str(task_size)+\"-ML.pickle\", \"rb\" ) )"
   ]
  },
  {
   "cell_type": "code",
   "execution_count": 45,
   "metadata": {},
   "outputs": [],
   "source": [
    "##multimodal learner parameters\n",
    "# paramters wto increase capactiy of the model\n",
    "\n",
    "window_size, task_size, input_dim = meta_info[dataset_name]\n",
    "\n",
    "n_layers_task_net = 2\n",
    "n_layers_task_encoder = 1\n",
    "n_layers_task_decoder = 1\n",
    "\n",
    "hidden_dim_task_net = 120\n",
    "hidden_dim_encoder = 120\n",
    "hidden_dim_decoder = 120\n",
    "\n",
    "# fixed values\n",
    "input_dim_task_net = input_dim\n",
    "input_dim_task_encoder = input_dim + 1\n",
    "output_dim_task_net = 1\n",
    "output_dim_task_decoder = input_dim + 1\n",
    "output_dim = 1\n",
    "modulate_task_net = True\n",
    "\n",
    "\n",
    "device = torch.device(\"cuda:0\" if torch.cuda.is_available() else \"cpu\")\n",
    "\n",
    "\n",
    "task_net = LSTMModel(batch_size=batch_size,\n",
    "                     seq_len=window_size,\n",
    "                     input_dim=input_dim_task_net,\n",
    "                     n_layers=n_layers_task_net,\n",
    "                     hidden_dim=hidden_dim_task_net,\n",
    "                     output_dim=output_dim_task_net)\n",
    "\n",
    "task_encoder = LSTMModel(batch_size=batch_size,\n",
    "                         seq_len=task_size,\n",
    "                         input_dim=input_dim_task_encoder,\n",
    "                         n_layers=n_layers_task_encoder,\n",
    "                         hidden_dim=hidden_dim_encoder,\n",
    "                         output_dim=1)\n",
    "\n",
    "task_decoder = LSTMDecoder(batch_size=1,\n",
    "                           n_layers=n_layers_task_decoder,\n",
    "                           seq_len=task_size,\n",
    "                           output_dim=output_dim_task_decoder,\n",
    "                           hidden_dim=hidden_dim_encoder,\n",
    "                           latent_dim=hidden_dim_decoder,\n",
    "                           device=device)\n",
    "\n",
    "lmbd = Lambda(hidden_dim_encoder, hidden_dim_task_net)\n",
    "\n",
    "\n",
    "multimodal_learner = MultimodalLearner(task_net, task_encoder, task_decoder, lmbd, modulate_task_net)\n",
    "multimodal_learner.to(device)\n",
    "\n",
    "output_layer = nn.Linear(120, 1)\n",
    "output_layer.to(device)\n",
    "\n",
    "maml = l2l.algorithms.MAML(output_layer, lr=learning_rate, first_order=False)\n",
    "opt = optim.Adam(list(maml.parameters()) + list(multimodal_learner.parameters()), lr=meta_learning_rate)\n",
    "\n",
    "\n",
    "task_data_train = torch.FloatTensor(get_task_encoder_input(train_data_ML))\n",
    "task_data_validation = torch.FloatTensor(get_task_encoder_input(validation_data_ML))\n",
    "task_data_test = torch.FloatTensor(get_task_encoder_input(test_data_ML))\n"
   ]
  },
  {
   "cell_type": "code",
   "execution_count": 46,
   "metadata": {},
   "outputs": [
    {
     "name": "stdout",
     "output_type": "stream",
     "text": [
      "0\n",
      "1\n",
      "2\n",
      "3\n",
      "4\n",
      "0\n",
      "0\n",
      "1\n",
      "1\n",
      "2\n",
      "2\n",
      "3\n",
      "3\n",
      "4\n",
      "4\n"
     ]
    }
   ],
   "source": [
    "learning_rate = 0.01\n",
    "\n",
    "loss_hist_trials_horizon_1 = []\n",
    "loss_hist_trials_horizon_10 = []\n",
    "loss_hist_trials_step_1 = []\n",
    "loss_hist_trials_step_10 = []\n",
    "\n",
    "loss_fn = mae\n",
    "\n",
    "experiment_id = \"13_COMPARISON_2\"\n",
    "\n",
    "for trial in range(5):\n",
    "\n",
    "    \n",
    "    output_directory = \"../../Models/\"+dataset_name+\"_\"+model_name+\"_MMAML/\"+str(trial)+\"/\"\n",
    "    save_model_file_ = output_directory + experiment_id + \"_encoder_model.pt\"\n",
    "    save_model_file_2 = output_directory + experiment_id + \"_model.pt\"\n",
    "\n",
    "\n",
    "\n",
    "    multimodal_learner = MultimodalLearner(task_net, task_encoder, task_decoder, lmbd, modulate_task_net)\n",
    "    multimodal_learner.to(device)\n",
    "\n",
    "    output_layer = nn.Linear(120, 1)\n",
    "    output_layer.to(device)\n",
    "\n",
    "    maml = l2l.algorithms.MAML(output_layer, lr=learning_rate, first_order=False)\n",
    "    \n",
    "    \n",
    "    multimodal_learner.load_state_dict(torch.load(save_model_file_))\n",
    "    maml.load_state_dict(torch.load(save_model_file_2))\n",
    "    \n",
    "    print(trial)\n",
    "\n",
    "    loss_hist_test1 =[]\n",
    "    for adaptation_steps in range(0,11):\n",
    "        loss = test_mmaml(loss_fn, maml, multimodal_learner, task_data_test, dataset_name, test_data_ML, adaptation_steps, learning_rate, noise_level, noise_type,horizon=1)\n",
    "        loss_hist_test1.append(float(loss))\n",
    "        \n",
    "    loss_hist_test2 =[]\n",
    "    for horizon in range(1,11):\n",
    "        loss = test_mmaml(loss_fn, maml, multimodal_learner, task_data_test, dataset_name, test_data_ML, 1, learning_rate, noise_level, noise_type,horizon=horizon)        \n",
    "        loss_hist_test2.append(float(loss))\n",
    "\n",
    "        \n",
    "    loss_hist_trials_horizon_1.append(loss_hist_test1)\n",
    "    loss_hist_trials_step_1.append(loss_hist_test2)\n",
    "\n",
    "\n",
    "experiment_id = \"16_COMPARISON_2\"\n",
    "\n",
    "for trial in range(5):\n",
    "\n",
    "    print(trial)\n",
    "    output_directory = \"../../Models/\"+dataset_name+\"_\"+model_name+\"_MMAML/\"+str(trial)+\"/\"\n",
    "    save_model_file_ = output_directory + experiment_id + \"_encoder_model.pt\"\n",
    "    save_model_file_2 = output_directory + experiment_id + \"_model.pt\"\n",
    "\n",
    "\n",
    "    multimodal_learner = MultimodalLearner(task_net, task_encoder, task_decoder, lmbd, modulate_task_net)\n",
    "    multimodal_learner.to(device)\n",
    "\n",
    "    output_layer = nn.Linear(120, 1)\n",
    "    output_layer.to(device)\n",
    "\n",
    "    maml = l2l.algorithms.MAML(output_layer, lr=learning_rate, first_order=False)\n",
    "    \n",
    "    \n",
    "    multimodal_learner.load_state_dict(torch.load(save_model_file_))\n",
    "    maml.load_state_dict(torch.load(save_model_file_2))\n",
    "    \n",
    "    print(trial)\n",
    "\n",
    "    loss_hist_test1 =[]\n",
    "    for adaptation_steps in range(0,11):\n",
    "        loss = test_mmaml(loss_fn, maml, multimodal_learner, task_data_test, dataset_name, test_data_ML, adaptation_steps, learning_rate, noise_level, noise_type,horizon=1)\n",
    "        loss_hist_test1.append(float(loss))\n",
    "        \n",
    "    loss_hist_test2 =[]\n",
    "    for horizon in range(1,11):\n",
    "        loss = test_mmaml(loss_fn, maml, multimodal_learner, task_data_test, dataset_name, test_data_ML, 10, learning_rate, noise_level, noise_type,horizon=horizon)        \n",
    "        loss_hist_test2.append(float(loss))\n",
    "\n",
    "        \n",
    "        \n",
    "    loss_hist_trials_horizon_10.append(loss_hist_test1) \n",
    "    loss_hist_trials_step_10.append(loss_hist_test2)\n"
   ]
  },
  {
   "cell_type": "code",
   "execution_count": 47,
   "metadata": {},
   "outputs": [],
   "source": [
    "np.save( \"../../Results/npy_objects/graphs_MMAML_horizon_10_\"+dataset_name+\".npy\", loss_hist_trials_horizon_10)\n",
    "np.save( \"../../Results/npy_objects/graphs_MMAML_horizon_1_\"+dataset_name+\".npy\", loss_hist_trials_horizon_1)\n",
    "np.save( \"../../Results/npy_objects/graphs_MMAML_step_10_\"+dataset_name+\".npy\", loss_hist_trials_step_10)\n",
    "np.save( \"../../Results/npy_objects/graphs_MMAML_step_1_\"+dataset_name+\".npy\", loss_hist_trials_step_1)"
   ]
  },
  {
   "cell_type": "code",
   "execution_count": 48,
   "metadata": {},
   "outputs": [
    {
     "data": {
      "text/plain": [
       "[<matplotlib.lines.Line2D at 0x1aa00361648>]"
      ]
     },
     "execution_count": 48,
     "metadata": {},
     "output_type": "execute_result"
    },
    {
     "data": {
      "image/png": "[encoded data removed]",
      "text/plain": [
       "<Figure size 432x288 with 1 Axes>"
      ]
     },
     "metadata": {
      "needs_background": "light"
     },
     "output_type": "display_data"
    }
   ],
   "source": [
    "x = np.array(loss_hist_trials_step_1)\n",
    "m = np.mean(x, axis=0)\n",
    "plt.plot(m)"
   ]
  },
  {
   "cell_type": "code",
   "execution_count": 49,
   "metadata": {},
   "outputs": [
    {
     "data": {
      "text/plain": [
       "Text(0.5, 1.0, 'Horizon 1')"
      ]
     },
     "execution_count": 49,
     "metadata": {},
     "output_type": "execute_result"
    },
    {
     "data": {
      "image/png": "[encoded data removed]",
      "text/plain": [
       "<Figure size 432x288 with 1 Axes>"
      ]
     },
     "metadata": {
      "needs_background": "light"
     },
     "output_type": "display_data"
    }
   ],
   "source": [
    "x = np.array(loss_hist_trials_horizon_1)\n",
    "m = np.mean(x, axis=0)\n",
    "plt.plot(m)\n",
    "plt.xlabel(\"Steps\")\n",
    "plt.title(\"Horizon 1\")\n"
   ]
  },
  {
   "cell_type": "code",
   "execution_count": 50,
   "metadata": {},
   "outputs": [
    {
     "data": {
      "text/plain": [
       "Text(0.5, 1.0, '10 Steps')"
      ]
     },
     "execution_count": 50,
     "metadata": {},
     "output_type": "execute_result"
    },
    {
     "data": {
      "image/png": "[encoded data removed]",
      "text/plain": [
       "<Figure size 432x288 with 1 Axes>"
      ]
     },
     "metadata": {
      "needs_background": "light"
     },
     "output_type": "display_data"
    }
   ],
   "source": [
    "x = np.array(loss_hist_trials_step_10)\n",
    "m = np.mean(x, axis=0)\n",
    "plt.plot(m)\n",
    "plt.xlabel(\"Horizon\")\n",
    "plt.title(\"10 Steps\")"
   ]
  },
  {
   "cell_type": "code",
   "execution_count": 51,
   "metadata": {},
   "outputs": [
    {
     "data": {
      "text/plain": [
       "Text(0.5, 1.0, 'Horizon 10')"
      ]
     },
     "execution_count": 51,
     "metadata": {},
     "output_type": "execute_result"
    },
    {
     "data": {
      "image/png": "[encoded data removed]",
      "text/plain": [
       "<Figure size 432x288 with 1 Axes>"
      ]
     },
     "metadata": {
      "needs_background": "light"
     },
     "output_type": "display_data"
    }
   ],
   "source": [
    "x = np.array(loss_hist_trials_horizon_10)\n",
    "m = np.mean(x, axis=0)\n",
    "plt.plot(m)\n",
    "plt.xlabel(\"Steps\")\n",
    "plt.title(\"Horizon 10\")"
   ]
  },
  {
   "cell_type": "markdown",
   "metadata": {},
   "source": [
    "## Horizon, Steps Battery"
   ]
  },
  {
   "cell_type": "code",
   "execution_count": 52,
   "metadata": {},
   "outputs": [],
   "source": [
    "##multimodal learner parameters\n",
    "# paramters wto increase capactiy of the model\n",
    "dataset_name = \"BATTERY\"\n",
    "\n",
    "window_size, task_size, input_dim = meta_info[dataset_name]\n",
    "\n",
    "train_data = pickle.load(  open( \"../../Data/TRAIN-\"+dataset_name+\"-W\"+str(window_size)+\"-T\"+str(task_size)+\"-NOML.pickle\", \"rb\" ) )\n",
    "train_data_ML = pickle.load( open( \"../../Data/TRAIN-\"+dataset_name+\"-W\"+str(window_size)+\"-T\"+str(task_size)+\"-ML.pickle\", \"rb\" ) )\n",
    "validation_data = pickle.load( open( \"../../Data/VAL-\"+dataset_name+\"-W\"+str(window_size)+\"-T\"+str(task_size)+\"-NOML.pickle\", \"rb\" ) )\n",
    "validation_data_ML = pickle.load( open( \"../../Data/VAL-\"+dataset_name+\"-W\"+str(window_size)+\"-T\"+str(task_size)+\"-ML.pickle\", \"rb\" ) )\n",
    "test_data = pickle.load( open( \"../../Data/TEST-\"+dataset_name+\"-W\"+str(window_size)+\"-T\"+str(task_size)+\"-NOML.pickle\", \"rb\" ) )\n",
    "test_data_ML = pickle.load( open( \"../../Data/TEST-\"+dataset_name+\"-W\"+str(window_size)+\"-T\"+str(task_size)+\"-ML.pickle\", \"rb\" ) )\n",
    "\n",
    "\n",
    "n_layers_task_net = 2\n",
    "n_layers_task_encoder = 1\n",
    "n_layers_task_decoder = 1\n",
    "\n",
    "hidden_dim_task_net = 120\n",
    "hidden_dim_encoder = 120\n",
    "hidden_dim_decoder = 120\n",
    "\n",
    "# fixed values\n",
    "input_dim_task_net = input_dim\n",
    "input_dim_task_encoder = input_dim + 1\n",
    "output_dim_task_net = 1\n",
    "output_dim_task_decoder = input_dim + 1\n",
    "output_dim = 1\n",
    "modulate_task_net = True\n",
    "\n",
    "\n",
    "\n",
    "device = torch.device(\"cuda:0\" if torch.cuda.is_available() else \"cpu\")\n",
    "\n",
    "\n",
    "task_net = LSTMModel(batch_size=batch_size,\n",
    "                     seq_len=window_size,\n",
    "                     input_dim=input_dim_task_net,\n",
    "                     n_layers=n_layers_task_net,\n",
    "                     hidden_dim=hidden_dim_task_net,\n",
    "                     output_dim=output_dim_task_net)\n",
    "\n",
    "task_encoder = LSTMModel(batch_size=batch_size,\n",
    "                         seq_len=task_size,\n",
    "                         input_dim=input_dim_task_encoder,\n",
    "                         n_layers=n_layers_task_encoder,\n",
    "                         hidden_dim=hidden_dim_encoder,\n",
    "                         output_dim=1)\n",
    "\n",
    "task_decoder = LSTMDecoder(batch_size=1,\n",
    "                           n_layers=n_layers_task_decoder,\n",
    "                           seq_len=task_size,\n",
    "                           output_dim=output_dim_task_decoder,\n",
    "                           hidden_dim=hidden_dim_encoder,\n",
    "                           latent_dim=hidden_dim_decoder,\n",
    "                           device=device)\n",
    "\n",
    "lmbd = Lambda(hidden_dim_encoder, hidden_dim_task_net)\n",
    "\n",
    "\n",
    "multimodal_learner = MultimodalLearner(task_net, task_encoder, task_decoder, lmbd, modulate_task_net)\n",
    "multimodal_learner.to(device)\n",
    "\n",
    "output_layer = nn.Linear(120, 1)\n",
    "output_layer.to(device)\n",
    "\n",
    "maml = l2l.algorithms.MAML(output_layer, lr=learning_rate, first_order=False)\n",
    "opt = optim.Adam(list(maml.parameters()) + list(multimodal_learner.parameters()), lr=meta_learning_rate)\n",
    "\n",
    "\n",
    "task_data_train = torch.FloatTensor(get_task_encoder_input(train_data_ML))\n",
    "task_data_validation = torch.FloatTensor(get_task_encoder_input(validation_data_ML))\n",
    "task_data_test = torch.FloatTensor(get_task_encoder_input(test_data_ML))\n"
   ]
  },
  {
   "cell_type": "code",
   "execution_count": 53,
   "metadata": {},
   "outputs": [
    {
     "name": "stdout",
     "output_type": "stream",
     "text": [
      "0\n",
      "1\n",
      "2\n",
      "0\n",
      "0\n",
      "1\n",
      "1\n",
      "2\n",
      "2\n"
     ]
    }
   ],
   "source": [
    "\n",
    "learning_rate = 0.0001\n",
    "\n",
    "\n",
    "loss_hist_trials_horizon_1 = []\n",
    "loss_hist_trials_horizon_10 = []\n",
    "loss_hist_trials_step_1 = []\n",
    "loss_hist_trials_step_10 = []\n",
    "\n",
    "loss_fn = mae\n",
    "\n",
    "experiment_id = \"21_COMPARISON\"\n",
    "\n",
    "for trial in range(3):\n",
    "\n",
    "    \n",
    "    output_directory = \"../../Models/\"+dataset_name+\"_\"+model_name+\"_MMAML/\"+str(trial)+\"/\"\n",
    "    save_model_file_ = output_directory + experiment_id + \"_encoder_model.pt\"\n",
    "    save_model_file_2 = output_directory + experiment_id + \"_model.pt\"\n",
    "\n",
    "\n",
    "\n",
    "    multimodal_learner = MultimodalLearner(task_net, task_encoder, task_decoder, lmbd, modulate_task_net)\n",
    "    multimodal_learner.to(device)\n",
    "\n",
    "    output_layer = nn.Linear(120, 1)\n",
    "    output_layer.to(device)\n",
    "\n",
    "    maml = l2l.algorithms.MAML(output_layer, lr=learning_rate, first_order=False)\n",
    "    \n",
    "    \n",
    "    multimodal_learner.load_state_dict(torch.load(save_model_file_))\n",
    "    maml.load_state_dict(torch.load(save_model_file_2))\n",
    "    \n",
    "    print(trial)\n",
    "\n",
    "    loss_hist_test1 =[]\n",
    "    for adaptation_steps in range(0,11):\n",
    "        loss = test_mmaml(loss_fn, maml, multimodal_learner, task_data_test, dataset_name, test_data_ML, adaptation_steps, learning_rate, noise_level, noise_type,horizon=1)\n",
    "        loss_hist_test1.append(float(loss))\n",
    "        \n",
    "    loss_hist_test2 =[]\n",
    "    for horizon in range(1,11):\n",
    "        loss = test_mmaml(loss_fn, maml, multimodal_learner, task_data_test, dataset_name, test_data_ML, 1, learning_rate, noise_level, noise_type,horizon=horizon)        \n",
    "        loss_hist_test2.append(float(loss))\n",
    "\n",
    "        \n",
    "    loss_hist_trials_horizon_1.append(loss_hist_test1)\n",
    "    loss_hist_trials_step_1.append(loss_hist_test2)\n",
    "\n",
    "\n",
    "experiment_id = \"30_COMPARISON_3\"\n",
    "\n",
    "for trial in range(3):\n",
    "\n",
    "    print(trial)\n",
    "    output_directory = \"../../Models/\"+dataset_name+\"_\"+model_name+\"_MMAML/\"+str(trial)+\"/\"\n",
    "    save_model_file_ = output_directory + experiment_id + \"_encoder_model.pt\"\n",
    "    save_model_file_2 = output_directory + experiment_id + \"_model.pt\"\n",
    "\n",
    "\n",
    "    multimodal_learner = MultimodalLearner(task_net, task_encoder, task_decoder, lmbd, modulate_task_net)\n",
    "    multimodal_learner.to(device)\n",
    "\n",
    "    output_layer = nn.Linear(120, 1)\n",
    "    output_layer.to(device)\n",
    "\n",
    "    maml = l2l.algorithms.MAML(output_layer, lr=learning_rate, first_order=False)\n",
    "    \n",
    "    \n",
    "    multimodal_learner.load_state_dict(torch.load(save_model_file_))\n",
    "    maml.load_state_dict(torch.load(save_model_file_2))\n",
    "    \n",
    "    print(trial)\n",
    "\n",
    "    loss_hist_test1 =[]\n",
    "    for adaptation_steps in range(0,11):\n",
    "        loss = test_mmaml(loss_fn, maml, multimodal_learner, task_data_test, dataset_name, test_data_ML, adaptation_steps, learning_rate, noise_level, noise_type,horizon=1)\n",
    "        loss_hist_test1.append(float(loss))\n",
    "        \n",
    "    loss_hist_test2 =[]\n",
    "    for horizon in range(1,11):\n",
    "        loss = test_mmaml(loss_fn, maml, multimodal_learner, task_data_test, dataset_name, test_data_ML, 10, learning_rate, noise_level, noise_type,horizon=horizon)        \n",
    "        loss_hist_test2.append(float(loss))\n",
    "\n",
    "        \n",
    "        \n",
    "    loss_hist_trials_horizon_10.append(loss_hist_test1) \n",
    "    loss_hist_trials_step_10.append(loss_hist_test2)\n"
   ]
  },
  {
   "cell_type": "code",
   "execution_count": 54,
   "metadata": {},
   "outputs": [],
   "source": [
    "np.save( \"../../Results/npy_objects/graphs_MMAML_horizon_10_\"+dataset_name+\".npy\", loss_hist_trials_horizon_10)\n",
    "np.save( \"../../Results/npy_objects/graphs_MMAML_horizon_1_\"+dataset_name+\".npy\", loss_hist_trials_horizon_1)\n",
    "np.save( \"../../Results/npy_objects/graphs_MMAML_step_10_\"+dataset_name+\".npy\", loss_hist_trials_step_10)\n",
    "np.save( \"../../Results/npy_objects/graphs_MMAML_step_1_\"+dataset_name+\".npy\", loss_hist_trials_step_1)"
   ]
  },
  {
   "cell_type": "code",
   "execution_count": 55,
   "metadata": {},
   "outputs": [
    {
     "data": {
      "text/plain": [
       "Text(0.5, 0, 'Horizon')"
      ]
     },
     "execution_count": 55,
     "metadata": {},
     "output_type": "execute_result"
    },
    {
     "data": {
      "image/png": "[encoded data removed]",
      "text/plain": [
       "<Figure size 432x288 with 1 Axes>"
      ]
     },
     "metadata": {
      "needs_background": "light"
     },
     "output_type": "display_data"
    }
   ],
   "source": [
    "x = np.array(loss_hist_trials_step_1)\n",
    "m = np.mean(x, axis=0)\n",
    "plt.plot(m)\n",
    "plt.title(\"Step 1\")\n",
    "plt.xlabel(\"Horizon\")"
   ]
  },
  {
   "cell_type": "code",
   "execution_count": 56,
   "metadata": {},
   "outputs": [
    {
     "data": {
      "text/plain": [
       "Text(0.5, 1.0, 'Horizon 1')"
      ]
     },
     "execution_count": 56,
     "metadata": {},
     "output_type": "execute_result"
    },
    {
     "data": {
      "image/png": "[encoded data removed]",
      "text/plain": [
       "<Figure size 432x288 with 1 Axes>"
      ]
     },
     "metadata": {
      "needs_background": "light"
     },
     "output_type": "display_data"
    }
   ],
   "source": [
    "x = np.array(loss_hist_trials_horizon_1)\n",
    "m = np.mean(x, axis=0)\n",
    "plt.plot(m)\n",
    "plt.xlabel(\"Steps\")\n",
    "plt.title(\"Horizon 1\")\n"
   ]
  },
  {
   "cell_type": "code",
   "execution_count": 57,
   "metadata": {},
   "outputs": [
    {
     "data": {
      "text/plain": [
       "Text(0.5, 1.0, '10 Steps')"
      ]
     },
     "execution_count": 57,
     "metadata": {},
     "output_type": "execute_result"
    },
    {
     "data": {
      "image/png": "[encoded data removed]",
      "text/plain": [
       "<Figure size 432x288 with 1 Axes>"
      ]
     },
     "metadata": {
      "needs_background": "light"
     },
     "output_type": "display_data"
    }
   ],
   "source": [
    "x = np.array(loss_hist_trials_step_10)\n",
    "m = np.mean(x, axis=0)\n",
    "plt.plot(m)\n",
    "plt.xlabel(\"Horizon\")\n",
    "plt.title(\"10 Steps\")"
   ]
  },
  {
   "cell_type": "code",
   "execution_count": 58,
   "metadata": {},
   "outputs": [
    {
     "data": {
      "text/plain": [
       "Text(0.5, 1.0, 'Horizon 10')"
      ]
     },
     "execution_count": 58,
     "metadata": {},
     "output_type": "execute_result"
    },
    {
     "data": {
      "image/png": "[encoded data removed]",
      "text/plain": [
       "<Figure size 432x288 with 1 Axes>"
      ]
     },
     "metadata": {
      "needs_background": "light"
     },
     "output_type": "display_data"
    }
   ],
   "source": [
    "x = np.array(loss_hist_trials_horizon_10)\n",
    "m = np.mean(x, axis=0)\n",
    "plt.plot(m)\n",
    "plt.xlabel(\"Steps\")\n",
    "plt.title(\"Horizon 10\")"
   ]
  },
  {
   "cell_type": "markdown",
   "metadata": {},
   "source": [
    "## Horizon, Steps Pollution"
   ]
  },
  {
   "cell_type": "code",
   "execution_count": 59,
   "metadata": {},
   "outputs": [],
   "source": [
    "##multimodal learner parameters\n",
    "# paramters wto increase capactiy of the model\n",
    "\n",
    "dataset_name = \"POLLUTION\"\n",
    "window_size, task_size, input_dim = meta_info[dataset_name]\n",
    "\n",
    "train_data = pickle.load(  open( \"../../Data/TRAIN-\"+dataset_name+\"-W\"+str(window_size)+\"-T\"+str(task_size)+\"-NOML.pickle\", \"rb\" ) )\n",
    "train_data_ML = pickle.load( open( \"../../Data/TRAIN-\"+dataset_name+\"-W\"+str(window_size)+\"-T\"+str(task_size)+\"-ML.pickle\", \"rb\" ) )\n",
    "validation_data = pickle.load( open( \"../../Data/VAL-\"+dataset_name+\"-W\"+str(window_size)+\"-T\"+str(task_size)+\"-NOML.pickle\", \"rb\" ) )\n",
    "validation_data_ML = pickle.load( open( \"../../Data/VAL-\"+dataset_name+\"-W\"+str(window_size)+\"-T\"+str(task_size)+\"-ML.pickle\", \"rb\" ) )\n",
    "test_data = pickle.load( open( \"../../Data/TEST-\"+dataset_name+\"-W\"+str(window_size)+\"-T\"+str(task_size)+\"-NOML.pickle\", \"rb\" ) )\n",
    "test_data_ML = pickle.load( open( \"../../Data/TEST-\"+dataset_name+\"-W\"+str(window_size)+\"-T\"+str(task_size)+\"-ML.pickle\", \"rb\" ) )\n",
    "\n",
    "n_layers_task_net = 2\n",
    "n_layers_task_encoder = 1\n",
    "n_layers_task_decoder = 1\n",
    "\n",
    "hidden_dim_task_net = 120\n",
    "hidden_dim_encoder = 120\n",
    "hidden_dim_decoder = 120\n",
    "\n",
    "# fixed values\n",
    "input_dim_task_net = input_dim\n",
    "input_dim_task_encoder = input_dim + 1\n",
    "output_dim_task_net = 1\n",
    "output_dim_task_decoder = input_dim + 1\n",
    "output_dim = 1\n",
    "modulate_task_net = True\n",
    "\n",
    "device = torch.device(\"cuda:0\" if torch.cuda.is_available() else \"cpu\")\n",
    "\n",
    "\n",
    "task_net = LSTMModel(batch_size=batch_size,\n",
    "                     seq_len=window_size,\n",
    "                     input_dim=input_dim_task_net,\n",
    "                     n_layers=n_layers_task_net,\n",
    "                     hidden_dim=hidden_dim_task_net,\n",
    "                     output_dim=output_dim_task_net)\n",
    "\n",
    "task_encoder = LSTMModel(batch_size=batch_size,\n",
    "                         seq_len=task_size,\n",
    "                         input_dim=input_dim_task_encoder,\n",
    "                         n_layers=n_layers_task_encoder,\n",
    "                         hidden_dim=hidden_dim_encoder,\n",
    "                         output_dim=1)\n",
    "\n",
    "task_decoder = LSTMDecoder(batch_size=1,\n",
    "                           n_layers=n_layers_task_decoder,\n",
    "                           seq_len=task_size,\n",
    "                           output_dim=output_dim_task_decoder,\n",
    "                           hidden_dim=hidden_dim_encoder,\n",
    "                           latent_dim=hidden_dim_decoder,\n",
    "                           device=device)\n",
    "\n",
    "lmbd = Lambda(hidden_dim_encoder, hidden_dim_task_net)\n",
    "\n",
    "\n",
    "multimodal_learner = MultimodalLearner(task_net, task_encoder, task_decoder, lmbd, modulate_task_net)\n",
    "multimodal_learner.to(device)\n",
    "\n",
    "output_layer = nn.Linear(120, 1)\n",
    "output_layer.to(device)\n",
    "\n",
    "maml = l2l.algorithms.MAML(output_layer, lr=learning_rate, first_order=False)\n",
    "opt = optim.Adam(list(maml.parameters()) + list(multimodal_learner.parameters()), lr=meta_learning_rate)\n",
    "\n",
    "\n",
    "task_data_train = torch.FloatTensor(get_task_encoder_input(train_data_ML))\n",
    "task_data_validation = torch.FloatTensor(get_task_encoder_input(validation_data_ML))\n",
    "task_data_test = torch.FloatTensor(get_task_encoder_input(test_data_ML))\n"
   ]
  },
  {
   "cell_type": "code",
   "execution_count": 60,
   "metadata": {},
   "outputs": [
    {
     "name": "stdout",
     "output_type": "stream",
     "text": [
      "0\n",
      "1\n",
      "2\n",
      "3\n",
      "4\n",
      "0\n",
      "0\n",
      "1\n",
      "1\n",
      "2\n",
      "2\n",
      "3\n",
      "3\n",
      "4\n",
      "4\n"
     ]
    }
   ],
   "source": [
    "\n",
    "learning_rate = 0.01\n",
    "\n",
    "\n",
    "\n",
    "loss_hist_trials_horizon_1 = []\n",
    "loss_hist_trials_horizon_10 = []\n",
    "loss_hist_trials_step_1 = []\n",
    "loss_hist_trials_step_10 = []\n",
    "\n",
    "loss_fn = mae\n",
    "\n",
    "experiment_id = \"5_COMPARISON_2\"\n",
    "\n",
    "for trial in range(5):\n",
    "\n",
    "    \n",
    "    output_directory = \"../../Models/\"+dataset_name+\"_\"+model_name+\"_MMAML/\"+str(trial)+\"/\"\n",
    "    save_model_file_ = output_directory + experiment_id + \"_encoder_model.pt\"\n",
    "    save_model_file_2 = output_directory + experiment_id + \"_model.pt\"\n",
    "\n",
    "\n",
    "\n",
    "    multimodal_learner = MultimodalLearner(task_net, task_encoder, task_decoder, lmbd, modulate_task_net)\n",
    "    multimodal_learner.to(device)\n",
    "\n",
    "    output_layer = nn.Linear(120, 1)\n",
    "    output_layer.to(device)\n",
    "\n",
    "    maml = l2l.algorithms.MAML(output_layer, lr=learning_rate, first_order=False)\n",
    "    \n",
    "    \n",
    "    multimodal_learner.load_state_dict(torch.load(save_model_file_))\n",
    "    maml.load_state_dict(torch.load(save_model_file_2))\n",
    "    \n",
    "    print(trial)\n",
    "\n",
    "    loss_hist_test1 =[]\n",
    "    for adaptation_steps in range(0,11):\n",
    "        loss = test_mmaml(loss_fn, maml, multimodal_learner, task_data_test, dataset_name, test_data_ML, adaptation_steps, learning_rate, noise_level, noise_type,horizon=1)\n",
    "        loss_hist_test1.append(float(loss))\n",
    "        \n",
    "    loss_hist_test2 =[]\n",
    "    for horizon in range(1,11):\n",
    "        loss = test_mmaml(loss_fn, maml, multimodal_learner, task_data_test, dataset_name, test_data_ML, 1, learning_rate, noise_level, noise_type,horizon=horizon)        \n",
    "        loss_hist_test2.append(float(loss))\n",
    "\n",
    "        \n",
    "    loss_hist_trials_horizon_1.append(loss_hist_test1)\n",
    "    loss_hist_trials_step_1.append(loss_hist_test2)\n",
    "\n",
    "\n",
    "experiment_id = \"6_COMPARISON_2\"\n",
    "learing_rate = 0.001\n",
    "for trial in range(5):\n",
    "\n",
    "    print(trial)\n",
    "    output_directory = \"../../Models/\"+dataset_name+\"_\"+model_name+\"_MMAML/\"+str(trial)+\"/\"\n",
    "    save_model_file_ = output_directory + experiment_id + \"_encoder_model.pt\"\n",
    "    save_model_file_2 = output_directory + experiment_id + \"_model.pt\"\n",
    "\n",
    "\n",
    "    multimodal_learner = MultimodalLearner(task_net, task_encoder, task_decoder, lmbd, modulate_task_net)\n",
    "    multimodal_learner.to(device)\n",
    "\n",
    "    output_layer = nn.Linear(120, 1)\n",
    "    output_layer.to(device)\n",
    "\n",
    "    maml = l2l.algorithms.MAML(output_layer, lr=learning_rate, first_order=False)\n",
    "    \n",
    "    \n",
    "    multimodal_learner.load_state_dict(torch.load(save_model_file_))\n",
    "    maml.load_state_dict(torch.load(save_model_file_2))\n",
    "    \n",
    "    print(trial)\n",
    "\n",
    "    loss_hist_test1 =[]\n",
    "    for adaptation_steps in range(0,11):\n",
    "        loss = test_mmaml(loss_fn, maml, multimodal_learner, task_data_test, dataset_name, test_data_ML, adaptation_steps, learning_rate, noise_level, noise_type,horizon=1)\n",
    "        loss_hist_test1.append(float(loss))\n",
    "        \n",
    "    loss_hist_test2 =[]\n",
    "    for horizon in range(1,11):\n",
    "        loss = test_mmaml(loss_fn, maml, multimodal_learner, task_data_test, dataset_name, test_data_ML, 10, learning_rate, noise_level, noise_type,horizon=horizon)        \n",
    "        loss_hist_test2.append(float(loss))\n",
    "\n",
    "        \n",
    "        \n",
    "    loss_hist_trials_horizon_10.append(loss_hist_test1) \n",
    "    loss_hist_trials_step_10.append(loss_hist_test2)\n"
   ]
  },
  {
   "cell_type": "code",
   "execution_count": 61,
   "metadata": {},
   "outputs": [],
   "source": [
    "np.save( \"../../Results/npy_objects/graphs_MMAML_horizon_10_\"+dataset_name+\".npy\", loss_hist_trials_horizon_10)\n",
    "np.save( \"../../Results/npy_objects/graphs_MMAML_horizon_1_\"+dataset_name+\".npy\", loss_hist_trials_horizon_1)\n",
    "np.save( \"../../Results/npy_objects/graphs_MMAML_step_10_\"+dataset_name+\".npy\", loss_hist_trials_step_10)\n",
    "np.save( \"../../Results/npy_objects/graphs_MMAML_step_1_\"+dataset_name+\".npy\", loss_hist_trials_step_1)"
   ]
  },
  {
   "cell_type": "code",
   "execution_count": 62,
   "metadata": {},
   "outputs": [
    {
     "data": {
      "text/plain": [
       "Text(0.5, 0, 'Horizon')"
      ]
     },
     "execution_count": 62,
     "metadata": {},
     "output_type": "execute_result"
    },
    {
     "data": {
      "image/png": "[encoded data removed]",
      "text/plain": [
       "<Figure size 432x288 with 1 Axes>"
      ]
     },
     "metadata": {
      "needs_background": "light"
     },
     "output_type": "display_data"
    }
   ],
   "source": [
    "x = np.array(loss_hist_trials_step_1)\n",
    "m = np.mean(x, axis=0)\n",
    "plt.plot(m)\n",
    "plt.title(\"Step 1\")\n",
    "plt.xlabel(\"Horizon\")"
   ]
  },
  {
   "cell_type": "code",
   "execution_count": 63,
   "metadata": {},
   "outputs": [
    {
     "data": {
      "text/plain": [
       "Text(0.5, 1.0, 'Horizon 1')"
      ]
     },
     "execution_count": 63,
     "metadata": {},
     "output_type": "execute_result"
    },
    {
     "data": {
      "image/png": "[encoded data removed]",
      "text/plain": [
       "<Figure size 432x288 with 1 Axes>"
      ]
     },
     "metadata": {
      "needs_background": "light"
     },
     "output_type": "display_data"
    }
   ],
   "source": [
    "x = np.array(loss_hist_trials_horizon_1)\n",
    "m = np.mean(x, axis=0)\n",
    "plt.plot(m)\n",
    "plt.xlabel(\"Steps\")\n",
    "plt.title(\"Horizon 1\")\n"
   ]
  },
  {
   "cell_type": "code",
   "execution_count": 64,
   "metadata": {},
   "outputs": [
    {
     "data": {
      "text/plain": [
       "Text(0.5, 1.0, '10 Steps')"
      ]
     },
     "execution_count": 64,
     "metadata": {},
     "output_type": "execute_result"
    },
    {
     "data": {
      "image/png": "[encoded data removed]",
      "text/plain": [
       "<Figure size 432x288 with 1 Axes>"
      ]
     },
     "metadata": {
      "needs_background": "light"
     },
     "output_type": "display_data"
    }
   ],
   "source": [
    "x = np.array(loss_hist_trials_step_10)\n",
    "m = np.mean(x, axis=0)\n",
    "plt.plot(m)\n",
    "plt.xlabel(\"Horizon\")\n",
    "plt.title(\"10 Steps\")"
   ]
  },
  {
   "cell_type": "code",
   "execution_count": 65,
   "metadata": {},
   "outputs": [
    {
     "data": {
      "text/plain": [
       "Text(0.5, 1.0, 'Horizon 10')"
      ]
     },
     "execution_count": 65,
     "metadata": {},
     "output_type": "execute_result"
    },
    {
     "data": {
      "image/png": "[encoded data removed]",
      "text/plain": [
       "<Figure size 432x288 with 1 Axes>"
      ]
     },
     "metadata": {
      "needs_background": "light"
     },
     "output_type": "display_data"
    }
   ],
   "source": [
    "x = np.array(loss_hist_trials_horizon_10)\n",
    "m = np.mean(x, axis=0)\n",
    "plt.plot(m)\n",
    "plt.xlabel(\"Steps\")\n",
    "plt.title(\"Horizon 10\")"
   ]
  },
  {
   "cell_type": "code",
   "execution_count": null,
   "metadata": {},
   "outputs": [],
   "source": []
  },
  {
   "cell_type": "code",
   "execution_count": null,
   "metadata": {},
   "outputs": [],
   "source": []
  }
 ],
 "metadata": {
  "kernelspec": {
   "display_name": "Python 3",
   "language": "python",
   "name": "python3"
  },
  "language_info": {
   "codemirror_mode": {
    "name": "ipython",
    "version": 3
   },
   "file_extension": ".py",
   "mimetype": "text/x-python",
   "name": "python",
   "nbconvert_exporter": "python",
   "pygments_lexer": "ipython3",
   "version": "3.7.7"
  }
 },
 "nbformat": 4,
 "nbformat_minor": 4
}
