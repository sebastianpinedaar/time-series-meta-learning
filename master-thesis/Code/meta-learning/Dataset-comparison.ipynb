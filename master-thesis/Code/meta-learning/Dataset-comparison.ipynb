{
 "cells": [
  {
   "cell_type": "code",
   "execution_count": 57,
   "metadata": {},
   "outputs": [],
   "source": [
    "import learn2learn as l2l\n",
    "import numpy as np\n",
    "import matplotlib.pyplot as plt\n",
    "import torch\n",
    "import torch.nn as nn\n",
    "import torch.nn.functional as F\n",
    "import torch.optim as optim\n",
    "import pickle\n",
    "import sys\n",
    "import argparse\n",
    "import os\n",
    "from run_MAML_04 import test2 as test_maml\n",
    "from run_MMAML_04 import test as test_mmaml\n",
    "\n",
    "\n",
    "sys.path.insert(1, \"..\")\n",
    "\n",
    "from ts_dataset import TSDataset\n",
    "from base_models import LSTMModel, FCN\n",
    "from metrics import torch_mae as mae\n",
    "import copy\n",
    "from pytorchtools import EarlyStopping\n",
    "from eval_base_models import test, train, freeze_model\n",
    "from torch.utils.data import Dataset, DataLoader\n",
    "from ts_dataset import DomainTSDataset, SimpleDataset\n",
    "from multimodallearner import get_task_encoder_input\n",
    "from multimodallearner import LSTMDecoder, Lambda, MultimodalLearner\n",
    "from metalearner import MetaLearner\n",
    "from meta_base_models import LinearModel, Task"
   ]
  },
  {
   "cell_type": "code",
   "execution_count": 60,
   "metadata": {},
   "outputs": [],
   "source": [
    "meta_info = {\"POLLUTION\": [5, 50, 14],\n",
    "             \"HR\": [32, 50, 13],\n",
    "             \"BATTERY\": [20, 50, 3] }\n",
    "\n",
    "lower_trial = 0\n",
    "upper_trial = 3\n",
    "learning_rate = 0.01\n",
    "meta_learning_rate = 0.005\n",
    "adaptation_steps = 10\n",
    "batch_size = 20\n",
    "model_name = \"LSTM\"\n",
    "is_test = 1\n",
    "patience_stopping = 20\n",
    "epochs = 1000\n",
    "noise_level = 0.0\n",
    "noise_type = \"additive\"\n",
    "loss_fn = mae\n",
    "\n",
    "dataset_name = \"BATTERY\"\n",
    "#dataset_name = \"HR\"\n",
    "\n",
    "window_size, task_size, input_dim = meta_info[dataset_name]\n",
    "\n",
    "train_data = pickle.load(  open( \"../../Data/TRAIN-\"+dataset_name+\"-W\"+str(window_size)+\"-T\"+str(task_size)+\"-NOML.pickle\", \"rb\" ) )\n",
    "train_data_ML = pickle.load( open( \"../../Data/TRAIN-\"+dataset_name+\"-W\"+str(window_size)+\"-T\"+str(task_size)+\"-ML.pickle\", \"rb\" ) )\n",
    "validation_data = pickle.load( open( \"../../Data/VAL-\"+dataset_name+\"-W\"+str(window_size)+\"-T\"+str(task_size)+\"-NOML.pickle\", \"rb\" ) )\n",
    "validation_data_ML = pickle.load( open( \"../../Data/VAL-\"+dataset_name+\"-W\"+str(window_size)+\"-T\"+str(task_size)+\"-ML.pickle\", \"rb\" ) )\n",
    "test_data = pickle.load( open( \"../../Data/TEST-\"+dataset_name+\"-W\"+str(window_size)+\"-T\"+str(task_size)+\"-NOML.pickle\", \"rb\" ) )\n",
    "test_data_ML = pickle.load( open( \"../../Data/TEST-\"+dataset_name+\"-W\"+str(window_size)+\"-T\"+str(task_size)+\"-ML.pickle\", \"rb\" ) )\n",
    "\n",
    "\n",
    "n_layers_task_net = 2\n",
    "n_layers_task_encoder = 1\n",
    "n_layers_task_decoder = 1\n",
    "\n",
    "hidden_dim_task_net = 120\n",
    "hidden_dim_encoder = 120\n",
    "hidden_dim_decoder = 120\n",
    "\n",
    "# fixed values\n",
    "input_dim_task_net = input_dim\n",
    "input_dim_task_encoder = input_dim + 1\n",
    "output_dim_task_net = 1\n",
    "output_dim_task_decoder = input_dim + 1\n",
    "output_dim = 1\n",
    "modulate_task_net = True\n",
    "\n",
    "\n",
    "\n",
    "device = torch.device(\"cuda:0\" if torch.cuda.is_available() else \"cpu\")\n",
    "\n",
    "\n",
    "task_net = LSTMModel(batch_size=batch_size,\n",
    "                     seq_len=window_size,\n",
    "                     input_dim=input_dim_task_net,\n",
    "                     n_layers=n_layers_task_net,\n",
    "                     hidden_dim=hidden_dim_task_net,\n",
    "                     output_dim=output_dim_task_net)\n",
    "\n",
    "task_encoder = LSTMModel(batch_size=batch_size,\n",
    "                         seq_len=task_size,\n",
    "                         input_dim=input_dim_task_encoder,\n",
    "                         n_layers=n_layers_task_encoder,\n",
    "                         hidden_dim=hidden_dim_encoder,\n",
    "                         output_dim=1)\n",
    "\n",
    "task_decoder = LSTMDecoder(batch_size=1,\n",
    "                           n_layers=n_layers_task_decoder,\n",
    "                           seq_len=task_size,\n",
    "                           output_dim=output_dim_task_decoder,\n",
    "                           hidden_dim=hidden_dim_encoder,\n",
    "                           latent_dim=hidden_dim_decoder,\n",
    "                           device=device)\n",
    "\n",
    "lmbd = Lambda(hidden_dim_encoder, hidden_dim_task_net)\n",
    "\n",
    "\n",
    "multimodal_learner = MultimodalLearner(task_net, task_encoder, task_decoder, lmbd, modulate_task_net)\n",
    "multimodal_learner.to(device)\n",
    "\n",
    "output_layer = nn.Linear(120, 1)\n",
    "output_layer.to(device)\n",
    "\n",
    "maml = l2l.algorithms.MAML(output_layer, lr=learning_rate, first_order=False)\n",
    "opt = optim.Adam(list(maml.parameters()) + list(multimodal_learner.parameters()), lr=meta_learning_rate)\n",
    "\n",
    "\n",
    "task_data_train = torch.FloatTensor(get_task_encoder_input(train_data_ML))\n",
    "task_data_validation = torch.FloatTensor(get_task_encoder_input(validation_data_ML))\n",
    "task_data_test = torch.FloatTensor(get_task_encoder_input(test_data_ML))"
   ]
  },
  {
   "cell_type": "code",
   "execution_count": 61,
   "metadata": {},
   "outputs": [
    {
     "data": {
      "text/plain": [
       "<All keys matched successfully>"
      ]
     },
     "execution_count": 61,
     "metadata": {},
     "output_type": "execute_result"
    }
   ],
   "source": [
    "\n",
    "experiment_id = \"21_COMPARISON\"\n",
    "#experiment_id = \"13_COMPARISON_2\"\n",
    "trial = 1\n",
    "\n",
    "\n",
    "output_directory = \"../../Models/\"+dataset_name+\"_\"+model_name+\"_MMAML/\"+str(trial)+\"/\"\n",
    "save_model_file_ = output_directory + experiment_id + \"_encoder_model.pt\"\n",
    "save_model_file_2 = output_directory + experiment_id + \"_model.pt\"\n",
    "\n",
    "\n",
    "\n",
    "multimodal_learner = MultimodalLearner(task_net, task_encoder, task_decoder, lmbd, modulate_task_net)\n",
    "multimodal_learner.to(device)\n",
    "\n",
    "output_layer = nn.Linear(120, 1)\n",
    "output_layer.to(device)\n",
    "\n",
    "maml = l2l.algorithms.MAML(output_layer, lr=learning_rate, first_order=False)\n",
    "\n",
    "\n",
    "multimodal_learner.load_state_dict(torch.load(save_model_file_))\n",
    "maml.load_state_dict(torch.load(save_model_file_2))\n",
    "    "
   ]
  },
  {
   "cell_type": "code",
   "execution_count": 62,
   "metadata": {},
   "outputs": [
    {
     "name": "stdout",
     "output_type": "stream",
     "text": [
      "(120,)\n",
      "(120, 120)\n"
     ]
    }
   ],
   "source": [
    "task_embeddings_train = multimodal_learner.task_encoder.encoder(task_data_train.to(device)).cpu().detach().numpy()\n",
    "mean_train = np.mean(task_embeddings_train, axis=0)\n",
    "cov_train = np.cov(task_embeddings_train.T)\n",
    "print(mean_train.shape)\n",
    "print(cov_train.shape)"
   ]
  },
  {
   "cell_type": "code",
   "execution_count": 63,
   "metadata": {},
   "outputs": [],
   "source": [
    "task_embeddings_test = multimodal_learner.task_encoder.encoder(task_data_test.to(device)).cpu().detach().numpy()\n",
    "mean_test = np.mean(task_embeddings_test, axis=0)\n",
    "cov_test = np.cov(task_embeddings_test.T)"
   ]
  },
  {
   "cell_type": "code",
   "execution_count": 64,
   "metadata": {},
   "outputs": [],
   "source": [
    "task_embeddings_validation = multimodal_learner.task_encoder.encoder(task_data_validation.to(device)).cpu().detach().numpy()\n",
    "mean_validation = np.mean(task_embeddings_validation, axis=0)\n",
    "cov_validation = np.cov(task_embeddings_validation.T)"
   ]
  },
  {
   "cell_type": "code",
   "execution_count": 67,
   "metadata": {},
   "outputs": [
    {
     "name": "stdout",
     "output_type": "stream",
     "text": [
      "\n",
      "0.2586903624112047\n",
      "\n",
      "0.2924492887492107\n",
      "\n",
      "0.024562105388822086\n"
     ]
    },
    {
     "data": {
      "text/plain": [
       "0.024562105388822086"
      ]
     },
     "execution_count": 67,
     "metadata": {},
     "output_type": "execute_result"
    }
   ],
   "source": [
    "mean1 = mean_train.reshape(-1,1)\n",
    "mean2 = mean_test.reshape(-1,1)\n",
    "cov1 = cov_train\n",
    "cov2 = cov_test\n",
    "\n",
    "def bhatta_dist(mean1, mean2, cov1, cov2):\n",
    "    u=(mean1-mean2)\n",
    "    cov = (cov1+cov2)/2\n",
    "    det1 = np.linalg.det(cov1)\n",
    "    det2 = np.linalg.det(cov2)\n",
    "    det = np.linalg.det(cov)\n",
    "    out = (1/8)*np.dot(np.dot(u.T, np.linalg.inv(cov)),u) \n",
    "    print()\n",
    "    print(out)\n",
    "    return out\n",
    "\n",
    "bhatta_dist(mean_train, mean_test, cov_train, cov_test)\n",
    "bhatta_dist(mean_train, mean_validation, cov_train, cov_validation)\n",
    "bhatta_dist(mean_validation, mean_test, cov_validation, cov_test)\n"
   ]
  },
  {
   "cell_type": "code",
   "execution_count": 38,
   "metadata": {},
   "outputs": [
    {
     "data": {
      "text/plain": [
       "torch.Size([5396, 50, 4])"
      ]
     },
     "execution_count": 38,
     "metadata": {},
     "output_type": "execute_result"
    }
   ],
   "source": [
    "task_data_validation.shape"
   ]
  },
  {
   "cell_type": "code",
   "execution_count": 39,
   "metadata": {},
   "outputs": [
    {
     "data": {
      "text/plain": [
       "torch.Size([5488, 50, 4])"
      ]
     },
     "execution_count": 39,
     "metadata": {},
     "output_type": "execute_result"
    }
   ],
   "source": [
    "task_data_test.shape"
   ]
  },
  {
   "cell_type": "code",
   "execution_count": 49,
   "metadata": {},
   "outputs": [
    {
     "data": {
      "text/plain": [
       "array([[0.08365078],\n",
       "       [0.09991228],\n",
       "       [0.10484059],\n",
       "       ...,\n",
       "       [0.24369114],\n",
       "       [0.23299586],\n",
       "       [0.21694014]])"
      ]
     },
     "execution_count": 49,
     "metadata": {},
     "output_type": "execute_result"
    }
   ],
   "source": [
    "train_data.y"
   ]
  },
  {
   "cell_type": "code",
   "execution_count": 50,
   "metadata": {},
   "outputs": [
    {
     "data": {
      "text/plain": [
       "array([[0.15038585],\n",
       "       [0.15212221],\n",
       "       [0.14820383],\n",
       "       ...,\n",
       "       [0.1974869 ],\n",
       "       [0.19845348],\n",
       "       [0.2100476 ]])"
      ]
     },
     "execution_count": 50,
     "metadata": {},
     "output_type": "execute_result"
    }
   ],
   "source": [
    "validation_data.y"
   ]
  },
  {
   "cell_type": "code",
   "execution_count": 52,
   "metadata": {},
   "outputs": [
    {
     "data": {
      "text/plain": [
       "[<matplotlib.lines.Line2D at 0x238a5677f48>]"
      ]
     },
     "execution_count": 52,
     "metadata": {},
     "output_type": "execute_result"
    },
    {
     "data": {
      "image/png": "[encoded data removed]",
      "text/plain": [
       "<Figure size 432x288 with 1 Axes>"
      ]
     },
     "metadata": {
      "needs_background": "light"
     },
     "output_type": "display_data"
    }
   ],
   "source": [
    "plt.plot(test_data.y)"
   ]
  },
  {
   "cell_type": "code",
   "execution_count": 54,
   "metadata": {},
   "outputs": [
    {
     "data": {
      "text/plain": [
       "[<matplotlib.lines.Line2D at 0x2395bda2e48>]"
      ]
     },
     "execution_count": 54,
     "metadata": {},
     "output_type": "execute_result"
    },
    {
     "data": {
      "image/png": "[encoded data removed]",
      "text/plain": [
       "<Figure size 432x288 with 1 Axes>"
      ]
     },
     "metadata": {
      "needs_background": "light"
     },
     "output_type": "display_data"
    }
   ],
   "source": [
    "plt.plot(validation_data.y)\n",
    "plt.plot(test_data.y)"
   ]
  },
  {
   "cell_type": "code",
   "execution_count": null,
   "metadata": {},
   "outputs": [],
   "source": []
  }
 ],
 "metadata": {
  "kernelspec": {
   "display_name": "Python 3",
   "language": "python",
   "name": "python3"
  },
  "language_info": {
   "codemirror_mode": {
    "name": "ipython",
    "version": 3
   },
   "file_extension": ".py",
   "mimetype": "text/x-python",
   "name": "python",
   "nbconvert_exporter": "python",
   "pygments_lexer": "ipython3",
   "version": "3.7.7"
  }
 },
 "nbformat": 4,
 "nbformat_minor": 4
}
