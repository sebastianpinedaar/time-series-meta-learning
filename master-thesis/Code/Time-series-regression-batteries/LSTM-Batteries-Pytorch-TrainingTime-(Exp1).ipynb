{
 "cells": [
  {
   "cell_type": "code",
   "execution_count": 1,
   "metadata": {},
   "outputs": [],
   "source": [
    "import numpy as np\n",
    "import pandas as pd\n",
    "import matplotlib.pyplot as plt\n",
    "import torch\n",
    "import torch.nn as nn\n",
    "import torch.nn.functional as F\n",
    "import torch.optim as optim\n",
    "import os\n",
    "from torch.utils.data import Dataset, DataLoader\n",
    "import time\n",
    "import winsound\n",
    "from torch.optim.lr_scheduler import ReduceLROnPlateau"
   ]
  },
  {
   "cell_type": "code",
   "execution_count": 2,
   "metadata": {},
   "outputs": [],
   "source": [
    "def pre_process(data, var):\n",
    "    \n",
    "    Q = 60.0  + np.cumsum(data.I)/36000\n",
    "    data[\"Q\"] = Q\n",
    "    return data[var]\n",
    "\n",
    "def windows (data, window_size, stride):\n",
    "    \n",
    "    x = np.array(data)\n",
    "    length = data.shape[0]\n",
    "    windows_list = []\n",
    "    \n",
    "    for i in range(0, length-window_size, stride):\n",
    "        windows_list.append(x[i:i+window_size][np.newaxis,:])\n",
    "        \n",
    "    return tuple(windows_list)\n",
    "\n",
    "\n",
    "class Dataset(object):\n",
    "    \"\"\"An abstract class representing a Dataset.\n",
    "    All other datasets should subclass it. All subclasses should override\n",
    "    ``__len__``, that provides the size of the dataset, and ``__getitem__``,\n",
    "    supporting integer indexing in range from 0 to len(self) exclusive.\n",
    "    \"\"\"\n",
    "    \n",
    "    def __init__(self, data, window_size, stride, scale = 0, max_list=[]):\n",
    "        \n",
    "        x_list = []\n",
    "        y_list = []\n",
    "        \n",
    "        for i in range(0, len(data)-window_size, stride):             \n",
    "            x_list.append(data[i:i+window_size, 1:][np.newaxis,:])\n",
    "            #y_list.append(data[i:i+window_size, 0][np.newaxis,:])\n",
    "            y_list.append(data[i+window_size,0])\n",
    "        \n",
    "        self.x = np.vstack(x_list)\n",
    "        self.y = np.vstack(y_list)\n",
    "        \n",
    "        if scale:\n",
    "           \n",
    "            self.max_list = max_list\n",
    "            \n",
    "        else:\n",
    "            self.max_y = np.max(self.y)\n",
    "            self.max_list = [np.max(np.max(self.x, axis=1), axis=0), self.max_y]\n",
    "            \n",
    "        \n",
    "        self.x = np.divide(self.x, self.max_list[0])\n",
    "        self.y = self.y/self.max_list[-1]\n",
    "        #self.y = (self.y-np.mean(self.y))/np.std(self.y)\n",
    "        \n",
    "        print(\"x shape:\", self.x.shape)\n",
    "        print(\"y shape:\", self.y.shape)\n",
    " \n",
    "\n",
    "    def __getitem__(self, index):\n",
    "        return self.x[index], self.y[index]\n",
    "\n",
    "    def __len__(self):\n",
    "        return self.y.shape[0]\n",
    "\n",
    "    def __add__(self, other):\n",
    "        return ConcatDataset([self, other])\n",
    "   \n",
    "        \n",
    "    \n",
    "def mae(y_pred, y_true):\n",
    "    loss = (torch.abs(y_pred - y_true)).mean()\n",
    "    return loss    \n",
    "\n",
    "class LSTMModel(nn.Module):\n",
    "    \n",
    "    def __init__(self, batch_size, seq_len, input_dim, n_layers, hidden_dim, output_dim, lin_hidden_dim = 100):\n",
    "        super(LSTMModel, self).__init__()\n",
    "\n",
    "        self.lstm = nn.LSTM(input_dim, hidden_dim, n_layers, batch_first=True)\n",
    "        self.linear = nn.Linear(hidden_dim, output_dim)#\n",
    "        self.hidden_dim = hidden_dim\n",
    "        self.batch_size = batch_size\n",
    "        self.n_layers = n_layers\n",
    "        self.hidden = self.init_hidden()\n",
    "        self.input_dim = input_dim\n",
    "        \n",
    "    def init_hidden(self):\n",
    "        # This is what we'll initialise our hidden state as\n",
    "        return (torch.zeros(self.n_layers, self.batch_size, self.hidden_dim),\n",
    "                torch.zeros(self.n_layers, self.batch_size, self.hidden_dim))\n",
    "        \n",
    "    def forward(self, x):\n",
    "        \n",
    "        self.batch_size = len(x)\n",
    "        hidden = self.init_hidden()\n",
    "        output, (hn, cn) = self.lstm(x, hidden)\n",
    "        #out1 = self.linear(output\n",
    "        out1 = self.linear(hn[-1].view(len(x),-1))\n",
    "        #out2 = self.linear2(F.relu(out1))\n",
    "        \n",
    "        #print(output.shape)\n",
    "        #out = self.linear(output.view(len(x),-1))\n",
    "        return out1\n",
    "    \n",
    "class LinearModel(nn.Module):\n",
    "    \n",
    "    def __init__(self, input_dim, output_dim, seq_len):\n",
    "        \n",
    "        super(LinearModel, self).__init__()\n",
    "        self.n_features = input_dim*seq_len\n",
    "        self.linear = nn.Linear(self.n_features, output_dim)\n",
    "        \n",
    "    def forward(self, x):\n",
    "        \n",
    "        out = self.linear(x.view(-1,self.n_features))\n",
    "        return out\n",
    "       \n",
    "def count_parameters(model):\n",
    "    return sum(p.numel() for p in model.parameters() if p.requires_grad)\n",
    "\n",
    "var = [\"U\", \"T\", \"I\", \"Q\"]\n",
    "path = \"C:/Users/Sebastian/Documents/Data Analytics Master/Semester4-Thesis/Datasets/Battery-data/vw/DataLake/DataLake/0/EH_AgingStatus_0Y_Temp_11_rndLC_W.csv\""
   ]
  },
  {
   "cell_type": "code",
   "execution_count": 3,
   "metadata": {},
   "outputs": [
    {
     "data": {
      "text/html": [
       "<div>\n",
       "<style scoped>\n",
       "    .dataframe tbody tr th:only-of-type {\n",
       "        vertical-align: middle;\n",
       "    }\n",
       "\n",
       "    .dataframe tbody tr th {\n",
       "        vertical-align: top;\n",
       "    }\n",
       "\n",
       "    .dataframe thead th {\n",
       "        text-align: right;\n",
       "    }\n",
       "</style>\n",
       "<table border=\"1\" class=\"dataframe\">\n",
       "  <thead>\n",
       "    <tr style=\"text-align: right;\">\n",
       "      <th></th>\n",
       "      <th>U</th>\n",
       "      <th>T</th>\n",
       "      <th>I</th>\n",
       "      <th>Q</th>\n",
       "    </tr>\n",
       "  </thead>\n",
       "  <tbody>\n",
       "    <tr>\n",
       "      <th>0</th>\n",
       "      <td>4.250048</td>\n",
       "      <td>11.0</td>\n",
       "      <td>0.0</td>\n",
       "      <td>60.0</td>\n",
       "    </tr>\n",
       "    <tr>\n",
       "      <th>1</th>\n",
       "      <td>4.250048</td>\n",
       "      <td>11.0</td>\n",
       "      <td>0.0</td>\n",
       "      <td>60.0</td>\n",
       "    </tr>\n",
       "    <tr>\n",
       "      <th>2</th>\n",
       "      <td>4.250048</td>\n",
       "      <td>11.0</td>\n",
       "      <td>0.0</td>\n",
       "      <td>60.0</td>\n",
       "    </tr>\n",
       "    <tr>\n",
       "      <th>3</th>\n",
       "      <td>4.250048</td>\n",
       "      <td>11.0</td>\n",
       "      <td>0.0</td>\n",
       "      <td>60.0</td>\n",
       "    </tr>\n",
       "    <tr>\n",
       "      <th>4</th>\n",
       "      <td>4.250048</td>\n",
       "      <td>11.0</td>\n",
       "      <td>0.0</td>\n",
       "      <td>60.0</td>\n",
       "    </tr>\n",
       "  </tbody>\n",
       "</table>\n",
       "</div>"
      ],
      "text/plain": [
       "          U     T    I     Q\n",
       "0  4.250048  11.0  0.0  60.0\n",
       "1  4.250048  11.0  0.0  60.0\n",
       "2  4.250048  11.0  0.0  60.0\n",
       "3  4.250048  11.0  0.0  60.0\n",
       "4  4.250048  11.0  0.0  60.0"
      ]
     },
     "execution_count": 3,
     "metadata": {},
     "output_type": "execute_result"
    }
   ],
   "source": [
    "data = pd.read_csv(path)\n",
    "data = pre_process(data, var)\n",
    "data.head()"
   ]
  },
  {
   "cell_type": "code",
   "execution_count": 4,
   "metadata": {},
   "outputs": [],
   "source": [
    "stride = 1\n",
    "window_size = 20\n",
    "backcast = window_size\n",
    "forecast = 1\n",
    "train_split = int(len(data)*0.6)\n",
    "val_split = int(len(data)*0.8)\n",
    "batch_size = 1024\n",
    "seq_len = backcast\n",
    "output_dim = forecast\n",
    "input_dim = 3\n",
    "n_layers = 2\n",
    "hidden_dim = 20\n"
   ]
  },
  {
   "cell_type": "code",
   "execution_count": 5,
   "metadata": {},
   "outputs": [
    {
     "name": "stdout",
     "output_type": "stream",
     "text": [
      "x shape: (58220, 20, 3)\n",
      "y shape: (58220, 1)\n",
      "x shape: (19394, 20, 3)\n",
      "y shape: (19394, 1)\n",
      "x shape: (19393, 20, 3)\n",
      "y shape: (19393, 1)\n"
     ]
    }
   ],
   "source": [
    "data = np.array(data)\n",
    "\n",
    "params = {'batch_size': batch_size,\n",
    "          'shuffle': True,\n",
    "          'num_workers': 0}\n",
    "\n",
    "idx = np.arange(len(data))\n",
    "\n",
    "#dont apply it for time series\n",
    "#np.random.shuffle(idx)\n",
    "\n",
    "train_idx = idx[:train_split]\n",
    "val_idx = idx[train_split:val_split]\n",
    "test_idx = idx[val_split:]\n",
    "\n",
    "train_dataset = Dataset(data[train_idx], window_size, stride)\n",
    "train_loader = DataLoader(train_dataset, **params)\n",
    "train_iter = iter(train_loader)\n",
    "\n",
    "test_dataset = Dataset(data[test_idx], window_size, stride, scale = 1, max_list = train_dataset.max_list)\n",
    "test_loader = DataLoader(test_dataset, **params)\n",
    "test_iter = iter(test_loader)\n",
    "\n",
    "val_dataset = Dataset(data[val_idx], window_size, stride, scale = 1, max_list = train_dataset.max_list)\n",
    "val_loader = DataLoader(val_dataset, **params)\n",
    "val_iter = iter(val_loader)\n"
   ]
  },
  {
   "cell_type": "code",
   "execution_count": 29,
   "metadata": {},
   "outputs": [
    {
     "name": "stdout",
     "output_type": "stream",
     "text": [
      "Model size: 5381\n"
     ]
    },
    {
     "ename": "NameError",
     "evalue": "name 'ReduceLROnPlateau' is not defined",
     "output_type": "error",
     "traceback": [
      "\u001b[1;31m---------------------------------------------------------------------------\u001b[0m",
      "\u001b[1;31mNameError\u001b[0m                                 Traceback (most recent call last)",
      "\u001b[1;32m<ipython-input-29-771b1d42b975>\u001b[0m in \u001b[0;36m<module>\u001b[1;34m\u001b[0m\n\u001b[0;32m      4\u001b[0m \u001b[1;33m\u001b[0m\u001b[0m\n\u001b[0;32m      5\u001b[0m \u001b[0moptimizer\u001b[0m \u001b[1;33m=\u001b[0m \u001b[0moptim\u001b[0m\u001b[1;33m.\u001b[0m\u001b[0mAdam\u001b[0m\u001b[1;33m(\u001b[0m\u001b[0mmodel\u001b[0m\u001b[1;33m.\u001b[0m\u001b[0mparameters\u001b[0m\u001b[1;33m(\u001b[0m\u001b[1;33m)\u001b[0m\u001b[1;33m,\u001b[0m \u001b[0mlr\u001b[0m\u001b[1;33m=\u001b[0m\u001b[1;36m0.0001\u001b[0m\u001b[1;33m)\u001b[0m\u001b[1;33m\u001b[0m\u001b[1;33m\u001b[0m\u001b[0m\n\u001b[1;32m----> 6\u001b[1;33m \u001b[0mscheduler\u001b[0m \u001b[1;33m=\u001b[0m \u001b[0mReduceLROnPlateau\u001b[0m\u001b[1;33m(\u001b[0m\u001b[0moptimizer\u001b[0m\u001b[1;33m,\u001b[0m \u001b[1;34m'min'\u001b[0m\u001b[1;33m)\u001b[0m\u001b[1;33m\u001b[0m\u001b[1;33m\u001b[0m\u001b[0m\n\u001b[0m\u001b[0;32m      7\u001b[0m \u001b[1;33m\u001b[0m\u001b[0m\n\u001b[0;32m      8\u001b[0m \u001b[0mmax_epochs\u001b[0m \u001b[1;33m=\u001b[0m \u001b[1;36m100\u001b[0m\u001b[1;33m\u001b[0m\u001b[1;33m\u001b[0m\u001b[0m\n",
      "\u001b[1;31mNameError\u001b[0m: name 'ReduceLROnPlateau' is not defined"
     ]
    }
   ],
   "source": [
    "model = LSTMModel (batch_size, seq_len, input_dim, n_layers, hidden_dim, output_dim)\n",
    "\n",
    "print(\"Model size:\", count_parameters(model))\n",
    "\n",
    "optimizer = optim.Adam(model.parameters(), lr=0.0001)\n",
    "scheduler = ReduceLROnPlateau(optimizer, 'min')\n",
    "\n",
    "max_epochs = 100\n",
    "val_loss_list = []\n",
    "prev_loss = np.inf"
   ]
  },
  {
   "cell_type": "code",
   "execution_count": 30,
   "metadata": {
    "scrolled": false
   },
   "outputs": [
    {
     "name": "stderr",
     "output_type": "stream",
     "text": [
      "C:\\Users\\Sebastian\\Anaconda3\\envs\\pytorch12\\lib\\site-packages\\ipykernel_launcher.py:11: UserWarning: To copy construct from a tensor, it is recommended to use sourceTensor.clone().detach() or sourceTensor.clone().detach().requires_grad_(True), rather than torch.tensor(sourceTensor).\n",
      "  # This is added back by InteractiveShellApp.init_path()\n"
     ]
    },
    {
     "name": "stdout",
     "output_type": "stream",
     "text": [
      "Train loss: 1.062947699549435\n"
     ]
    },
    {
     "name": "stderr",
     "output_type": "stream",
     "text": [
      "C:\\Users\\Sebastian\\Anaconda3\\envs\\pytorch12\\lib\\site-packages\\ipykernel_launcher.py:25: UserWarning: To copy construct from a tensor, it is recommended to use sourceTensor.clone().detach() or sourceTensor.clone().detach().requires_grad_(True), rather than torch.tensor(sourceTensor).\n"
     ]
    },
    {
     "name": "stdout",
     "output_type": "stream",
     "text": [
      "0.9516293089146256\n",
      "Train loss: 0.9968848534115234\n",
      "0.8816539077609293\n",
      "Train loss: 0.9102932552953882\n",
      "0.7759556410969524\n",
      "Train loss: 0.7445524298706566\n",
      "0.5438691276428975\n",
      "Train loss: 0.3475186373740281\n",
      "0.02278980663131627\n",
      "Train loss: 0.03508710575557807\n",
      "0.030854564555727364\n",
      "Train loss: 0.03039245989502541\n",
      "0.02392340015241759\n",
      "Train loss: 0.02764241719565331\n",
      "0.01804293863373897\n",
      "Train loss: 0.023673394866535975\n",
      "0.013656644752158933\n",
      "Train loss: 0.01834090082163624\n",
      "0.01727102650792899\n",
      "Train loss: 0.012625836265154698\n",
      "0.03857292246576964\n",
      "Train loss: 0.010414520762118532\n",
      "0.04727147178947142\n",
      "Train loss: 0.009993273974724218\n",
      "0.05045035225083508\n",
      "Train loss: 0.00974249553033901\n",
      "0.050826733847281404\n",
      "Train loss: 0.009527666697471219\n",
      "0.05041824373056089\n",
      "Train loss: 0.009317095057635076\n",
      "0.0506877635028341\n",
      "Train loss: 0.009108825585008569\n",
      "0.04960506633773138\n",
      "Train loss: 0.008892258506412872\n",
      "0.04920591537088182\n",
      "Train loss: 0.00869294341329814\n",
      "0.04692155964112033\n",
      "Train loss: 0.008481901415954214\n",
      "0.04611661516578319\n",
      "Train loss: 0.008276996774613674\n",
      "0.046138903747642596\n",
      "Train loss: 0.008094998048340095\n",
      "0.04527287377843768\n",
      "Train loss: 0.007896320974023655\n",
      "0.04385602429665912\n",
      "Train loss: 0.007689285477702047\n",
      "0.042502470334480555\n",
      "Train loss: 0.007509911132445965\n",
      "0.04195860653208222\n",
      "Train loss: 0.007313757103572531\n",
      "0.0407838238279204\n",
      "Train loss: 0.007133166086887195\n",
      "0.038869879282509595\n",
      "Train loss: 0.006925980814571685\n",
      "0.0377269371643256\n",
      "Train loss: 0.006736697061790383\n",
      "0.03709114712248983\n",
      "Train loss: 0.006534313371456835\n",
      "0.03630394831903727\n",
      "Train loss: 0.0062756682127683445\n",
      "0.03508035135307277\n",
      "Train loss: 0.0060046113565838015\n",
      "0.03250261404391311\n",
      "Train loss: 0.005647389057573227\n",
      "0.030483629092522637\n",
      "Train loss: 0.005214233907551976\n",
      "0.02791318470962837\n",
      "Train loss: 0.004772230546840868\n",
      "0.025579381043648777\n",
      "Train loss: 0.004347312591307067\n",
      "0.02151733305915527\n",
      "Train loss: 0.004112441067998811\n",
      "0.02042653662876929\n",
      "Train loss: 0.003946473773383948\n",
      "0.019588611374289768\n",
      "Train loss: 0.0038729544353074056\n",
      "0.018043740728330922\n",
      "Train loss: 0.0037112329463781265\n",
      "0.017744492231636974\n",
      "Train loss: 0.0036130414385321685\n",
      "0.01682095992452511\n",
      "Train loss: 0.0035379325878546948\n",
      "0.017017610561286464\n",
      "Train loss: 0.0035040281949438763\n",
      "0.015926296205959038\n",
      "Train loss: 0.0034330431157572703\n",
      "0.014515004730427307\n",
      "Train loss: 0.0033838519778061683\n",
      "0.014481820293757844\n",
      "Train loss: 0.003331108511995354\n",
      "0.014496282207726424\n",
      "Train loss: 0.0033196482295186425\n",
      "0.013103109187058168\n",
      "Train loss: 0.0032931429543220495\n",
      "0.013517822424273613\n",
      "Train loss: 0.0032564554010124057\n",
      "0.01260869875787507\n",
      "Train loss: 0.0032253112882146646\n",
      "0.01228778204907404\n",
      "Train loss: 0.0031974193107846094\n",
      "0.012043299270864966\n",
      "Train loss: 0.003187953950296569\n",
      "0.01239291253790566\n",
      "Train loss: 0.0031714212802843116\n",
      "0.011929506606474278\n",
      "Train loss: 0.0031371923741810625\n",
      "0.011941064210995769\n",
      "Train loss: 0.0031541240527779273\n",
      "0.01129109191148359\n",
      "Train loss: 0.003071257544246962\n",
      "0.012123678065519474\n",
      "Train loss: 0.00307412706609855\n",
      "0.010982279823765944\n",
      "Train loss: 0.0030393130842779293\n",
      "0.011268615229405378\n",
      "Train loss: 0.0030133463310993433\n",
      "0.01049310717459324\n",
      "Train loss: 0.003004607906064696\n",
      "0.0104388908899405\n",
      "Train loss: 0.002996771043337362\n",
      "0.0108280823410567\n",
      "Train loss: 0.0029453413133557127\n",
      "0.0107205951316857\n",
      "Train loss: 0.0029433410684474143\n",
      "0.010221756862563198\n",
      "Train loss: 0.0029274724528343204\n",
      "0.009501080265229209\n",
      "Train loss: 0.0029166710548927\n",
      "0.009801187494547151\n",
      "Train loss: 0.0029269123262121418\n",
      "0.009154388615838003\n",
      "Train loss: 0.0029126659650592327\n",
      "0.009125602643043441\n",
      "Train loss: 0.0028582246877491085\n",
      "0.009670011249794393\n",
      "Train loss: 0.0028419428786383804\n",
      "0.009865339351303633\n",
      "Train loss: 0.0028349677529806677\n",
      "0.009520821753083102\n",
      "Train loss: 0.0028501439562700214\n",
      "0.008974566715646769\n",
      "Train loss: 0.002798794896003692\n",
      "0.008550437834527415\n",
      "Train loss: 0.002800099620127194\n",
      "0.008917299235605662\n",
      "Train loss: 0.0027918421280545055\n",
      "0.008319167084486724\n",
      "Train loss: 0.0027840500444587164\n",
      "0.008809153915370963\n",
      "Train loss: 0.0027703677504206646\n",
      "0.008728856220841408\n",
      "Train loss: 0.002743524369457049\n",
      "0.008143569154347245\n",
      "Train loss: 0.00273594967096312\n",
      "0.00786854681475682\n",
      "Train loss: 0.002724149390928414\n",
      "0.008028868393442239\n",
      "Train loss: 0.0027130409078279013\n",
      "0.008198832183575326\n",
      "Train loss: 0.0027118086885585383\n",
      "0.00719008766238997\n",
      "Train loss: 0.002701250792406461\n",
      "0.00800267368685117\n",
      "Train loss: 0.0026882972187874184\n",
      "0.007757904109937069\n",
      "Train loss: 0.0027030680693330244\n",
      "0.007326277422487278\n",
      "Train loss: 0.0027172096475142357\n",
      "0.007417800684702459\n",
      "Train loss: 0.002659216329179594\n",
      "0.007799283688026314\n",
      "Train loss: 0.0026599921848386916\n",
      "0.007147398423323782\n",
      "Train loss: 0.0026434904071577572\n",
      "0.007262741873979273\n",
      "Train loss: 0.0026381177293429135\n",
      "0.006371473398231339\n",
      "Train loss: 0.002663205257910955\n",
      "0.006939811907092598\n",
      "Train loss: 0.0026275622185411803\n",
      "0.00640033037144185\n",
      "Train loss: 0.0026225511325866863\n",
      "0.0063521274842983835\n",
      "Train loss: 0.0026082297719724552\n",
      "0.006651752931655348\n",
      "Train loss: 0.00262695970007339\n",
      "0.0063721737700239275\n",
      "Train loss: 0.002608383661254406\n",
      "0.0066935957975352125\n",
      "Train loss: 0.0026401680330635498\n",
      "0.006863737238085721\n",
      "Train loss: 0.002612477697432681\n",
      "0.005782065777942628\n",
      "Train loss: 0.0025870272577159575\n",
      "0.005847323155391266\n",
      "Train loss: 0.0025833506965916957\n",
      "0.00659276263048106\n",
      "Train loss: 0.0025639871655243835\n",
      "0.0061388756269776835\n",
      "1073.2865977287292\n"
     ]
    }
   ],
   "source": [
    "\n",
    "\n",
    "\n",
    "start = time.time()\n",
    "\n",
    "\n",
    "for i in range(max_epochs):\n",
    "    \n",
    "    train_iter = iter(train_loader)\n",
    "    train_loss = 0.0\n",
    "    for x_train, y_train in train_iter:\n",
    "    \n",
    "        model.zero_grad()\n",
    "        x_train, y_train = torch.tensor(x_train).float(), torch.tensor(y_train).float()\n",
    "\n",
    "        #model.batch_size = x_train.shape[0]\n",
    "        #hidden_init = model.init_hidden()\n",
    "        y_pred = model(x_train)\n",
    "        loss = mae(y_pred, y_train)\n",
    "        loss.backward()\n",
    "        optimizer.step()\n",
    "        train_loss += loss.data.numpy()*x_train.shape[0]\n",
    "    print(\"Train loss:\", train_loss/len(train_dataset))\n",
    "        \n",
    "        \n",
    "    val_loss = 0.0\n",
    "    for x_val, y_val in val_loader:\n",
    "        x_val, y_val = torch.tensor(x_val).float(), torch.tensor(y_val).float()\n",
    "        #if(x_val.shape[0]==batch_size):\n",
    "        model.batch_size = x_val.shape[0]\n",
    "        hidden_init = model.init_hidden()\n",
    "        y_pred = model(x_val)\n",
    "        val_loss += mae(y_pred, y_val).data.numpy()*x_val.shape[0]\n",
    "    val_loss /= (len(val_dataset)*forecast)\n",
    "    \n",
    "    #if(val_loss>prev_loss):\n",
    "    #    break\n",
    "        \n",
    "    prev_loss = val_loss\n",
    "    val_loss_list.append(val_loss)\n",
    "    print(val_loss)\n",
    "    \n",
    "    \n",
    "end = time.time()\n",
    "print(end - start)\n",
    "\n",
    "frequency = 2500  # Set Frequency To 2500 Hertz\n",
    "duration = 100  # Set Duration To 1000 ms == 1 second\n",
    "winsound.Beep(frequency, duration)"
   ]
  },
  {
   "cell_type": "code",
   "execution_count": 31,
   "metadata": {},
   "outputs": [
    {
     "name": "stdout",
     "output_type": "stream",
     "text": [
      "0.0061388756269776835\n"
     ]
    }
   ],
   "source": [
    "\n",
    "print(val_loss)"
   ]
  },
  {
   "cell_type": "code",
   "execution_count": 34,
   "metadata": {},
   "outputs": [],
   "source": [
    "samples = 10000\n",
    "model.batch_size = samples\n",
    "y_pred = model(torch.tensor(test_dataset.x[1000:1000+samples]).float())\n",
    "y_test = test_dataset.y[1000:(1000+samples)]"
   ]
  },
  {
   "cell_type": "code",
   "execution_count": 35,
   "metadata": {},
   "outputs": [
    {
     "data": {
      "text/plain": [
       "<matplotlib.collections.PathCollection at 0x17c39165648>"
      ]
     },
     "execution_count": 35,
     "metadata": {},
     "output_type": "execute_result"
    },
    {
     "data": {
      "image/png": "[encoded data removed]",
      "text/plain": [
       "<Figure size 432x288 with 1 Axes>"
      ]
     },
     "metadata": {
      "needs_background": "light"
     },
     "output_type": "display_data"
    }
   ],
   "source": [
    "plt.scatter(y_pred.detach().numpy(), y_test)"
   ]
  },
  {
   "cell_type": "code",
   "execution_count": 39,
   "metadata": {},
   "outputs": [
    {
     "data": {
      "text/plain": [
       "<matplotlib.legend.Legend at 0x17c3a6b7648>"
      ]
     },
     "execution_count": 39,
     "metadata": {},
     "output_type": "execute_result"
    },
    {
     "data": {
      "image/png": "[encoded data removed]",
      "text/plain": [
       "<Figure size 432x288 with 1 Axes>"
      ]
     },
     "metadata": {
      "needs_background": "light"
     },
     "output_type": "display_data"
    }
   ],
   "source": [
    "plt.plot(y_pred.detach().numpy())\n",
    "plt.plot( y_test)\n",
    "plt.legend([\"Pred\", \"True\"])"
   ]
  },
  {
   "cell_type": "code",
   "execution_count": 40,
   "metadata": {},
   "outputs": [],
   "source": [
    "samples = 1000\n",
    "model.batch_size = samples\n",
    "y_pred = model(torch.tensor(test_dataset.x[:samples]).float())"
   ]
  },
  {
   "cell_type": "code",
   "execution_count": 41,
   "metadata": {},
   "outputs": [
    {
     "data": {
      "text/plain": [
       "<matplotlib.collections.PathCollection at 0x17c442c6748>"
      ]
     },
     "execution_count": 41,
     "metadata": {},
     "output_type": "execute_result"
    },
    {
     "data": {
      "image/png": "[encoded data removed]",
      "text/plain": [
       "<Figure size 432x288 with 1 Axes>"
      ]
     },
     "metadata": {
      "needs_background": "light"
     },
     "output_type": "display_data"
    }
   ],
   "source": [
    "plt.scatter(y_pred.detach().numpy(), test_dataset.y[:samples])"
   ]
  },
  {
   "cell_type": "code",
   "execution_count": 42,
   "metadata": {},
   "outputs": [
    {
     "data": {
      "text/plain": [
       "[<matplotlib.lines.Line2D at 0x17c442d3648>]"
      ]
     },
     "execution_count": 42,
     "metadata": {},
     "output_type": "execute_result"
    },
    {
     "data": {
      "image/png": "[encoded data removed]",
      "text/plain": [
       "<Figure size 432x288 with 1 Axes>"
      ]
     },
     "metadata": {
      "needs_background": "light"
     },
     "output_type": "display_data"
    }
   ],
   "source": [
    "plt.plot(y_pred.detach().numpy())\n",
    "plt.plot( test_dataset.y[:samples], \"r\")"
   ]
  },
  {
   "cell_type": "code",
   "execution_count": 88,
   "metadata": {},
   "outputs": [
    {
     "data": {
      "text/plain": [
       "[<matplotlib.lines.Line2D at 0x195c1c317c8>]"
      ]
     },
     "execution_count": 88,
     "metadata": {},
     "output_type": "execute_result"
    },
    {
     "data": {
      "image/png": "[encoded data removed]",
      "text/plain": [
       "<Figure size 432x288 with 1 Axes>"
      ]
     },
     "metadata": {
      "needs_background": "light"
     },
     "output_type": "display_data"
    }
   ],
   "source": [
    "plt.plot( test_dataset.y[:samples-500], \"r\")"
   ]
  },
  {
   "cell_type": "code",
   "execution_count": 18,
   "metadata": {},
   "outputs": [
    {
     "data": {
      "text/plain": [
       "[<matplotlib.lines.Line2D at 0x195c07a8788>]"
      ]
     },
     "execution_count": 18,
     "metadata": {},
     "output_type": "execute_result"
    },
    {
     "data": {
      "image/png": "[encoded data removed]",
      "text/plain": [
       "<Figure size 432x288 with 1 Axes>"
      ]
     },
     "metadata": {
      "needs_background": "light"
     },
     "output_type": "display_data"
    }
   ],
   "source": [
    "plt.plot(data[:100000, 0], \"r\")"
   ]
  },
  {
   "cell_type": "code",
   "execution_count": 19,
   "metadata": {},
   "outputs": [
    {
     "data": {
      "text/plain": [
       "[<matplotlib.lines.Line2D at 0x195c08f5948>]"
      ]
     },
     "execution_count": 19,
     "metadata": {},
     "output_type": "execute_result"
    },
    {
     "data": {
      "image/png": "[encoded data removed]",
      "text/plain": [
       "<Figure size 432x288 with 1 Axes>"
      ]
     },
     "metadata": {
      "needs_background": "light"
     },
     "output_type": "display_data"
    }
   ],
   "source": [
    "plt.plot(0.5*data[:, 0])\n"
   ]
  },
  {
   "cell_type": "code",
   "execution_count": 20,
   "metadata": {},
   "outputs": [
    {
     "data": {
      "text/plain": [
       "[<matplotlib.lines.Line2D at 0x195c0963288>]"
      ]
     },
     "execution_count": 20,
     "metadata": {},
     "output_type": "execute_result"
    },
    {
     "data": {
      "image/png": "[encoded data removed]",
      "text/plain": [
       "<Figure size 432x288 with 1 Axes>"
      ]
     },
     "metadata": {
      "needs_background": "light"
     },
     "output_type": "display_data"
    }
   ],
   "source": [
    "plt.plot(data[3000:6000, 1])\n",
    "plt.plot(data[3000:6000, 2]*0.01)\n",
    "plt.plot(data[3000:6000, 3]/60+4+0.5*np.random.random(3000))"
   ]
  },
  {
   "cell_type": "code",
   "execution_count": 50,
   "metadata": {},
   "outputs": [
    {
     "data": {
      "text/plain": [
       "[<matplotlib.lines.Line2D at 0x20415f96d08>]"
      ]
     },
     "execution_count": 50,
     "metadata": {},
     "output_type": "execute_result"
    },
    {
     "data": {
      "image/png": "[encoded data removed]",
      "text/plain": [
       "<Figure size 432x288 with 1 Axes>"
      ]
     },
     "metadata": {
      "needs_background": "light"
     },
     "output_type": "display_data"
    }
   ],
   "source": [
    "plt.plot(data[3000:5000, 0])\n"
   ]
  },
  {
   "cell_type": "code",
   "execution_count": null,
   "metadata": {},
   "outputs": [],
   "source": []
  }
 ],
 "metadata": {
  "kernelspec": {
   "display_name": "Python 3",
   "language": "python",
   "name": "python3"
  },
  "language_info": {
   "codemirror_mode": {
    "name": "ipython",
    "version": 3
   },
   "file_extension": ".py",
   "mimetype": "text/x-python",
   "name": "python",
   "nbconvert_exporter": "python",
   "pygments_lexer": "ipython3",
   "version": "3.7.7"
  }
 },
 "nbformat": 4,
 "nbformat_minor": 4
}
