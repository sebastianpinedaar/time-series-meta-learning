{
 "cells": [
  {
   "cell_type": "code",
   "execution_count": 15,
   "metadata": {},
   "outputs": [
    {
     "data": {
      "image/png": "[encoded data removed]",
      "text/plain": [
       "<Figure size 432x288 with 1 Axes>"
      ]
     },
     "metadata": {
      "needs_background": "light"
     },
     "output_type": "display_data"
    }
   ],
   "source": [
    "import matplotlib.pyplot as plt\n",
    "from matplotlib.dates import date2num\n",
    "import datetime\n",
    "import numpy as np\n",
    "x = [\n",
    "    datetime.datetime(2011, 1, 4, 0, 0),\n",
    "    datetime.datetime(2011, 1, 5, 0, 0),\n",
    "    datetime.datetime(2011, 1, 6, 0, 0)\n",
    "]\n",
    "x = date2num(x)\n",
    "\n",
    "y = [4, 9, 2]\n",
    "z = [1, 2, 3]\n",
    "k = [11, 12, 13]\n",
    "\n",
    "ax = plt.subplot(111)\n",
    "ax.bar(x-0.2, y, width=0.2, color='b', align='center')\n",
    "ax.bar(x, z, width=0.2, color='g', align='center')\n",
    "ax.bar(x+0.2, k, width=0.2, color='r', align='center')\n",
    "ax.xaxis_date()\n",
    "\n",
    "ax.set_xticklabels([\"resnet\", \"vrada\", \"lstm\"])\n",
    "\n",
    "plt.show()"
   ]
  },
  {
   "cell_type": "code",
   "execution_count": 56,
   "metadata": {},
   "outputs": [
    {
     "data": {
      "text/plain": [
       "[Text(0, 0, '1S-1H'),\n",
       " Text(0, 0, '1S-10H'),\n",
       " Text(0, 0, '10S-1H'),\n",
       " Text(0, 0, '10S-10H')]"
      ]
     },
     "execution_count": 56,
     "metadata": {},
     "output_type": "execute_result"
    },
    {
     "data": {
      "image/png": "[encoded data removed]",
      "text/plain": [
       "<Figure size 432x288 with 1 Axes>"
      ]
     },
     "metadata": {
      "needs_background": "light"
     },
     "output_type": "display_data"
    }
   ],
   "source": [
    "resnet_poll = [0.046249-0.049088, 0.045918-0.050184, 0.045918-0.051942, 0.046249-0.047287]\n",
    "vradac_poll = [0.044605-0.044366, 0.043004-0.042831, 0.044605-0.043834, 0.043004-0.042978]\n",
    "vradas_poll = [0.044031-0.043274, 0.042668-0.042291, 0.044031-0.045991, 0.042668-0.044174]\n",
    "lstm_poll = [0.047803-0.046712, 0.044964-0.044580, 0.047803-0.046340, 0.044964-0.043697]\n",
    "maml_poll = [0.045158-0.042198, 0.042444-0.041767, 0.045158-0.042343, 0.042444-0.041609]\n",
    "mmaml_poll = [0.051570-0.040982, 0.051201-0.041663, 0.051570- 0.041127, 0.051201-0.042036]\n",
    "models = [\"Resnet\", \"VRADA-C\", \"VRADA-S\", \"LSTM\", \"MAML\", \"MMAML\"]\n",
    "cmap = plt.get_cmap(\"Set1\")\n",
    "x= np.array([1.5,3,4.5,6])\n",
    "ax = plt.subplot(111)\n",
    "ax.bar(x-0.6, resnet_poll, width=0.2, color=cmap(0.4), align='center')\n",
    "ax.bar(x-0.4, vradac_poll, width=0.2, color=cmap(0.5), align='center')\n",
    "ax.bar(x-0.2, vradas_poll, width=0.2, color=cmap(0.6), align='center')\n",
    "ax.bar(x, lstm_poll, width=0.2, color=cmap(0.7), align='center')\n",
    "ax.bar(x+0.2, maml_poll, width=0.2, color=cmap(0.8), align='center')\n",
    "ax.bar(x+0.4, maml_poll, width=0.2, color=cmap(0.9), align='center')\n",
    "plt.legend(models)\n",
    "ax.set_xticks(x)\n",
    "ax.set_xticklabels([\"1S-1H\", \"1S-10H\", \"10S-1H\", \"10S-10H\"])\n"
   ]
  },
  {
   "cell_type": "code",
   "execution_count": 11,
   "metadata": {},
   "outputs": [
    {
     "data": {
      "text/plain": [
       "[-0.0028390000000000012,\n",
       " -0.004265999999999999,\n",
       " -0.006024000000000002,\n",
       " -0.0010380000000000042]"
      ]
     },
     "execution_count": 11,
     "metadata": {},
     "output_type": "execute_result"
    }
   ],
   "source": [
    "resnet_poll"
   ]
  },
  {
   "cell_type": "code",
   "execution_count": null,
   "metadata": {},
   "outputs": [],
   "source": []
  }
 ],
 "metadata": {
  "kernelspec": {
   "display_name": "Python 3",
   "language": "python",
   "name": "python3"
  },
  "language_info": {
   "codemirror_mode": {
    "name": "ipython",
    "version": 3
   },
   "file_extension": ".py",
   "mimetype": "text/x-python",
   "name": "python",
   "nbconvert_exporter": "python",
   "pygments_lexer": "ipython3",
   "version": "3.7.7"
  }
 },
 "nbformat": 4,
 "nbformat_minor": 4
}
